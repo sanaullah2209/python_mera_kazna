{
 "cells": [
  {
   "cell_type": "markdown",
   "id": "bbd72260-2528-4269-af3f-18e6000f8dad",
   "metadata": {},
   "source": [
    "# More on Functions  \n",
    "                    -return\n",
    "                    - global and local variable "
   ]
  },
  {
   "cell_type": "code",
   "execution_count": 6,
   "id": "7fe6a2c0-8e81-470f-bcd8-967d7f885bec",
   "metadata": {},
   "outputs": [],
   "source": [
    "name = \"test\"\n",
    "def generate_profile(name,email,age):\n",
    "    master = {} #local varaiable\n",
    "    profile = {'name':name,'email':email,'age':age}\n",
    "    return profile\n",
    "    \n",
    "    "
   ]
  },
  {
   "cell_type": "code",
   "execution_count": 7,
   "id": "298784d8-c9b8-4f60-9fd4-d86ee09c5215",
   "metadata": {},
   "outputs": [
    {
     "data": {
      "text/plain": [
       "{'name': 'sanaullah', 'email': 'irmakhan@gmail.com', 'age': 22}"
      ]
     },
     "execution_count": 7,
     "metadata": {},
     "output_type": "execute_result"
    }
   ],
   "source": [
    "generate_profile(name=\"sanaullah\",email=\"irmakhan@gmail.com\",age=22)"
   ]
  },
  {
   "cell_type": "code",
   "execution_count": 8,
   "id": "9339e476-a77e-4f69-ae0d-2965134292e3",
   "metadata": {},
   "outputs": [
    {
     "ename": "NameError",
     "evalue": "name 'profile' is not defined",
     "output_type": "error",
     "traceback": [
      "\u001b[1;31m---------------------------------------------------------------------------\u001b[0m",
      "\u001b[1;31mNameError\u001b[0m                                 Traceback (most recent call last)",
      "Cell \u001b[1;32mIn[8], line 2\u001b[0m\n\u001b[0;32m      1\u001b[0m \u001b[38;5;66;03m#hum local varaible ko access nahi kar sakte \u001b[39;00m\n\u001b[1;32m----> 2\u001b[0m \u001b[38;5;28mprint\u001b[39m(profile)\n",
      "\u001b[1;31mNameError\u001b[0m: name 'profile' is not defined"
     ]
    }
   ],
   "source": [
    "\n",
    "#hum local varaible ko access nahi kar sakte \n",
    "print(profile)"
   ]
  },
  {
   "cell_type": "code",
   "execution_count": 11,
   "id": "bdcac813-62f5-458f-8764-d77c19f50bb9",
   "metadata": {},
   "outputs": [],
   "source": [
    "#we dont change the value of the print\n",
    "def add(a,b):\n",
    "    print(a+b)"
   ]
  },
  {
   "cell_type": "code",
   "execution_count": 15,
   "id": "d8787098-3932-48d9-906c-a9cf4f09abe3",
   "metadata": {},
   "outputs": [
    {
     "name": "stdout",
     "output_type": "stream",
     "text": [
      "30\n"
     ]
    }
   ],
   "source": [
    "#hum is 30  ko change nahi karsakte print tume sirf output deta ha tume value return nahi karta \n",
    "add(10,20)\n"
   ]
  },
  {
   "cell_type": "code",
   "execution_count": 19,
   "id": "501588c9-73ca-42ed-b38a-23b34ba1ad7a",
   "metadata": {},
   "outputs": [
    {
     "name": "stdout",
     "output_type": "stream",
     "text": [
      "4\n"
     ]
    }
   ],
   "source": [
    " # ya srif ap ko dekta ha deta nahi ha value \n",
    "print(add(1,3))\n"
   ]
  },
  {
   "cell_type": "code",
   "execution_count": 21,
   "id": "4ad3f8fd-3c7b-4c20-8b78-d688457fca23",
   "metadata": {},
   "outputs": [],
   "source": [
    "def add(a,b):\n",
    "    return a+b"
   ]
  },
  {
   "cell_type": "raw",
   "id": "3a0076e4-73fd-4589-a1ad-3e7911f9e5ea",
   "metadata": {},
   "source": [
    "print(add(2,3))"
   ]
  },
  {
   "cell_type": "code",
   "execution_count": 22,
   "id": "c98f9ad3-18f9-424a-ac9b-10a279cdc5e7",
   "metadata": {},
   "outputs": [],
   "source": [
    "def add(a,b):\n",
    "    return a+b, \"Pakistan zind\""
   ]
  },
  {
   "cell_type": "code",
   "execution_count": 23,
   "id": "a34e9b78-cea9-49b4-9495-d009a88a4883",
   "metadata": {},
   "outputs": [
    {
     "data": {
      "text/plain": [
       "(9, 'Pakistan zind')"
      ]
     },
     "execution_count": 23,
     "metadata": {},
     "output_type": "execute_result"
    }
   ],
   "source": [
    "add(4,5)"
   ]
  },
  {
   "cell_type": "code",
   "execution_count": 25,
   "id": "cfa9bff2-5a99-4029-b7a9-75f6bf0049c2",
   "metadata": {},
   "outputs": [],
   "source": [
    "#sales:main  commsion calc \n",
    "#tax calc\n",
    "#payement "
   ]
  },
  {
   "cell_type": "code",
   "execution_count": 3,
   "id": "805c937b-2de3-405c-a9e8-73d9220d66c5",
   "metadata": {},
   "outputs": [],
   "source": [
    "def commisoncalc(units):\n",
    "      if units >= 500:\n",
    "          return 10000\n",
    "      elif units >= 250:\n",
    "          return 5000\n",
    "      elif units >= 100:\n",
    "          return 2000\n",
    "      else:\n",
    "       return 1000\n",
    "    \n",
    "           \n",
    "     "
   ]
  },
  {
   "cell_type": "code",
   "execution_count": 7,
   "id": "0157507b-00c0-4750-8f2c-e6e81488db15",
   "metadata": {},
   "outputs": [],
   "source": [
    "def Texcalc(income):\n",
    "    if income >=50000:\n",
    "        return income*0.10\n",
    "    elif income>=40000:\n",
    "        return income*0.05\n",
    "    elif income>=30000:\n",
    "        return income*0.03\n",
    "    else:\n",
    "        return income*0\n",
    "   "
   ]
  },
  {
   "cell_type": "code",
   "execution_count": 38,
   "id": "d30cafc6-9eb2-4219-8768-c58099f7108a",
   "metadata": {},
   "outputs": [],
   "source": [
    "def salarycalcualtor(basic,units_sales):\n",
    "    commission = commisoncalc(units_sales)\n",
    "    total = basic+commission\n",
    "    tax = Texcalc(total)\n",
    "    net = total - tax\n",
    "    return net\n",
    "    \n",
    "    "
   ]
  },
  {
   "cell_type": "code",
   "execution_count": 39,
   "id": "979964f3-3836-42a8-9892-2b3eca163989",
   "metadata": {},
   "outputs": [
    {
     "data": {
      "text/plain": [
       "46800.0"
      ]
     },
     "execution_count": 39,
     "metadata": {},
     "output_type": "execute_result"
    }
   ],
   "source": [
    "salarycalcualtor(50000,120)"
   ]
  },
  {
   "cell_type": "code",
   "execution_count": 11,
   "id": "1ce4d349-8199-4b86-a722-c3bc0813fb1d",
   "metadata": {},
   "outputs": [
    {
     "ename": "IndentationError",
     "evalue": "unexpected indent (4014142981.py, line 3)",
     "output_type": "error",
     "traceback": [
      "\u001b[1;36m  Cell \u001b[1;32mIn[11], line 3\u001b[1;36m\u001b[0m\n\u001b[1;33m    for a in lst:\u001b[0m\n\u001b[1;37m    ^\u001b[0m\n\u001b[1;31mIndentationError\u001b[0m\u001b[1;31m:\u001b[0m unexpected indent\n"
     ]
    }
   ],
   "source": [
    "def sum_list(lst):\n",
    "  s = 0\n",
    "    for a in lst:\n",
    "       s+=a\n",
    "    return s\n",
    "    \n",
    "       \n",
    "    #we dont use taht #  return sum(lst)"
   ]
  },
  {
   "cell_type": "code",
   "execution_count": 47,
   "id": "f870db4e-c3e6-4d07-84fb-4aa9742b0b44",
   "metadata": {},
   "outputs": [
    {
     "name": "stdout",
     "output_type": "stream",
     "text": [
      "1\n",
      "2\n",
      "3\n",
      "4\n",
      "5\n",
      "6\n",
      "7\n",
      "8\n",
      "9\n",
      "10\n"
     ]
    }
   ],
   "source": [
    "sum_list([1,2,3,4,5,6,7,8,9,10])"
   ]
  },
  {
   "cell_type": "code",
   "execution_count": 95,
   "id": "ef23bb93-a3d6-4b0f-a59a-073c522b7914",
   "metadata": {},
   "outputs": [],
   "source": [
    "def max_list(lst):\n",
    "    max_num = lst[0]\n",
    "    for n in lst:\n",
    "        if n> max_num:\n",
    "            max_num = n\n",
    "    return max_num\n",
    "            "
   ]
  },
  {
   "cell_type": "code",
   "execution_count": 96,
   "id": "aa2401cd-dc2f-4c78-ac98-fcd318482731",
   "metadata": {},
   "outputs": [
    {
     "data": {
      "text/plain": [
       "33"
      ]
     },
     "execution_count": 96,
     "metadata": {},
     "output_type": "execute_result"
    }
   ],
   "source": [
    "max_list([13,24,33,4,5,6,7,8,9,10])"
   ]
  },
  {
   "cell_type": "code",
   "execution_count": 84,
   "id": "34a2a816-33e5-46b9-a84d-2afacc6f8bca",
   "metadata": {},
   "outputs": [],
   "source": [
    "\n",
    "def sqare_dic(n):\n",
    "  sq = {}\n",
    "  for a in range(1,n+1):\n",
    "    square = a**2\n",
    "    sq[a]= square  \n",
    "  return sq"
   ]
  },
  {
   "cell_type": "code",
   "execution_count": 85,
   "id": "2fadecc9-9e8e-45b5-9463-d3bbf67ec8ba",
   "metadata": {},
   "outputs": [
    {
     "data": {
      "text/plain": [
       "{1: 1, 2: 4, 3: 9, 4: 16, 5: 25, 6: 36, 7: 49, 8: 64, 9: 81, 10: 100}"
      ]
     },
     "execution_count": 85,
     "metadata": {},
     "output_type": "execute_result"
    }
   ],
   "source": [
    "sqare_dic(10)"
   ]
  },
  {
   "cell_type": "code",
   "execution_count": 86,
   "id": "0a98063e-2f2a-41d2-882f-e9b6bb572e40",
   "metadata": {},
   "outputs": [],
   "source": [
    "#comma seprated value 4 digits  binary numbers\n",
    "#binary number isa number system ha jis ma 2 number use hote ha 0,1"
   ]
  },
  {
   "cell_type": "code",
   "execution_count": 87,
   "id": "e606302b-afc7-4674-b9cd-30f2257d20a7",
   "metadata": {},
   "outputs": [
    {
     "name": "stdin",
     "output_type": "stream",
     "text": [
      "enter value 1010,1,0101011,11101,1110\n"
     ]
    }
   ],
   "source": [
    "\n",
    "bn =  input(\"enter value 4 digit binary numbers\").split(\",\")\n",
    "for n in bn:\n",
    "    if int(n)%5==0"
   ]
  },
  {
   "cell_type": "code",
   "execution_count": 88,
   "id": "c2a553ed-010c-41fa-963e-fad78a1ced5f",
   "metadata": {},
   "outputs": [
    {
     "data": {
      "text/plain": [
       "['1010', '1', '0101011', '11101', '1110']"
      ]
     },
     "execution_count": 88,
     "metadata": {},
     "output_type": "execute_result"
    }
   ],
   "source": [
    "bn"
   ]
  },
  {
   "cell_type": "code",
   "execution_count": 90,
   "id": "f3f03da9-0e8e-42be-9689-4db80391b911",
   "metadata": {},
   "outputs": [
    {
     "data": {
      "text/plain": [
       "1010"
      ]
     },
     "execution_count": 90,
     "metadata": {},
     "output_type": "execute_result"
    }
   ],
   "source": [
    "int(1010)"
   ]
  },
  {
   "cell_type": "code",
   "execution_count": 91,
   "id": "4abae3ff-ad56-4950-a1ac-709c1328f18a",
   "metadata": {},
   "outputs": [
    {
     "data": {
      "text/plain": [
       "10"
      ]
     },
     "execution_count": 91,
     "metadata": {},
     "output_type": "execute_result"
    }
   ],
   "source": [
    "int(0b1010)"
   ]
  },
  {
   "cell_type": "code",
   "execution_count": 92,
   "id": "48beee3f-a8f8-4cbf-9895-b35f38cbcefd",
   "metadata": {},
   "outputs": [
    {
     "data": {
      "text/plain": [
       "'0b1010'"
      ]
     },
     "execution_count": 92,
     "metadata": {},
     "output_type": "execute_result"
    }
   ],
   "source": [
    "bin(10)"
   ]
  },
  {
   "cell_type": "code",
   "execution_count": null,
   "id": "d7ea293e-03b9-4582-bdea-bae092b57f36",
   "metadata": {},
   "outputs": [],
   "source": []
  }
 ],
 "metadata": {
  "kernelspec": {
   "display_name": "Python [conda env:base] *",
   "language": "python",
   "name": "conda-base-py"
  },
  "language_info": {
   "codemirror_mode": {
    "name": "ipython",
    "version": 3
   },
   "file_extension": ".py",
   "mimetype": "text/x-python",
   "name": "python",
   "nbconvert_exporter": "python",
   "pygments_lexer": "ipython3",
   "version": "3.12.7"
  }
 },
 "nbformat": 4,
 "nbformat_minor": 5
}
