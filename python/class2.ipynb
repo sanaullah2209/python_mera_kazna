{
 "cells": [
  {
   "cell_type": "code",
   "execution_count": 1,
   "id": "983d5f9f-067d-4b85-84ce-a2fbe1146aed",
   "metadata": {},
   "outputs": [
    {
     "name": "stdout",
     "output_type": "stream",
     "text": [
      "python programing fundamentals\n"
     ]
    }
   ],
   "source": [
    "print(\"python programing fundamentals\")"
   ]
  },
  {
   "cell_type": "code",
   "execution_count": 2,
   "id": "63d0c671-ccfc-495a-9cdf-58cc64d33f1f",
   "metadata": {},
   "outputs": [
    {
     "name": "stdout",
     "output_type": "stream",
     "text": [
      "Hello world\n"
     ]
    }
   ],
   "source": [
    "print(\"Hello\",\"world\")\n"
   ]
  },
  {
   "cell_type": "code",
   "execution_count": 3,
   "id": "3299ce40-0f5b-42bf-b129-d02e8b09cc25",
   "metadata": {},
   "outputs": [
    {
     "name": "stdout",
     "output_type": "stream",
     "text": [
      "100\n"
     ]
    }
   ],
   "source": [
    "print(100)"
   ]
  },
  {
   "cell_type": "code",
   "execution_count": 4,
   "id": "15d64f06-c875-4740-b1f4-8b7001d77e57",
   "metadata": {},
   "outputs": [
    {
     "name": "stdout",
     "output_type": "stream",
     "text": [
      "100 200 300 400 500\n"
     ]
    }
   ],
   "source": [
    "print(100,200,300,400,500)"
   ]
  },
  {
   "cell_type": "code",
   "execution_count": 5,
   "id": "adb2227a-1e10-44e5-8669-e9f1254716b2",
   "metadata": {},
   "outputs": [
    {
     "name": "stdout",
     "output_type": "stream",
     "text": [
      "100 i am text\n"
     ]
    }
   ],
   "source": [
    "print(100,\"i am text\")"
   ]
  },
  {
   "cell_type": "code",
   "execution_count": 7,
   "id": "1d851863-33bb-4a85-9b84-f0b000d5cc8e",
   "metadata": {},
   "outputs": [
    {
     "name": "stdout",
     "output_type": "stream",
     "text": [
      "100sanaullah200sanaullah300sanaullah400\n"
     ]
    }
   ],
   "source": [
    "print(100,200,300,400, sep=\"sanaullah\")"
   ]
  },
  {
   "cell_type": "markdown",
   "id": "42c1a4e7-349f-4dc1-9757-5c146300b184",
   "metadata": {},
   "source": [
    "# all the value in the bracket are Data\n"
   ]
  },
  {
   "cell_type": "markdown",
   "id": "f21daab8-dc40-4d8a-ae64-580fbbdbcde2",
   "metadata": {},
   "source": [
    "#data kitne type ka hota ha "
   ]
  },
  {
   "cell_type": "markdown",
   "id": "18c3ca6b-3599-4cc2-8b4c-6119f79cdd64",
   "metadata": {},
   "source": [
    "### Numbers\n",
    "### Text"
   ]
  },
  {
   "cell_type": "markdown",
   "id": "e6a99792-f4f3-4014-92a0-af39e0e38a84",
   "metadata": {},
   "source": [
    "# Data types \n",
    "    -Numbers\n",
    "       - Whole : integers >>> int\n",
    "       - Decimal :flaots >>> float\n",
    "    -Text \n",
    "        - \"cahracter/word/senetene/paragraph\":strings : str\n",
    "    -Boolean :true /false :bool (True/false) \n",
    "        "
   ]
  },
  {
   "cell_type": "code",
   "execution_count": 8,
   "id": "66ccbace-2741-497a-8ea7-311766c6c1e8",
   "metadata": {},
   "outputs": [
    {
     "name": "stdout",
     "output_type": "stream",
     "text": [
      "string data \n"
     ]
    }
   ],
   "source": [
    "print(\"string data \")"
   ]
  },
  {
   "cell_type": "code",
   "execution_count": 9,
   "id": "73577957-ced7-43ae-9fbd-23b5d614aaa5",
   "metadata": {},
   "outputs": [
    {
     "name": "stdout",
     "output_type": "stream",
     "text": [
      "100 \n"
     ]
    }
   ],
   "source": [
    "print(\"100\", \"\")"
   ]
  },
  {
   "cell_type": "code",
   "execution_count": 10,
   "id": "a31f644b-8c6a-4fa7-80dd-fc11deb5ab27",
   "metadata": {},
   "outputs": [
    {
     "name": "stdout",
     "output_type": "stream",
     "text": [
      "100\n"
     ]
    }
   ],
   "source": [
    "print(100)"
   ]
  },
  {
   "cell_type": "code",
   "execution_count": 12,
   "id": "fe0a3f3f-1be6-41e3-ab04-f35feffa2c40",
   "metadata": {},
   "outputs": [
    {
     "name": "stdout",
     "output_type": "stream",
     "text": [
      "<class 'float'>\n"
     ]
    }
   ],
   "source": [
    "print(type(12.33))"
   ]
  },
  {
   "cell_type": "code",
   "execution_count": 13,
   "id": "c86646a6-654e-4553-a4c7-c27c3396b5c3",
   "metadata": {},
   "outputs": [
    {
     "name": "stdout",
     "output_type": "stream",
     "text": [
      "<class 'str'>\n"
     ]
    }
   ],
   "source": [
    "print(type(\"sanaullah\"))"
   ]
  },
  {
   "cell_type": "code",
   "execution_count": 14,
   "id": "ed181241-048c-46f9-944c-60f201aa3814",
   "metadata": {},
   "outputs": [
    {
     "name": "stdout",
     "output_type": "stream",
     "text": [
      "<class 'int'>\n"
     ]
    }
   ],
   "source": [
    "print(type(12))"
   ]
  },
  {
   "cell_type": "code",
   "execution_count": 15,
   "id": "afd16d39-7f33-40ef-9f03-06aa84ac5710",
   "metadata": {},
   "outputs": [
    {
     "name": "stdout",
     "output_type": "stream",
     "text": [
      "<class 'bool'>\n"
     ]
    }
   ],
   "source": [
    "print(type(True))"
   ]
  },
  {
   "cell_type": "markdown",
   "id": "fe8af6bc-d5f7-4ab4-95ab-fc50f4b3d94a",
   "metadata": {},
   "source": [
    "#Variables \n",
    " ise value jo change able ho use variable kahte ha  hame ake identifer bannata hota ha variable kelye"
   ]
  },
  {
   "cell_type": "markdown",
   "id": "d518836b-c437-483a-8f53-2e58b9f2fca8",
   "metadata": {},
   "source": [
    "# Variabels"
   ]
  },
  {
   "cell_type": "code",
   "execution_count": 18,
   "id": "00b5736e-99fb-4ea0-bc5b-814f32d5d256",
   "metadata": {},
   "outputs": [],
   "source": [
    "course = \"Data Sciences and AI\"\n"
   ]
  },
  {
   "cell_type": "code",
   "execution_count": 19,
   "id": "6f55a588-f1ea-40fa-8995-ab5ee340ad48",
   "metadata": {},
   "outputs": [
    {
     "data": {
      "text/plain": [
       "'Data Sciences and AI'"
      ]
     },
     "execution_count": 19,
     "metadata": {},
     "output_type": "execute_result"
    }
   ],
   "source": [
    "course"
   ]
  },
  {
   "cell_type": "code",
   "execution_count": 20,
   "id": "db421096-1327-4c88-8b1f-a69789f101e3",
   "metadata": {},
   "outputs": [],
   "source": [
    "course = \"Python for ai \""
   ]
  },
  {
   "cell_type": "code",
   "execution_count": 21,
   "id": "bf245f38-c9b1-4355-bdf6-aff23d513748",
   "metadata": {},
   "outputs": [
    {
     "data": {
      "text/plain": [
       "'Python for ai '"
      ]
     },
     "execution_count": 21,
     "metadata": {},
     "output_type": "execute_result"
    }
   ],
   "source": [
    "course"
   ]
  },
  {
   "cell_type": "code",
   "execution_count": 22,
   "id": "9861ed5d-8456-4617-9d34-550341361f1b",
   "metadata": {},
   "outputs": [],
   "source": [
    "marks =  100"
   ]
  },
  {
   "cell_type": "code",
   "execution_count": 24,
   "id": "8336141a-601d-4011-897f-9704384f9293",
   "metadata": {},
   "outputs": [
    {
     "data": {
      "text/plain": [
       "int"
      ]
     },
     "execution_count": 24,
     "metadata": {},
     "output_type": "execute_result"
    }
   ],
   "source": [
    "type(marks)"
   ]
  },
  {
   "cell_type": "markdown",
   "id": "18bba320-2774-44e1-b4d6-3925857d550e",
   "metadata": {},
   "source": [
    "# Variable naming \n"
   ]
  },
  {
   "cell_type": "code",
   "execution_count": 25,
   "id": "a5ef6689-80d6-421a-ace0-6def334de2e5",
   "metadata": {},
   "outputs": [
    {
     "ename": "SyntaxError",
     "evalue": "invalid decimal literal (1033241349.py, line 2)",
     "output_type": "error",
     "traceback": [
      "\u001b[1;36m  Cell \u001b[1;32mIn[25], line 2\u001b[1;36m\u001b[0m\n\u001b[1;33m    1student = \"Ali\"\u001b[0m\n\u001b[1;37m    ^\u001b[0m\n\u001b[1;31mSyntaxError\u001b[0m\u001b[1;31m:\u001b[0m invalid decimal literal\n"
     ]
    }
   ],
   "source": [
    "  #variable name should not start with a number\n",
    "1student = \"Ali\""
   ]
  },
  {
   "cell_type": "code",
   "execution_count": 26,
   "id": "2ab80720-e6bd-4eb6-991b-aac3187ddb42",
   "metadata": {},
   "outputs": [
    {
     "ename": "SyntaxError",
     "evalue": "cannot assign to expression here. Maybe you meant '==' instead of '='? (3794517947.py, line 2)",
     "output_type": "error",
     "traceback": [
      "\u001b[1;36m  Cell \u001b[1;32mIn[26], line 2\u001b[1;36m\u001b[0m\n\u001b[1;33m    father@name  = \"khan\"\u001b[0m\n\u001b[1;37m    ^\u001b[0m\n\u001b[1;31mSyntaxError\u001b[0m\u001b[1;31m:\u001b[0m cannot assign to expression here. Maybe you meant '==' instead of '='?\n"
     ]
    }
   ],
   "source": [
    "#n0 special charaters are allowed.\n",
    "father@name  = \"khan\"\n",
    "father-name = \"khan\"\n",
    "father.name = \"asad\"\n",
    "father.$name = \"imrankhan\"\n"
   ]
  },
  {
   "cell_type": "code",
   "execution_count": 27,
   "id": "c50215fc-fd69-46a7-9da4-e15acacdc49c",
   "metadata": {},
   "outputs": [
    {
     "ename": "SyntaxError",
     "evalue": "invalid syntax (2623996056.py, line 2)",
     "output_type": "error",
     "traceback": [
      "\u001b[1;36m  Cell \u001b[1;32mIn[27], line 2\u001b[1;36m\u001b[0m\n\u001b[1;33m    father name =  \"asad\"\u001b[0m\n\u001b[1;37m           ^\u001b[0m\n\u001b[1;31mSyntaxError\u001b[0m\u001b[1;31m:\u001b[0m invalid syntax\n"
     ]
    }
   ],
   "source": [
    "#space not allowed in variable name \n",
    "father name =  \"asad\"\n",
    "student name = \"asad\""
   ]
  },
  {
   "attachments": {
    "e9fb3c40-1602-4ff0-9f24-bbaf24b80070.png": {
     "image/png": "[encoded data removed]"
    }
   },
   "cell_type": "markdown",
   "id": "fa3a68ae-c873-43df-9630-313a66bd387b",
   "metadata": {},
   "source": [
    "# we dont use reserved word \n",
    "![image.png](attachment:e9fb3c40-1602-4ff0-9f24-bbaf24b80070.png)\n"
   ]
  },
  {
   "cell_type": "markdown",
   "id": "f38cd29f-db59-4103-b7a9-63d8bf3c1cf3",
   "metadata": {},
   "source": [
    "# Operators"
   ]
  },
  {
   "cell_type": "markdown",
   "id": "d5d71749-6e83-49d3-9227-6650399761a1",
   "metadata": {},
   "source": [
    "###### 2+4 the are opendas the the + is operator  "
   ]
  },
  {
   "cell_type": "markdown",
   "id": "cd36c774-d27a-4f74-ac20-fcd4f487e89b",
   "metadata": {},
   "source": [
    "# \n",
    "-  ( - subtraction)\n",
    "- + ( + addition)\n",
    "- * ( * )\n",
    "- /\n",
    "- //\n",
    "- %\n",
    "- =\n",
    "- ** exponent"
   ]
  },
  {
   "cell_type": "code",
   "execution_count": 30,
   "id": "157fd756-1841-4168-ba66-46f10f758eea",
   "metadata": {},
   "outputs": [
    {
     "data": {
      "text/plain": [
       "125"
      ]
     },
     "execution_count": 30,
     "metadata": {},
     "output_type": "execute_result"
    }
   ],
   "source": [
    "5**3"
   ]
  },
  {
   "cell_type": "code",
   "execution_count": 31,
   "id": "512fa281-c284-42ce-b5a5-4815e6543fad",
   "metadata": {},
   "outputs": [
    {
     "data": {
      "text/plain": [
       "8"
      ]
     },
     "execution_count": 31,
     "metadata": {},
     "output_type": "execute_result"
    }
   ],
   "source": [
    "5+3\n"
   ]
  },
  {
   "cell_type": "code",
   "execution_count": 28,
   "id": "2790327e-a04b-4b79-a808-81831e3f835d",
   "metadata": {},
   "outputs": [
    {
     "data": {
      "text/plain": [
       "3.3333333333333335"
      ]
     },
     "execution_count": 28,
     "metadata": {},
     "output_type": "execute_result"
    }
   ],
   "source": [
    "#floating divison \n",
    "10/3"
   ]
  },
  {
   "cell_type": "code",
   "execution_count": 32,
   "id": "e25e5fef-bca2-40ed-ba8b-1e58c4573d40",
   "metadata": {},
   "outputs": [
    {
     "data": {
      "text/plain": [
       "2"
      ]
     },
     "execution_count": 32,
     "metadata": {},
     "output_type": "execute_result"
    }
   ],
   "source": [
    "5-3"
   ]
  },
  {
   "cell_type": "code",
   "execution_count": 29,
   "id": "3717a4d5-f5bb-4579-ba86-82ce374b8741",
   "metadata": {},
   "outputs": [
    {
     "data": {
      "text/plain": [
       "3"
      ]
     },
     "execution_count": 29,
     "metadata": {},
     "output_type": "execute_result"
    }
   ],
   "source": [
    "10//3 # floor division  integar division "
   ]
  },
  {
   "cell_type": "code",
   "execution_count": 33,
   "id": "e6b7c2be-7cfa-4d08-bab8-67811f7a05d8",
   "metadata": {},
   "outputs": [
    {
     "data": {
      "text/plain": [
       "2.0"
      ]
     },
     "execution_count": 33,
     "metadata": {},
     "output_type": "execute_result"
    }
   ],
   "source": [
    "10.2// 4 #the value will come in float "
   ]
  },
  {
   "cell_type": "markdown",
   "id": "523f3bf2-299d-4aa0-a1c7-9c6cf6de8d2d",
   "metadata": {},
   "source": [
    "# % modulus operator \n",
    "  -remainder "
   ]
  },
  {
   "cell_type": "code",
   "execution_count": 35,
   "id": "f1b2c69f-9507-475b-ae4d-c207cfc8fe45",
   "metadata": {},
   "outputs": [
    {
     "data": {
      "text/plain": [
       "2.0"
      ]
     },
     "execution_count": 35,
     "metadata": {},
     "output_type": "execute_result"
    }
   ],
   "source": [
    "12/6"
   ]
  },
  {
   "cell_type": "code",
   "execution_count": 36,
   "id": "387bfb31-8cc6-4799-a957-8da2d6b2a181",
   "metadata": {},
   "outputs": [
    {
     "data": {
      "text/plain": [
       "0"
      ]
     },
     "execution_count": 36,
     "metadata": {},
     "output_type": "execute_result"
    }
   ],
   "source": [
    "12%6"
   ]
  },
  {
   "cell_type": "markdown",
   "id": "634226a1-2916-4c1c-9a3d-a7e092e59cd5",
   "metadata": {},
   "source": [
    "# assigemnet operator "
   ]
  },
  {
   "cell_type": "code",
   "execution_count": 37,
   "id": "69548670-8ffd-42d4-86b5-aa647a33f3ad",
   "metadata": {},
   "outputs": [],
   "source": [
    "total = 120 \n",
    "# a integar value 130 is assigend to a variable named total "
   ]
  },
  {
   "cell_type": "markdown",
   "id": "495bf602-4211-4293-8c6a-236eabf9db32",
   "metadata": {},
   "source": [
    "# Comparision Operator \n",
    "###  - ==\n",
    "### - !=\n",
    "### - >\n",
    "### - <\n",
    "###  >=\n",
    "### <= "
   ]
  },
  {
   "cell_type": "code",
   "execution_count": 38,
   "id": "ff527c45-c16f-4831-9e20-864797866097",
   "metadata": {},
   "outputs": [],
   "source": [
    "marks = 100\n",
    "obtained = 80"
   ]
  },
  {
   "cell_type": "code",
   "execution_count": 39,
   "id": "7a5d1d2d-94fc-4a15-b12b-059fbc559d81",
   "metadata": {},
   "outputs": [
    {
     "data": {
      "text/plain": [
       "False"
      ]
     },
     "execution_count": 39,
     "metadata": {},
     "output_type": "execute_result"
    }
   ],
   "source": [
    "marks == obtained"
   ]
  },
  {
   "cell_type": "code",
   "execution_count": 40,
   "id": "a2cc700b-3525-4449-9c86-a89d686e2571",
   "metadata": {},
   "outputs": [
    {
     "data": {
      "text/plain": [
       "True"
      ]
     },
     "execution_count": 40,
     "metadata": {},
     "output_type": "execute_result"
    }
   ],
   "source": [
    "marks > obtained"
   ]
  },
  {
   "cell_type": "code",
   "execution_count": 41,
   "id": "fbcbd6f0-3579-421a-b25e-d3a74f401e17",
   "metadata": {},
   "outputs": [
    {
     "data": {
      "text/plain": [
       "False"
      ]
     },
     "execution_count": 41,
     "metadata": {},
     "output_type": "execute_result"
    }
   ],
   "source": [
    "marks < obtained"
   ]
  },
  {
   "cell_type": "code",
   "execution_count": 42,
   "id": "dadef736-9991-4a97-a530-2bc3d603296d",
   "metadata": {},
   "outputs": [
    {
     "data": {
      "text/plain": [
       "True"
      ]
     },
     "execution_count": 42,
     "metadata": {},
     "output_type": "execute_result"
    }
   ],
   "source": [
    "marks != obtained"
   ]
  },
  {
   "cell_type": "code",
   "execution_count": 4,
   "id": "006225e3-7277-47c2-a19e-8ce91445f3af",
   "metadata": {},
   "outputs": [
    {
     "data": {
      "text/plain": [
       "True"
      ]
     },
     "execution_count": 4,
     "metadata": {},
     "output_type": "execute_result"
    }
   ],
   "source": [
    "marks = 100\n",
    "obtained = 80\n",
    "\n",
    "marks >= obtained"
   ]
  },
  {
   "cell_type": "markdown",
   "id": "d505a8ad-6531-40bb-a952-80f70f848b53",
   "metadata": {},
   "source": [
    "# user input "
   ]
  },
  {
   "cell_type": "code",
   "execution_count": 43,
   "id": "cc824693-53a3-460c-8b9e-bd1b913909d6",
   "metadata": {},
   "outputs": [
    {
     "name": "stdin",
     "output_type": "stream",
     "text": [
      "please tell me your name 10\n"
     ]
    },
    {
     "data": {
      "text/plain": [
       "'10'"
      ]
     },
     "execution_count": 43,
     "metadata": {},
     "output_type": "execute_result"
    }
   ],
   "source": [
    "#hemesha value string ma ayege \n",
    "input(\"please tell me your name\")"
   ]
  },
  {
   "cell_type": "code",
   "execution_count": 44,
   "id": "8a0d8e33-3d96-4995-9ddf-a949b6c1b45e",
   "metadata": {
    "scrolled": true
   },
   "outputs": [
    {
     "name": "stdin",
     "output_type": "stream",
     "text": [
      "please tell me your age  12\n"
     ]
    }
   ],
   "source": [
    "# we want to make a variable \n",
    "age = input(\"please tell me your age \")"
   ]
  },
  {
   "cell_type": "code",
   "execution_count": 45,
   "id": "b672eec0-0edc-4c77-aea6-57a63bc1399c",
   "metadata": {},
   "outputs": [
    {
     "data": {
      "text/plain": [
       "'12'"
      ]
     },
     "execution_count": 45,
     "metadata": {},
     "output_type": "execute_result"
    }
   ],
   "source": [
    "age"
   ]
  },
  {
   "cell_type": "code",
   "execution_count": 46,
   "id": "809e7cde-b4c6-4ddf-8bec-623d623bc67a",
   "metadata": {},
   "outputs": [
    {
     "data": {
      "text/plain": [
       "str"
      ]
     },
     "execution_count": 46,
     "metadata": {},
     "output_type": "execute_result"
    }
   ],
   "source": [
    "type(age)"
   ]
  },
  {
   "cell_type": "code",
   "execution_count": 47,
   "id": "221eb06b-2135-481a-8559-86932ec933d9",
   "metadata": {},
   "outputs": [
    {
     "ename": "TypeError",
     "evalue": "can only concatenate str (not \"int\") to str",
     "output_type": "error",
     "traceback": [
      "\u001b[1;31m---------------------------------------------------------------------------\u001b[0m",
      "\u001b[1;31mTypeError\u001b[0m                                 Traceback (most recent call last)",
      "Cell \u001b[1;32mIn[47], line 2\u001b[0m\n\u001b[0;32m      1\u001b[0m \u001b[38;5;66;03m#ham ake string ko number ma add nahi kar sakte \u001b[39;00m\n\u001b[1;32m----> 2\u001b[0m age \u001b[38;5;241m+\u001b[39m \u001b[38;5;241m10\u001b[39m\n",
      "\u001b[1;31mTypeError\u001b[0m: can only concatenate str (not \"int\") to str"
     ]
    }
   ],
   "source": [
    "#ham ake string ko number ma add nahi kar sakte \n",
    "age + 10"
   ]
  },
  {
   "cell_type": "markdown",
   "id": "fc815a0e-d97b-420b-b8d1-329ecf9fd3ae",
   "metadata": {},
   "source": [
    "# Type casting "
   ]
  },
  {
   "cell_type": "code",
   "execution_count": 48,
   "id": "1e10cd55-dae1-4c40-81f8-2f598bf61ac4",
   "metadata": {},
   "outputs": [
    {
     "data": {
      "text/plain": [
       "133"
      ]
     },
     "execution_count": 48,
     "metadata": {},
     "output_type": "execute_result"
    }
   ],
   "source": [
    "# ya float value ko integae ma convert dega \n",
    "\n",
    "int(133.4)"
   ]
  },
  {
   "cell_type": "code",
   "execution_count": 49,
   "id": "0cffa049-a75c-4ded-abdc-1894ebc37b6c",
   "metadata": {},
   "outputs": [
    {
     "data": {
      "text/plain": [
       "12.0"
      ]
     },
     "execution_count": 49,
     "metadata": {},
     "output_type": "execute_result"
    }
   ],
   "source": [
    "float(12)"
   ]
  },
  {
   "cell_type": "code",
   "execution_count": 51,
   "id": "8b0c6193-aa8c-473b-b3b1-0d98da3a8b14",
   "metadata": {},
   "outputs": [
    {
     "data": {
      "text/plain": [
       "100"
      ]
     },
     "execution_count": 51,
     "metadata": {},
     "output_type": "execute_result"
    }
   ],
   "source": [
    "int(\"100\")"
   ]
  },
  {
   "cell_type": "code",
   "execution_count": 52,
   "id": "e8925c35-bc0a-4cb7-9722-c08577e75ac2",
   "metadata": {},
   "outputs": [
    {
     "data": {
      "text/plain": [
       "'100'"
      ]
     },
     "execution_count": 52,
     "metadata": {},
     "output_type": "execute_result"
    }
   ],
   "source": [
    "str(100)"
   ]
  },
  {
   "cell_type": "code",
   "execution_count": 53,
   "id": "01f7de1a-d474-4b41-8f57-4b682e61f53b",
   "metadata": {},
   "outputs": [
    {
     "data": {
      "text/plain": [
       "45.5"
      ]
     },
     "execution_count": 53,
     "metadata": {},
     "output_type": "execute_result"
    }
   ],
   "source": [
    "float(\"45.5\")"
   ]
  },
  {
   "cell_type": "code",
   "execution_count": 54,
   "id": "8c029581-f8c2-4831-af43-edc524841bb7",
   "metadata": {},
   "outputs": [
    {
     "ename": "ValueError",
     "evalue": "invalid literal for int() with base 10: '45.5'",
     "output_type": "error",
     "traceback": [
      "\u001b[1;31m---------------------------------------------------------------------------\u001b[0m",
      "\u001b[1;31mValueError\u001b[0m                                Traceback (most recent call last)",
      "Cell \u001b[1;32mIn[54], line 2\u001b[0m\n\u001b[0;32m      1\u001b[0m \u001b[38;5;66;03m# hame ise convert nahi kar sakte ya error dega becuase value is float \u001b[39;00m\n\u001b[1;32m----> 2\u001b[0m \u001b[38;5;28mint\u001b[39m(\u001b[38;5;124m\"\u001b[39m\u001b[38;5;124m45.5\u001b[39m\u001b[38;5;124m\"\u001b[39m)\n",
      "\u001b[1;31mValueError\u001b[0m: invalid literal for int() with base 10: '45.5'"
     ]
    }
   ],
   "source": [
    "\n",
    "# hame ise convert nahi kar sakte ya error dega becuase value is float \n",
    "int(\"45.5\")"
   ]
  },
  {
   "cell_type": "code",
   "execution_count": 56,
   "id": "eec926d7-64f7-4322-9df0-469309620e94",
   "metadata": {},
   "outputs": [
    {
     "data": {
      "text/plain": [
       "222"
      ]
     },
     "execution_count": 56,
     "metadata": {},
     "output_type": "execute_result"
    }
   ],
   "source": [
    "# hame is ma 2 type casting use karenge \n",
    "int(float(\"222.3\"))"
   ]
  },
  {
   "cell_type": "code",
   "execution_count": 57,
   "id": "cd0c6046-f4ad-4963-ae0a-e7146cb53467",
   "metadata": {},
   "outputs": [
    {
     "name": "stdin",
     "output_type": "stream",
     "text": [
      "Enter your age  25\n"
     ]
    },
    {
     "data": {
      "text/plain": [
       "35"
      ]
     },
     "execution_count": 57,
     "metadata": {},
     "output_type": "execute_result"
    }
   ],
   "source": [
    "# age value wahe rahe gi jab hm 10 + kare gi phir be  memroy ma change nahi honga memory ma 45 hi rahe gi\n",
    "age = int(input(\"Enter your age \"))\n",
    "age +10"
   ]
  },
  {
   "cell_type": "code",
   "execution_count": 59,
   "id": "65ba4942-97a6-414a-8522-0f1edc257dcf",
   "metadata": {},
   "outputs": [
    {
     "data": {
      "text/plain": [
       "45"
      ]
     },
     "execution_count": 59,
     "metadata": {},
     "output_type": "execute_result"
    }
   ],
   "source": [
    "age = age + 10 \n",
    "age \n",
    "age "
   ]
  },
  {
   "cell_type": "markdown",
   "id": "42f812b3-8991-4dba-badc-d4263cbd6c48",
   "metadata": {},
   "source": [
    "## increment operator /Decrement Operator "
   ]
  },
  {
   "cell_type": "code",
   "execution_count": 60,
   "id": "504fd321-2862-444a-a281-cbc515325a0c",
   "metadata": {},
   "outputs": [],
   "source": [
    "count = 1 "
   ]
  },
  {
   "cell_type": "code",
   "execution_count": 62,
   "id": "2de301cf-c8e1-47a5-a29a-674cd797f463",
   "metadata": {},
   "outputs": [
    {
     "data": {
      "text/plain": [
       "3"
      ]
     },
     "execution_count": 62,
     "metadata": {},
     "output_type": "execute_result"
    }
   ],
   "source": [
    "#jitne bar karo gi utne bar value add hoge \n",
    "count = count + 1 \n",
    "count "
   ]
  },
  {
   "cell_type": "code",
   "execution_count": 64,
   "id": "42a11adb-c2f8-4957-87b7-998cfea4e53a",
   "metadata": {},
   "outputs": [
    {
     "data": {
      "text/plain": [
       "13"
      ]
     },
     "execution_count": 64,
     "metadata": {},
     "output_type": "execute_result"
    }
   ],
   "source": [
    "count +=5\n",
    "count"
   ]
  },
  {
   "cell_type": "code",
   "execution_count": 66,
   "id": "9b26e2cb-d6e8-475a-850e-3ec881c7a85a",
   "metadata": {},
   "outputs": [
    {
     "data": {
      "text/plain": [
       "3"
      ]
     },
     "execution_count": 66,
     "metadata": {},
     "output_type": "execute_result"
    }
   ],
   "source": [
    "count -=5\n",
    "count"
   ]
  },
  {
   "cell_type": "markdown",
   "id": "6ddbca03-40df-4ce3-9759-94820eb2c98d",
   "metadata": {},
   "source": [
    "## Imran Ahmed Khan Niazi[a] (born 5 October 1952) is a Pakistani politician and former cricketer who served as the 22nd prime minister of Pakistan from August 2018 until April 2022. He is the founder and former chairman of the political party Pakistan Tehreek-e-Insaf (PTI) from 1996 to 2023. He was the captain of the Pakistan national cricket team throughout the 1980s and early 1990s."
   ]
  },
  {
   "cell_type": "code",
   "execution_count": null,
   "id": "15269b69-1617-4c52-a925-6aa0a4ff9ecf",
   "metadata": {},
   "outputs": [],
   "source": [
    "name = \"Imran Khan\"\n",
    "dob = 1952\n",
    "citizenshop = \"paksitani\"\n",
    "profession1 = \"circketer \"\n",
    "profession1 = \"polictaion\"\n",
    "age = 2024 - dob "
   ]
  }
 ],
 "metadata": {
  "kernelspec": {
   "display_name": "Python 3 (ipykernel)",
   "language": "python",
   "name": "python3"
  },
  "language_info": {
   "codemirror_mode": {
    "name": "ipython",
    "version": 3
   },
   "file_extension": ".py",
   "mimetype": "text/x-python",
   "name": "python",
   "nbconvert_exporter": "python",
   "pygments_lexer": "ipython3",
   "version": "3.12.7"
  }
 },
 "nbformat": 4,
 "nbformat_minor": 5
}
