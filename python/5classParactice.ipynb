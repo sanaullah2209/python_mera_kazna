{
 "cells": [
  {
   "cell_type": "markdown",
   "id": "6e26de43-1182-47b5-84cb-e82cd7897a12",
   "metadata": {},
   "source": [
    "# list in list"
   ]
  },
  {
   "cell_type": "code",
   "execution_count": 1,
   "id": "00ed0d3b-ebd0-42ac-93d1-d961b93b21ae",
   "metadata": {},
   "outputs": [],
   "source": [
    "numbers = [22,33,44,55,66,[33,44,55,66,44,55],55]"
   ]
  },
  {
   "cell_type": "code",
   "execution_count": 2,
   "id": "6533ef71-abde-4fee-9061-dd43074a0ad9",
   "metadata": {},
   "outputs": [
    {
     "data": {
      "text/plain": [
       "[22, 33, 44, 55, 66, [33, 44, 55, 66, 44, 55], 55]"
      ]
     },
     "execution_count": 2,
     "metadata": {},
     "output_type": "execute_result"
    }
   ],
   "source": [
    "numbers"
   ]
  },
  {
   "cell_type": "code",
   "execution_count": 3,
   "id": "8dd36577-61c5-481b-b143-c17789f120a0",
   "metadata": {},
   "outputs": [
    {
     "data": {
      "text/plain": [
       "33"
      ]
     },
     "execution_count": 3,
     "metadata": {},
     "output_type": "execute_result"
    }
   ],
   "source": [
    "numbers[1]"
   ]
  },
  {
   "cell_type": "code",
   "execution_count": 6,
   "id": "5faceacd-3b96-49bd-adfc-9de55009c49e",
   "metadata": {},
   "outputs": [
    {
     "data": {
      "text/plain": [
       "5"
      ]
     },
     "execution_count": 6,
     "metadata": {},
     "output_type": "execute_result"
    }
   ],
   "source": [
    "numbers.index([33,44,55,66,44,55])"
   ]
  },
  {
   "cell_type": "code",
   "execution_count": 7,
   "id": "2200db8b-8edd-413a-9393-ee17bba05000",
   "metadata": {},
   "outputs": [],
   "source": [
    "numbers.append(\"sanaullah\")"
   ]
  },
  {
   "cell_type": "code",
   "execution_count": 8,
   "id": "f1e2217f-806c-4f0c-a2a9-f87119c8281e",
   "metadata": {},
   "outputs": [
    {
     "data": {
      "text/plain": [
       "[22, 33, 44, 55, 66, [33, 44, 55, 66, 44, 55], 55, 'sanaullah']"
      ]
     },
     "execution_count": 8,
     "metadata": {},
     "output_type": "execute_result"
    }
   ],
   "source": [
    "numbers"
   ]
  },
  {
   "cell_type": "code",
   "execution_count": 11,
   "id": "2fb51d1c-03ba-4cc9-92f8-859f690d3b9c",
   "metadata": {},
   "outputs": [],
   "source": [
    "numbers.insert(0,32)"
   ]
  },
  {
   "cell_type": "code",
   "execution_count": 12,
   "id": "8d6026e3-45d3-4555-a8cb-d39c952db62b",
   "metadata": {},
   "outputs": [
    {
     "data": {
      "text/plain": [
       "[32, 22, 33, 44, 55, 66, [33, 44, 55, 66, 44, 55], 55, 'sanaullah']"
      ]
     },
     "execution_count": 12,
     "metadata": {},
     "output_type": "execute_result"
    }
   ],
   "source": [
    "numbers"
   ]
  },
  {
   "cell_type": "code",
   "execution_count": 13,
   "id": "37f4ccab-2e20-49b1-8ac6-865769209059",
   "metadata": {},
   "outputs": [
    {
     "data": {
      "text/plain": [
       "'sanaullah'"
      ]
     },
     "execution_count": 13,
     "metadata": {},
     "output_type": "execute_result"
    }
   ],
   "source": [
    "numbers[-1]"
   ]
  },
  {
   "cell_type": "code",
   "execution_count": 15,
   "id": "a3a26096-2f53-4538-834f-69c865d2a6d6",
   "metadata": {},
   "outputs": [],
   "source": [
    "numbers.reverse()"
   ]
  },
  {
   "cell_type": "code",
   "execution_count": 16,
   "id": "a807fc7a-e225-472a-8f95-470469c2ec88",
   "metadata": {},
   "outputs": [
    {
     "data": {
      "text/plain": [
       "['sanaullah', 55, [33, 44, 55, 66, 44, 55], 66, 55, 44, 33, 22, 32]"
      ]
     },
     "execution_count": 16,
     "metadata": {},
     "output_type": "execute_result"
    }
   ],
   "source": [
    "numbers"
   ]
  },
  {
   "cell_type": "code",
   "execution_count": 17,
   "id": "956638ee-f46e-4fa9-a5c9-b5f70509576a",
   "metadata": {},
   "outputs": [
    {
     "data": {
      "text/plain": [
       "1"
      ]
     },
     "execution_count": 17,
     "metadata": {},
     "output_type": "execute_result"
    }
   ],
   "source": [
    "numbers.count('sanaullah')"
   ]
  },
  {
   "cell_type": "code",
   "execution_count": 18,
   "id": "d793a414-364f-40e8-b84a-665ca2eeff38",
   "metadata": {},
   "outputs": [
    {
     "data": {
      "text/plain": [
       "1"
      ]
     },
     "execution_count": 18,
     "metadata": {},
     "output_type": "execute_result"
    }
   ],
   "source": [
    "numbers.count(33)"
   ]
  },
  {
   "cell_type": "code",
   "execution_count": 19,
   "id": "9b763888-5347-4b49-a227-281609f6682d",
   "metadata": {},
   "outputs": [
    {
     "data": {
      "text/plain": [
       "2"
      ]
     },
     "execution_count": 19,
     "metadata": {},
     "output_type": "execute_result"
    }
   ],
   "source": [
    "numbers.count(55)"
   ]
  },
  {
   "cell_type": "code",
   "execution_count": 24,
   "id": "a425e7a9-4e18-46df-9ed5-0ffd0e882370",
   "metadata": {},
   "outputs": [
    {
     "ename": "TypeError",
     "evalue": "'<' not supported between instances of 'int' and 'str'",
     "output_type": "error",
     "traceback": [
      "\u001b[1;31m---------------------------------------------------------------------------\u001b[0m",
      "\u001b[1;31mTypeError\u001b[0m                                 Traceback (most recent call last)",
      "Cell \u001b[1;32mIn[24], line 1\u001b[0m\n\u001b[1;32m----> 1\u001b[0m numbers\u001b[38;5;241m.\u001b[39msort()\n",
      "\u001b[1;31mTypeError\u001b[0m: '<' not supported between instances of 'int' and 'str'"
     ]
    }
   ],
   "source": [
    "numbers.sort()"
   ]
  },
  {
   "cell_type": "code",
   "execution_count": 26,
   "id": "d5be771d-0ac1-4fcb-b4f1-267997072250",
   "metadata": {},
   "outputs": [
    {
     "data": {
      "text/plain": [
       "'sanaullah'"
      ]
     },
     "execution_count": 26,
     "metadata": {},
     "output_type": "execute_result"
    }
   ],
   "source": [
    "numbers.pop(0)"
   ]
  },
  {
   "cell_type": "code",
   "execution_count": 27,
   "id": "bbcb9a99-564c-4afa-8249-c840b6881a1d",
   "metadata": {},
   "outputs": [
    {
     "data": {
      "text/plain": [
       "[55, [33, 44, 55, 66, 44, 55], 66, 55, 44, 33, 22, 32]"
      ]
     },
     "execution_count": 27,
     "metadata": {},
     "output_type": "execute_result"
    }
   ],
   "source": [
    "numbers\n"
   ]
  },
  {
   "cell_type": "code",
   "execution_count": 28,
   "id": "2eef85de-3ce1-4f59-9cf4-cd1068627b46",
   "metadata": {},
   "outputs": [
    {
     "ename": "TypeError",
     "evalue": "'int' object is not subscriptable",
     "output_type": "error",
     "traceback": [
      "\u001b[1;31m---------------------------------------------------------------------------\u001b[0m",
      "\u001b[1;31mTypeError\u001b[0m                                 Traceback (most recent call last)",
      "Cell \u001b[1;32mIn[28], line 1\u001b[0m\n\u001b[1;32m----> 1\u001b[0m numbers[\u001b[38;5;241m0\u001b[39m][\u001b[38;5;241m0\u001b[39m]\n",
      "\u001b[1;31mTypeError\u001b[0m: 'int' object is not subscriptable"
     ]
    }
   ],
   "source": [
    "numbers[0][0]"
   ]
  },
  {
   "cell_type": "code",
   "execution_count": 32,
   "id": "cb00f1ed-1a69-4789-9d04-529358725eaf",
   "metadata": {},
   "outputs": [
    {
     "data": {
      "text/plain": [
       "55"
      ]
     },
     "execution_count": 32,
     "metadata": {},
     "output_type": "execute_result"
    }
   ],
   "source": [
    "numbers[0]"
   ]
  },
  {
   "cell_type": "code",
   "execution_count": 33,
   "id": "512fc8c4-e7ee-4f77-af4a-f1e3c9eeb7ad",
   "metadata": {},
   "outputs": [
    {
     "data": {
      "text/plain": [
       "[33, 44, 55, 66, 44, 55]"
      ]
     },
     "execution_count": 33,
     "metadata": {},
     "output_type": "execute_result"
    }
   ],
   "source": [
    "numbers[1]"
   ]
  },
  {
   "cell_type": "code",
   "execution_count": 34,
   "id": "d0668e08-1548-489a-8bf3-44d50c63aefd",
   "metadata": {},
   "outputs": [
    {
     "data": {
      "text/plain": [
       "44"
      ]
     },
     "execution_count": 34,
     "metadata": {},
     "output_type": "execute_result"
    }
   ],
   "source": [
    "numbers[1][1]"
   ]
  },
  {
   "cell_type": "code",
   "execution_count": 35,
   "id": "1ebfcbc7-6c05-4a64-806d-f89ac0ff23fa",
   "metadata": {},
   "outputs": [
    {
     "data": {
      "text/plain": [
       "33"
      ]
     },
     "execution_count": 35,
     "metadata": {},
     "output_type": "execute_result"
    }
   ],
   "source": [
    "numbers[1][0]"
   ]
  },
  {
   "cell_type": "code",
   "execution_count": 37,
   "id": "ee2a518b-e140-4b80-aca4-4d8fa49ae9d3",
   "metadata": {
    "scrolled": true
   },
   "outputs": [
    {
     "data": {
      "text/plain": [
       "55"
      ]
     },
     "execution_count": 37,
     "metadata": {},
     "output_type": "execute_result"
    }
   ],
   "source": [
    "numbers[1][-1]"
   ]
  },
  {
   "cell_type": "code",
   "execution_count": 38,
   "id": "839d49ee-5cfe-460d-b78e-81f9fbfa1eaa",
   "metadata": {},
   "outputs": [
    {
     "data": {
      "text/plain": [
       "5"
      ]
     },
     "execution_count": 38,
     "metadata": {},
     "output_type": "execute_result"
    }
   ],
   "source": [
    "    numbers[1][-1].bit_count()\n"
   ]
  },
  {
   "cell_type": "code",
   "execution_count": 39,
   "id": "5740ee1b-9dc0-48a4-a0fc-4595fd8420b0",
   "metadata": {},
   "outputs": [
    {
     "data": {
      "text/plain": [
       "3"
      ]
     },
     "execution_count": 39,
     "metadata": {},
     "output_type": "execute_result"
    }
   ],
   "source": [
    "    numbers[1][-2].bit_count()\n"
   ]
  },
  {
   "cell_type": "code",
   "execution_count": 40,
   "id": "fd6117e9-2d8b-4177-976e-060db8dd7dad",
   "metadata": {},
   "outputs": [
    {
     "data": {
      "text/plain": [
       "6"
      ]
     },
     "execution_count": 40,
     "metadata": {},
     "output_type": "execute_result"
    }
   ],
   "source": [
    "numbers[1][-4].bit_length()\n"
   ]
  },
  {
   "cell_type": "code",
   "execution_count": 41,
   "id": "1c4bd366-3b86-4366-b542-6dfd688571d9",
   "metadata": {},
   "outputs": [
    {
     "data": {
      "text/plain": [
       "5"
      ]
     },
     "execution_count": 41,
     "metadata": {},
     "output_type": "execute_result"
    }
   ],
   "source": [
    "numbers[1][-4].bit_count()\n",
    "\n"
   ]
  },
  {
   "cell_type": "code",
   "execution_count": 42,
   "id": "1a65d5ba-3bd0-406b-855b-4d2829efc926",
   "metadata": {},
   "outputs": [
    {
     "data": {
      "text/plain": [
       "6"
      ]
     },
     "execution_count": 42,
     "metadata": {},
     "output_type": "execute_result"
    }
   ],
   "source": [
    "numbers[1][-1].bit_length()\n"
   ]
  },
  {
   "cell_type": "code",
   "execution_count": 43,
   "id": "63d21f52-f33c-438c-86dc-20b1f44cc660",
   "metadata": {},
   "outputs": [
    {
     "data": {
      "text/plain": [
       "[55, [33, 44, 55, 66, 44, 55], 66, 55, 44, 33, 22, 32]"
      ]
     },
     "execution_count": 43,
     "metadata": {},
     "output_type": "execute_result"
    }
   ],
   "source": [
    "numbers\n"
   ]
  },
  {
   "cell_type": "code",
   "execution_count": 45,
   "id": "ed91fe70-675c-4e3e-b343-9bc75929c65e",
   "metadata": {},
   "outputs": [
    {
     "ename": "TypeError",
     "evalue": "_Printer.__call__() takes 1 positional argument but 2 were given",
     "output_type": "error",
     "traceback": [
      "\u001b[1;31m---------------------------------------------------------------------------\u001b[0m",
      "\u001b[1;31mTypeError\u001b[0m                                 Traceback (most recent call last)",
      "Cell \u001b[1;32mIn[45], line 1\u001b[0m\n\u001b[1;32m----> 1\u001b[0m license(numbers)\n",
      "\u001b[1;31mTypeError\u001b[0m: _Printer.__call__() takes 1 positional argument but 2 were given"
     ]
    }
   ],
   "source": [
    "license(numbers)"
   ]
  },
  {
   "cell_type": "code",
   "execution_count": 46,
   "id": "e7460f0b-2b4a-48de-b5d9-37eef52be133",
   "metadata": {},
   "outputs": [
    {
     "name": "stdout",
     "output_type": "stream",
     "text": [
      "See https://www.python.org/psf/license/\n"
     ]
    }
   ],
   "source": [
    "license()\n"
   ]
  },
  {
   "cell_type": "code",
   "execution_count": 48,
   "id": "e9c21b4f-8e8e-4cdd-bcd3-029e7ca2c632",
   "metadata": {},
   "outputs": [
    {
     "ename": "SyntaxError",
     "evalue": "unterminated string literal (detected at line 1) (118191798.py, line 1)",
     "output_type": "error",
     "traceback": [
      "\u001b[1;36m  Cell \u001b[1;32mIn[48], line 1\u001b[1;36m\u001b[0m\n\u001b[1;33m    license('jjj\u001b[0m\n\u001b[1;37m            ^\u001b[0m\n\u001b[1;31mSyntaxError\u001b[0m\u001b[1;31m:\u001b[0m unterminated string literal (detected at line 1)\n"
     ]
    }
   ],
   "source": [
    "license('jjj\n",
    "')"
   ]
  },
  {
   "cell_type": "code",
   "execution_count": null,
   "id": "60f17dc6-707b-4b30-883a-1075156d392c",
   "metadata": {},
   "outputs": [],
   "source": []
  }
 ],
 "metadata": {
  "kernelspec": {
   "display_name": "Python 3 (ipykernel)",
   "language": "python",
   "name": "python3"
  },
  "language_info": {
   "codemirror_mode": {
    "name": "ipython",
    "version": 3
   },
   "file_extension": ".py",
   "mimetype": "text/x-python",
   "name": "python",
   "nbconvert_exporter": "python",
   "pygments_lexer": "ipython3",
   "version": "3.12.7"
  }
 },
 "nbformat": 4,
 "nbformat_minor": 5
}
