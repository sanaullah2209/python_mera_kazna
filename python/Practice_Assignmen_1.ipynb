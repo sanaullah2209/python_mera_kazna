{
 "cells": [
  {
   "cell_type": "markdown",
   "metadata": {
    "id": "CUdxU51J52Jc"
   },
   "source": [
    "# Topic: print()"
   ]
  },
  {
   "cell_type": "markdown",
   "metadata": {
    "id": "O4XtVMeN52Ji"
   },
   "source": [
    "1) Using the python print function print any string value, integer value, boolean value, float value in single print command"
   ]
  },
  {
   "cell_type": "code",
   "execution_count": 1,
   "metadata": {},
   "outputs": [
    {
     "name": "stdout",
     "output_type": "stream",
     "text": [
      "sanaullah 22 44.3 True\n"
     ]
    }
   ],
   "source": [
    "print(\"sanaullah\",22,44.3,True)"
   ]
  },
  {
   "cell_type": "markdown",
   "metadata": {
    "id": "iNinlTd052Jr"
   },
   "source": [
    "2) Using the python print function print hyphon(-) separated any string value, integer value, boolean value, float value in single print command"
   ]
  },
  {
   "cell_type": "code",
   "execution_count": 2,
   "metadata": {},
   "outputs": [
    {
     "name": "stdout",
     "output_type": "stream",
     "text": [
      "sanaullah-22-44.3-True\n"
     ]
    }
   ],
   "source": [
    "print(\"sanaullah\",22,44.3,True ,sep=\"-\")"
   ]
  },
  {
   "cell_type": "markdown",
   "metadata": {
    "id": "4fNVS99O52Jt"
   },
   "source": [
    "3) Using the python print function print any string value, integer value, boolean value, float value in separate print command.\n",
    "But every value must be space separated and in single line"
   ]
  },
  {
   "cell_type": "code",
   "execution_count": 4,
   "metadata": {},
   "outputs": [
    {
     "name": "stdout",
     "output_type": "stream",
     "text": [
      "sanaullah3344.4False\n"
     ]
    }
   ],
   "source": [
    "print(\"sanaullah\",end=\"\")\n",
    "print(33,end=\"\")\n",
    "print(44.4,end=\"\")\n",
    "print(False)"
   ]
  },
  {
   "cell_type": "markdown",
   "metadata": {
    "id": "akEUFstT52Jv"
   },
   "source": [
    "4) Can a python print function take no value to print???\n"
   ]
  },
  {
   "cell_type": "code",
   "execution_count": 7,
   "metadata": {},
   "outputs": [
    {
     "name": "stdout",
     "output_type": "stream",
     "text": [
      "\n"
     ]
    }
   ],
   "source": [
    "print()"
   ]
  },
  {
   "cell_type": "markdown",
   "metadata": {
    "id": "vFPOFKW_52Jx"
   },
   "source": [
    "# TOPIC :Variables in Python Operators"
   ]
  },
  {
   "cell_type": "markdown",
   "metadata": {
    "id": "AzBzVODl52Jy"
   },
   "source": [
    "5) One of my friends name is Mr. Ahmed. He is 30 years old.  He is a lawer by profession. He has done his bachelors in law in the year 2005. He is working with a reputable law firm 'The Himalya Associates' in Karachi since 2015.\n",
    "He is a handsome lawer with height of 5.10 feets and weight 70600g. His monthly income is Rs. 200k PKR.\n",
    "\n",
    "Note: Create variables from above text and also assign values from the text.  "
   ]
  },
  {
   "cell_type": "code",
   "execution_count": 17,
   "metadata": {},
   "outputs": [],
   "source": [
    "friendname = \"Mr Ahmed\" \n",
    "age = 30\n",
    "proffession = \"layer\"\n",
    "degree = \"bachelors in law\"\n",
    "qulification_date = 2005\n",
    "current_job = \"Himalya associated\"\n",
    "city = \"karachi\"\n",
    "current_date = 2015\n",
    "heigh = 5.10\n",
    "weight = 70600\n",
    "montley_income = 200000\n",
    "\n"
   ]
  },
  {
   "cell_type": "markdown",
   "metadata": {
    "id": "Uaf--v5S52J0"
   },
   "source": [
    "6)How many years has been to Mr. Ahmed after his bachelors degree? Create a variable that hold current year value and then subtract it from his passout year"
   ]
  },
  {
   "cell_type": "code",
   "execution_count": 18,
   "metadata": {},
   "outputs": [
    {
     "data": {
      "text/plain": [
       "10"
      ]
     },
     "execution_count": 18,
     "metadata": {},
     "output_type": "execute_result"
    }
   ],
   "source": [
    "sub =  current_date - qulification_date\n",
    "sub"
   ]
  },
  {
   "cell_type": "markdown",
   "metadata": {
    "id": "SAQtVyvD52J1"
   },
   "source": [
    "7) How many years has Mr. Ahmed been working with law firm 'The Himalya Associates'. Create necesary variables and print the correct number of years in working in the firm"
   ]
  },
  {
   "cell_type": "code",
   "execution_count": 22,
   "metadata": {},
   "outputs": [
    {
     "data": {
      "text/plain": [
       "-10"
      ]
     },
     "execution_count": 22,
     "metadata": {},
     "output_type": "execute_result"
    }
   ],
   "source": [
    "qulification_date - current_date"
   ]
  },
  {
   "cell_type": "markdown",
   "metadata": {
    "id": "Gnk1kIUj52J3"
   },
   "source": [
    "8)Convert the monthly income of Mr. Ahmed in dollars.  Create necesary variables and print the income in dollars."
   ]
  },
  {
   "cell_type": "code",
   "execution_count": 23,
   "metadata": {},
   "outputs": [
    {
     "data": {
      "text/plain": [
       "714.2857142857143"
      ]
     },
     "execution_count": 23,
     "metadata": {},
     "output_type": "execute_result"
    }
   ],
   "source": [
    "montley_income / 280"
   ]
  },
  {
   "cell_type": "markdown",
   "metadata": {
    "id": "Adx4oblF52J4"
   },
   "source": [
    "9) Check if the income in dollars is a float or integer value. if it is float, re-write the code so that income gets converted in integer. print the income in integer type value"
   ]
  },
  {
   "cell_type": "code",
   "execution_count": 24,
   "metadata": {},
   "outputs": [
    {
     "data": {
      "text/plain": [
       "714"
      ]
     },
     "execution_count": 24,
     "metadata": {},
     "output_type": "execute_result"
    }
   ],
   "source": [
    "montley_income // 280"
   ]
  },
  {
   "cell_type": "raw",
   "metadata": {
    "id": "NcYepWgZ52J5"
   },
   "source": [
    "10) Print the type of Mr. Ahmed's weight. Convert the weight of Mr. Ahmed in kg so that weight must be a integer value."
   ]
  },
  {
   "cell_type": "code",
   "execution_count": 26,
   "metadata": {},
   "outputs": [
    {
     "data": {
      "text/plain": [
       "70"
      ]
     },
     "execution_count": 26,
     "metadata": {},
     "output_type": "execute_result"
    }
   ],
   "source": [
    "weight // 1000"
   ]
  },
  {
   "cell_type": "code",
   "execution_count": 31,
   "metadata": {
    "id": "05FU1XHw52J7"
   },
   "outputs": [
    {
     "data": {
      "text/plain": [
       "1994"
      ]
     },
     "execution_count": 31,
     "metadata": {},
     "output_type": "execute_result"
    }
   ],
   "source": [
    "#11) print the year of birth of Mr. Ahme\n",
    "current_Year = 2024\n",
    "\n",
    "current_Year - age\n"
   ]
  },
  {
   "cell_type": "code",
   "execution_count": 2,
   "metadata": {
    "id": "paq_3Kg152J8"
   },
   "outputs": [],
   "source": [
    "#type your code here\n"
   ]
  },
  {
   "cell_type": "markdown",
   "metadata": {
    "id": "eWySSgh552J8"
   },
   "source": [
    "12) Can Rs. 100 be divided equally among 6 students?\n",
    "HINT: % operator (modulo)"
   ]
  },
  {
   "cell_type": "code",
   "execution_count": 39,
   "metadata": {
    "id": "RYc0Ks7g52J-",
    "outputId": "0e2425ca-fbed-4c24-b659-e52ef2d0674e"
   },
   "outputs": [
    {
     "data": {
      "text/plain": [
       "4"
      ]
     },
     "execution_count": 39,
     "metadata": {},
     "output_type": "execute_result"
    }
   ],
   "source": [
    "money = 100\n",
    "students = 6\n",
    "\n",
    "money % students\n",
    "\n",
    "# 10 is completely divisible by2\n",
    "# 10 is multiple of 2\n",
    "\n",
    "# 2 is a factor of 10\n",
    "# 10 comes in table of 2"
   ]
  },
  {
   "cell_type": "code",
   "execution_count": 40,
   "metadata": {},
   "outputs": [
    {
     "data": {
      "text/plain": [
       "0"
      ]
     },
     "execution_count": 40,
     "metadata": {},
     "output_type": "execute_result"
    }
   ],
   "source": [
    "10 % 2"
   ]
  },
  {
   "cell_type": "code",
   "execution_count": 42,
   "metadata": {
    "id": "X3ncSwJt52KA"
   },
   "outputs": [
    {
     "data": {
      "text/plain": [
       "1"
      ]
     },
     "execution_count": 42,
     "metadata": {},
     "output_type": "execute_result"
    }
   ],
   "source": [
    "11 % 2"
   ]
  },
  {
   "cell_type": "code",
   "execution_count": null,
   "metadata": {},
   "outputs": [],
   "source": []
  },
  {
   "cell_type": "code",
   "execution_count": null,
   "metadata": {},
   "outputs": [],
   "source": []
  }
 ],
 "metadata": {
  "colab": {
   "provenance": []
  },
  "kernelspec": {
   "display_name": "Python 3 (ipykernel)",
   "language": "python",
   "name": "python3"
  },
  "language_info": {
   "codemirror_mode": {
    "name": "ipython",
    "version": 3
   },
   "file_extension": ".py",
   "mimetype": "text/x-python",
   "name": "python",
   "nbconvert_exporter": "python",
   "pygments_lexer": "ipython3",
   "version": "3.12.7"
  }
 },
 "nbformat": 4,
 "nbformat_minor": 4
}
