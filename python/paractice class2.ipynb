{
 "cells": [
  {
   "cell_type": "code",
   "execution_count": 10,
   "id": "07f873b9-e38e-43f5-af47-10d361ec08c2",
   "metadata": {},
   "outputs": [
    {
     "name": "stdout",
     "output_type": "stream",
     "text": [
      "lets start the paractivema pagal ho kyamaster the artthis is my file"
     ]
    }
   ],
   "source": [
    "print(\"lets start the paractive\",\"master the art\", sep=\"ma pagal ho kya\",end=\"this is my file\")"
   ]
  },
  {
   "cell_type": "code",
   "execution_count": 11,
   "id": "0dc21ec5-e92f-412e-8e36-52411d82d115",
   "metadata": {},
   "outputs": [
    {
     "name": "stdout",
     "output_type": "stream",
     "text": [
      "200 300 30.4\n"
     ]
    }
   ],
   "source": [
    "print(200,300,30.4)"
   ]
  },
  {
   "cell_type": "code",
   "execution_count": null,
   "id": "21f82ae2-bc98-41d7-a7eb-f33fe45c93f3",
   "metadata": {},
   "outputs": [],
   "source": []
  }
 ],
 "metadata": {
  "kernelspec": {
   "display_name": "Python 3 (ipykernel)",
   "language": "python",
   "name": "python3"
  },
  "language_info": {
   "codemirror_mode": {
    "name": "ipython",
    "version": 3
   },
   "file_extension": ".py",
   "mimetype": "text/x-python",
   "name": "python",
   "nbconvert_exporter": "python",
   "pygments_lexer": "ipython3",
   "version": "3.12.7"
  },
  "panel-cell-order": [
   "f94bfd62-583c-4077-907c-d38b2856cba2"
  ]
 },
 "nbformat": 4,
 "nbformat_minor": 5
}
