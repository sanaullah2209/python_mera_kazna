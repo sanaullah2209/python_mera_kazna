{
 "cells": [
  {
   "cell_type": "code",
   "execution_count": 1,
   "id": "36414846-34d8-4741-b45d-e276a39ae6d2",
   "metadata": {},
   "outputs": [],
   "source": [
    "a =  2\n",
    "b = 3 \n",
    "c = 4"
   ]
  },
  {
   "cell_type": "code",
   "execution_count": 3,
   "id": "f71697be-64ed-4c58-a520-64d787b279a3",
   "metadata": {},
   "outputs": [
    {
     "data": {
      "text/plain": [
       "(-2.9999999999999996+4.795831523312719j)"
      ]
     },
     "execution_count": 3,
     "metadata": {},
     "output_type": "execute_result"
    }
   ],
   "source": [
    "x1 ,x2 = -b+((b**2-4*a*c)**(0.5))/2*a                  ,-b-+((b**2-4*a*c)**(0.5))/2*a\n",
    "x1"
   ]
  },
  {
   "cell_type": "code",
   "execution_count": 4,
   "id": "bd0a4b2e-1adf-40f6-88f2-808fbf7c416a",
   "metadata": {},
   "outputs": [
    {
     "data": {
      "text/plain": [
       "(-3.0000000000000004-4.795831523312719j)"
      ]
     },
     "execution_count": 4,
     "metadata": {},
     "output_type": "execute_result"
    }
   ],
   "source": [
    "x2"
   ]
  },
  {
   "cell_type": "markdown",
   "id": "71d6a9ff-b2f0-4226-b83e-662e013c0d8b",
   "metadata": {},
   "source": [
    "# Tuple \n",
    "  -()\n",
    " -immutable(unchange)\n",
    " -index"
   ]
  },
  {
   "cell_type": "code",
   "execution_count": 5,
   "id": "d5ad5bd4-2703-45ef-a491-b7df6228ebb4",
   "metadata": {},
   "outputs": [],
   "source": [
    "atuple = (11,22,33,24,43,44)"
   ]
  },
  {
   "cell_type": "code",
   "execution_count": 6,
   "id": "7d98b9f8-748b-4bf7-a41b-6a9256bc6a77",
   "metadata": {},
   "outputs": [
    {
     "data": {
      "text/plain": [
       "(11, 22, 33, 24, 43, 44)"
      ]
     },
     "execution_count": 6,
     "metadata": {},
     "output_type": "execute_result"
    }
   ],
   "source": [
    "atuple"
   ]
  },
  {
   "cell_type": "code",
   "execution_count": 7,
   "id": "3a215706-4a9b-4a6b-96db-3997d2dbeeb0",
   "metadata": {},
   "outputs": [
    {
     "name": "stdout",
     "output_type": "stream",
     "text": [
      "<class 'tuple'>\n"
     ]
    }
   ],
   "source": [
    "print(type(atuple))"
   ]
  },
  {
   "cell_type": "code",
   "execution_count": 8,
   "id": "bb02a086-6dcb-4562-8aae-2e82bceee0d8",
   "metadata": {},
   "outputs": [
    {
     "data": {
      "text/plain": [
       "6"
      ]
     },
     "execution_count": 8,
     "metadata": {},
     "output_type": "execute_result"
    }
   ],
   "source": [
    "len(atuple)"
   ]
  },
  {
   "cell_type": "code",
   "execution_count": 9,
   "id": "99c95130-5bda-4465-93b2-1e9a97d2160c",
   "metadata": {},
   "outputs": [
    {
     "data": {
      "text/plain": [
       "33"
      ]
     },
     "execution_count": 9,
     "metadata": {},
     "output_type": "execute_result"
    }
   ],
   "source": [
    "atuple[2]"
   ]
  },
  {
   "cell_type": "code",
   "execution_count": 10,
   "id": "15c058fb-72f8-4ebb-b5ac-59841c735ff4",
   "metadata": {},
   "outputs": [
    {
     "data": {
      "text/plain": [
       "(33, 24)"
      ]
     },
     "execution_count": 10,
     "metadata": {},
     "output_type": "execute_result"
    }
   ],
   "source": [
    "atuple[2:4]"
   ]
  },
  {
   "cell_type": "code",
   "execution_count": 12,
   "id": "6ccbcd7d-7475-4e5d-a8af-2bf4fe49389b",
   "metadata": {},
   "outputs": [
    {
     "ename": "TypeError",
     "evalue": "'tuple' object does not support item assignment",
     "output_type": "error",
     "traceback": [
      "\u001b[1;31m---------------------------------------------------------------------------\u001b[0m",
      "\u001b[1;31mTypeError\u001b[0m                                 Traceback (most recent call last)",
      "Cell \u001b[1;32mIn[12], line 1\u001b[0m\n\u001b[1;32m----> 1\u001b[0m atuple[\u001b[38;5;241m0\u001b[39m] \u001b[38;5;241m=\u001b[39m \u001b[38;5;241m1000\u001b[39m\n",
      "\u001b[1;31mTypeError\u001b[0m: 'tuple' object does not support item assignment"
     ]
    }
   ],
   "source": [
    "atuple[0] = 1000"
   ]
  },
  {
   "cell_type": "code",
   "execution_count": 13,
   "id": "b06e41dd-bb83-4564-9a0d-75ccfda1b074",
   "metadata": {},
   "outputs": [
    {
     "ename": "TypeError",
     "evalue": "'tuple' object doesn't support item deletion",
     "output_type": "error",
     "traceback": [
      "\u001b[1;31m---------------------------------------------------------------------------\u001b[0m",
      "\u001b[1;31mTypeError\u001b[0m                                 Traceback (most recent call last)",
      "Cell \u001b[1;32mIn[13], line 1\u001b[0m\n\u001b[1;32m----> 1\u001b[0m \u001b[38;5;28;01mdel\u001b[39;00m atuple[\u001b[38;5;241m1\u001b[39m]\n",
      "\u001b[1;31mTypeError\u001b[0m: 'tuple' object doesn't support item deletion"
     ]
    }
   ],
   "source": [
    "del atuple[1]"
   ]
  },
  {
   "cell_type": "code",
   "execution_count": 14,
   "id": "76afa8d5-298c-4ee6-b249-39e22d02e8b6",
   "metadata": {},
   "outputs": [
    {
     "data": {
      "text/plain": [
       "1"
      ]
     },
     "execution_count": 14,
     "metadata": {},
     "output_type": "execute_result"
    }
   ],
   "source": [
    "atuple.count(22)"
   ]
  },
  {
   "cell_type": "code",
   "execution_count": 16,
   "id": "0ac72072-54ae-488f-b2c7-dfa6cfaf0f25",
   "metadata": {},
   "outputs": [
    {
     "data": {
      "text/plain": [
       "2"
      ]
     },
     "execution_count": 16,
     "metadata": {},
     "output_type": "execute_result"
    }
   ],
   "source": [
    "atuple.index(33)"
   ]
  },
  {
   "cell_type": "code",
   "execution_count": 17,
   "id": "cf525afc-bd88-4106-91fa-8623d42014d5",
   "metadata": {},
   "outputs": [],
   "source": [
    "a = (13)\n"
   ]
  },
  {
   "cell_type": "code",
   "execution_count": 18,
   "id": "532d9d7a-915f-4716-b27c-344b7229f8f5",
   "metadata": {},
   "outputs": [
    {
     "data": {
      "text/plain": [
       "int"
      ]
     },
     "execution_count": 18,
     "metadata": {},
     "output_type": "execute_result"
    }
   ],
   "source": [
    "type(a)"
   ]
  },
  {
   "cell_type": "markdown",
   "id": "14b4defe-3c67-4c51-970d-0de60b9889bb",
   "metadata": {},
   "source": [
    "# Set\n",
    "      - {}\n",
    "      - collection of unique object \n",
    "      - "
   ]
  },
  {
   "cell_type": "code",
   "execution_count": 19,
   "id": "a8a485cd-1a04-4392-8bbe-1095f26ec64d",
   "metadata": {},
   "outputs": [],
   "source": [
    "aset = {4}"
   ]
  },
  {
   "cell_type": "code",
   "execution_count": 20,
   "id": "62431165-27a0-4070-a572-a1c2fa727944",
   "metadata": {},
   "outputs": [
    {
     "data": {
      "text/plain": [
       "set"
      ]
     },
     "execution_count": 20,
     "metadata": {},
     "output_type": "execute_result"
    }
   ],
   "source": [
    "type(aset)"
   ]
  },
  {
   "cell_type": "code",
   "execution_count": 21,
   "id": "5affdd91-8008-46f9-b32d-ad84948e7368",
   "metadata": {},
   "outputs": [],
   "source": [
    "aset = {}"
   ]
  },
  {
   "cell_type": "code",
   "execution_count": 22,
   "id": "72ffcf0f-edfd-4547-ba19-ebac38bcfe44",
   "metadata": {},
   "outputs": [
    {
     "data": {
      "text/plain": [
       "dict"
      ]
     },
     "execution_count": 22,
     "metadata": {},
     "output_type": "execute_result"
    }
   ],
   "source": [
    "type(aset)"
   ]
  },
  {
   "cell_type": "code",
   "execution_count": 23,
   "id": "66eb0626-c8a9-4110-8c1b-b2ebc9111789",
   "metadata": {},
   "outputs": [],
   "source": [
    "master = {22,33,44,44,55,66,44,66,55}"
   ]
  },
  {
   "cell_type": "code",
   "execution_count": 25,
   "id": "d3d14d49-9c04-4f88-8869-a3443baf1d37",
   "metadata": {},
   "outputs": [
    {
     "data": {
      "text/plain": [
       "set"
      ]
     },
     "execution_count": 25,
     "metadata": {},
     "output_type": "execute_result"
    }
   ],
   "source": [
    "type(master)"
   ]
  },
  {
   "cell_type": "code",
   "execution_count": 26,
   "id": "cc1fbbe5-2537-48a2-af36-b6d86ecb49bb",
   "metadata": {},
   "outputs": [
    {
     "data": {
      "text/plain": [
       "{22, 33, 44, 55, 66}"
      ]
     },
     "execution_count": 26,
     "metadata": {},
     "output_type": "execute_result"
    }
   ],
   "source": [
    "master"
   ]
  },
  {
   "cell_type": "code",
   "execution_count": 27,
   "id": "60c457f9-0dd0-45f8-b01c-1081647a6e45",
   "metadata": {},
   "outputs": [
    {
     "data": {
      "text/plain": [
       "5"
      ]
     },
     "execution_count": 27,
     "metadata": {},
     "output_type": "execute_result"
    }
   ],
   "source": [
    "len(master)"
   ]
  },
  {
   "cell_type": "code",
   "execution_count": 28,
   "id": "42c1a8f2-9105-47d6-b59a-28ca22b5421f",
   "metadata": {},
   "outputs": [],
   "source": [
    "master.clear()"
   ]
  },
  {
   "cell_type": "code",
   "execution_count": 29,
   "id": "e925adda-5107-4af1-80cf-36b3f6c1bdc4",
   "metadata": {},
   "outputs": [
    {
     "data": {
      "text/plain": [
       "set()"
      ]
     },
     "execution_count": 29,
     "metadata": {},
     "output_type": "execute_result"
    }
   ],
   "source": [
    "master"
   ]
  },
  {
   "cell_type": "code",
   "execution_count": 36,
   "id": "cdffd62b-4e91-4309-9b73-c7c48a3f17c1",
   "metadata": {},
   "outputs": [],
   "source": [
    "master = {33,44,33,44,55,66,44,66}"
   ]
  },
  {
   "cell_type": "code",
   "execution_count": 37,
   "id": "b46d7eb6-fdb3-4a9e-b589-d052a3b16def",
   "metadata": {},
   "outputs": [
    {
     "data": {
      "text/plain": [
       "{33, 44, 55, 66}"
      ]
     },
     "execution_count": 37,
     "metadata": {},
     "output_type": "execute_result"
    }
   ],
   "source": [
    "master\n"
   ]
  },
  {
   "cell_type": "code",
   "execution_count": 39,
   "id": "741b3b13-0bd7-425b-8ddd-79b5cbdf9d25",
   "metadata": {},
   "outputs": [
    {
     "data": {
      "text/plain": [
       "False"
      ]
     },
     "execution_count": 39,
     "metadata": {},
     "output_type": "execute_result"
    }
   ],
   "source": [
    "master.issubset(atuple)"
   ]
  },
  {
   "cell_type": "code",
   "execution_count": 40,
   "id": "1008ee4b-eb5a-4ebe-a786-73ab750a75c5",
   "metadata": {},
   "outputs": [
    {
     "data": {
      "text/plain": [
       "{33, 44, 55, 66}"
      ]
     },
     "execution_count": 40,
     "metadata": {},
     "output_type": "execute_result"
    }
   ],
   "source": [
    "master.intersection()"
   ]
  },
  {
   "cell_type": "code",
   "execution_count": 41,
   "id": "648c6aff-746d-4bf4-a4f0-7dfba83d0336",
   "metadata": {},
   "outputs": [],
   "source": [
    "master1  ={\"imrankhan\",'salman khan','kutta nawaz','pagal insaan'}"
   ]
  },
  {
   "cell_type": "code",
   "execution_count": 42,
   "id": "908b622b-4164-4d51-8a61-19c82a63f943",
   "metadata": {},
   "outputs": [
    {
     "data": {
      "text/plain": [
       "set()"
      ]
     },
     "execution_count": 42,
     "metadata": {},
     "output_type": "execute_result"
    }
   ],
   "source": [
    "master.intersection(master1)"
   ]
  },
  {
   "cell_type": "code",
   "execution_count": 43,
   "id": "fd18affb-9718-4781-aa9d-a416322cf8e4",
   "metadata": {},
   "outputs": [
    {
     "data": {
      "text/plain": [
       "{33, 44, 55, 66}"
      ]
     },
     "execution_count": 43,
     "metadata": {},
     "output_type": "execute_result"
    }
   ],
   "source": [
    "master"
   ]
  },
  {
   "cell_type": "code",
   "execution_count": 44,
   "id": "bbd48269-6d20-4efc-88c4-bb7c7ac6b85d",
   "metadata": {},
   "outputs": [
    {
     "data": {
      "text/plain": [
       "{'imrankhan', 'kutta nawaz', 'pagal insaan', 'salman khan'}"
      ]
     },
     "execution_count": 44,
     "metadata": {},
     "output_type": "execute_result"
    }
   ],
   "source": [
    "master1"
   ]
  },
  {
   "cell_type": "code",
   "execution_count": 46,
   "id": "dd1722cf-6bf0-45cd-b818-48f3e34392af",
   "metadata": {},
   "outputs": [
    {
     "data": {
      "text/plain": [
       "set()"
      ]
     },
     "execution_count": 46,
     "metadata": {},
     "output_type": "execute_result"
    }
   ],
   "source": [
    "master1.intersection(\"khan\")"
   ]
  },
  {
   "cell_type": "code",
   "execution_count": 47,
   "id": "31843da5-9d97-44ba-be99-f373dec60c27",
   "metadata": {},
   "outputs": [
    {
     "data": {
      "text/plain": [
       "{'imrankhan', 'kutta nawaz', 'pagal insaan', 'salman khan'}"
      ]
     },
     "execution_count": 47,
     "metadata": {},
     "output_type": "execute_result"
    }
   ],
   "source": [
    "master1"
   ]
  },
  {
   "cell_type": "markdown",
   "id": "b6f35573-af43-4a88-be83-33076a136941",
   "metadata": {},
   "source": [
    "# conditional statement  \n",
    "                        -if statement \n",
    "                        -if statement else\n",
    "                        - elif\n",
    "                        -nested if else \n",
    "                        "
   ]
  },
  {
   "cell_type": "code",
   "execution_count": 55,
   "id": "55360dbf-0186-4376-b373-37cc4ae54c7b",
   "metadata": {},
   "outputs": [
    {
     "name": "stdout",
     "output_type": "stream",
     "text": [
      "the data is not remove for it\n"
     ]
    }
   ],
   "source": [
    "if master1.clear():\n",
    "   print(\"all the data are removed\")\n",
    "else:\n",
    "   print(\"the data is not remove for it\")"
   ]
  },
  {
   "cell_type": "code",
   "execution_count": 54,
   "id": "c4613be6-1ef8-4e16-ac9a-98639dd23f7b",
   "metadata": {},
   "outputs": [
    {
     "data": {
      "text/plain": [
       "set()"
      ]
     },
     "execution_count": 54,
     "metadata": {},
     "output_type": "execute_result"
    }
   ],
   "source": [
    "master"
   ]
  },
  {
   "cell_type": "code",
   "execution_count": 56,
   "id": "a391159d-f45e-45c8-a42a-dc87d91e148c",
   "metadata": {},
   "outputs": [
    {
     "data": {
      "text/plain": [
       "set()"
      ]
     },
     "execution_count": 56,
     "metadata": {},
     "output_type": "execute_result"
    }
   ],
   "source": [
    "master1"
   ]
  },
  {
   "cell_type": "code",
   "execution_count": 77,
   "id": "a96be674-d892-498c-9de3-1855244957d1",
   "metadata": {},
   "outputs": [
    {
     "name": "stdout",
     "output_type": "stream",
     "text": [
      "the child are not adualt\n"
     ]
    }
   ],
   "source": [
    "age = 18\n",
    "if age >= 18:\n",
    "    print('the child are not adualt')\n",
    "elif age > 18:\n",
    "    print(\"bacha bara hogaya ha yar\")\n",
    "else : \n",
    "    print(\"this child is not special\")"
   ]
  },
  {
   "cell_type": "code",
   "execution_count": 6,
   "id": "6fa50da7-490e-46b4-99e3-c9e6807d890b",
   "metadata": {},
   "outputs": [
    {
     "name": "stdin",
     "output_type": "stream",
     "text": [
      "enter your age  12\n"
     ]
    },
    {
     "name": "stdout",
     "output_type": "stream",
     "text": [
      "abe tum chote ho\n",
      "tum kuch nahi kar sakte\n",
      "tum kuch nahi karsakte\n"
     ]
    }
   ],
   "source": [
    "age = int(input(\"enter your age \"))\n",
    "if age < 18:\n",
    "    print(\"abe tum chote ho\")\n",
    "    print(\"tum kuch nahi kar sakte\")\n",
    "    print(\"tum kuch nahi karsakte\")\n",
    "else:\n",
    "    print(\"tum aba bare hogaya ho\")\n",
    "\n",
    "\n"
   ]
  },
  {
   "cell_type": "code",
   "execution_count": 1,
   "id": "91e50d1a-79c1-407f-ac62-24e9d1758e12",
   "metadata": {},
   "outputs": [
    {
     "name": "stdin",
     "output_type": "stream",
     "text": [
      "Favrote food: press q to quiet 3\n",
      "Favrote food: press q to quiet d\n",
      "Favrote food: press q to quiet d\n",
      "Favrote food: press q to quiet d\n",
      "Favrote food: press q to quiet d\n"
     ]
    },
    {
     "ename": "SyntaxError",
     "evalue": "'break' outside loop (445155000.py, line 5)",
     "output_type": "error",
     "traceback": [
      "\u001b[1;36m  Cell \u001b[1;32mIn[1], line 5\u001b[1;36m\u001b[0m\n\u001b[1;33m    break\u001b[0m\n\u001b[1;37m    ^\u001b[0m\n\u001b[1;31mSyntaxError\u001b[0m\u001b[1;31m:\u001b[0m 'break' outside loop\n"
     ]
    }
   ],
   "source": [
    "favourite_food = []\n",
    "for a in range(5):\n",
    "    ff = input(\"Favrote food: press q to quiet\")\n",
    "if ff == \"q\":\n",
    "      break \n",
    "else:\n",
    "    favourite_food.append(ff)\n",
    "favourite_food"
   ]
  },
  {
   "cell_type": "markdown",
   "id": "c5e002bd-dc8c-4137-8f8c-4970ea222e96",
   "metadata": {},
   "source": [
    "# if else start\n"
   ]
  },
  {
   "cell_type": "code",
   "execution_count": 3,
   "id": "381f2235-840c-404c-a20b-3c5a5ec619c4",
   "metadata": {},
   "outputs": [
    {
     "name": "stdin",
     "output_type": "stream",
     "text": [
      "enter the number 26\n"
     ]
    },
    {
     "name": "stdout",
     "output_type": "stream",
     "text": [
      "bhai ap pass hogaye ha\n"
     ]
    }
   ],
   "source": [
    "numbers  = int(input(\"enter the number\"))\n",
    "\n",
    "if numbers >= 25:\n",
    "    print(\"bhai ap pass hogaye ha\")\n",
    "else:\n",
    "    print(\"ap fial hogaye ha\")"
   ]
  },
  {
   "cell_type": "code",
   "execution_count": 19,
   "id": "b69604c7-db1d-4aad-a053-7e7b027ed693",
   "metadata": {},
   "outputs": [
    {
     "name": "stdin",
     "output_type": "stream",
     "text": [
      "enter the number 2222\n"
     ]
    },
    {
     "name": "stdout",
     "output_type": "stream",
     "text": [
      "this is the even number2222\n"
     ]
    }
   ],
   "source": [
    "#take a number number input check if the number id odd or even\n",
    "\n",
    "numbers = int(input(\"enter the number\"))\n",
    "\n",
    "if numbers%2==0:\n",
    "    print(f\"this is the even number{numbers}\")\n",
    "else:\n",
    "    print(f\"this is a odd number{numbers}\")\n",
    "\n"
   ]
  },
  {
   "cell_type": "code",
   "execution_count": 37,
   "id": "a484b9cc-ed2d-44b8-b68a-0252c988c467",
   "metadata": {},
   "outputs": [
    {
     "name": "stdin",
     "output_type": "stream",
     "text": [
      "enter the totel amount 12000\n"
     ]
    },
    {
     "name": "stdout",
     "output_type": "stream",
     "text": [
      "\n",
      "        the amount you purchasees is 12000\n",
      "        this is your disocunt 1200.0\n",
      "        after discount your amount is  10800.0\n",
      "        \n",
      "       \n",
      "    \n",
      "    \n",
      "    \n"
     ]
    }
   ],
   "source": [
    "totel = int(input(\"enter the totel amount\"))\n",
    "\n",
    "if totel >= 10000:\n",
    "    discount = totel * 0.10\n",
    "    counter = totel - discount\n",
    "    print(\n",
    "        \n",
    "        \n",
    "        f\"\"\"\n",
    "        the amount you purchasees is {totel}\n",
    "        this is your disocunt {discount}\n",
    "        after discount your amount is  {counter}\n",
    "        \n",
    "       \n",
    "    \n",
    "    \n",
    "    \"\"\")\n",
    "else:\n",
    "    print(f\"you are not alligable for discount you will pay all the amount {totel}\")\n",
    "\n",
    "\n"
   ]
  },
  {
   "cell_type": "code",
   "execution_count": 45,
   "id": "6b036130-9319-4ba7-945f-366845767f19",
   "metadata": {},
   "outputs": [
    {
     "name": "stdin",
     "output_type": "stream",
     "text": [
      "if the name is exist in the firned_list SANAULLAH\n"
     ]
    },
    {
     "name": "stdout",
     "output_type": "stream",
     "text": [
      "you are welcome to the party bro you are welcome i am waiting for you for a long time\n"
     ]
    }
   ],
   "source": [
    "friend_list = [\"sanaullah\",\"imrankhan\",\"shani\",\"master\"]\n",
    "\n",
    "name = input(\"if the name is exist in the firned_list\").lower()\n",
    "\n",
    "if name in friend_list:\n",
    "     print(\"you are welcome to the party bro you are welcome i am waiting for you for a long time\")\n",
    "else:\n",
    "    print(\"ohhhhhhhhhhh\")\n"
   ]
  },
  {
   "cell_type": "markdown",
   "id": "274b954c-fe58-4149-abde-0e08856a0b2c",
   "metadata": {},
   "source": [
    "# multipile ifs "
   ]
  },
  {
   "cell_type": "code",
   "execution_count": 52,
   "id": "280a1e9f-4034-433d-b68f-8ed6c94fe535",
   "metadata": {},
   "outputs": [
    {
     "name": "stdin",
     "output_type": "stream",
     "text": [
      "enter the price of the tamtor 300\n"
     ]
    },
    {
     "name": "stdout",
     "output_type": "stream",
     "text": [
      "buy 3 kg only\n",
      "buy only4 kg ok\n",
      "buy only5 kg ok\n"
     ]
    }
   ],
   "source": [
    "#agar bare value sa shure karo gi to grather then se shuru karna ok\n",
    "# or agar chote value se shore karo gi to  less then se shoru karna\n",
    "\n",
    "price = int(input(\"enter the price of the tamtor\"))\n",
    "\n",
    "if price >= 500:\n",
    "     print(\"buy only1 kg ok\")\n",
    "if price >= 400:\n",
    "     rint(\"buy only2 kg ok\")\n",
    "if price >=300:\n",
    "    print(\"buy 3 kg only\")\n",
    "if price >= 200:\n",
    "    print(\"buy only4 kg ok\")\n",
    "if price >= 100:\n",
    "    print(\"buy only5 kg ok\")\n",
    "\n",
    "else:\n",
    "    print(\"gar ajo bohat mahange ha bhai\")"
   ]
  },
  {
   "cell_type": "code",
   "execution_count": 60,
   "id": "da0f2af8-e6a2-47b2-b730-f08ecbe6eb51",
   "metadata": {},
   "outputs": [
    {
     "name": "stdin",
     "output_type": "stream",
     "text": [
      "enter the maths marks 44\n",
      "enter the maths marks 556\n",
      "enter the maths marks 55\n",
      "enter the maths marks 44\n",
      "enter the maths marks 44\n",
      "enter the maths marks 33\n"
     ]
    },
    {
     "name": "stdout",
     "output_type": "stream",
     "text": [
      "\n",
      "sub144\n",
      "sub1556\n",
      "sub155\n",
      "sub144\n",
      "sub144\n",
      "sub133\n",
      "600:776\n",
      "129.33\n",
      "\n",
      "\n",
      "\n",
      "\n"
     ]
    }
   ],
   "source": [
    "s1 = int(input(\"enter the maths marks\"))\n",
    "s2 = int(input(\"enter the maths marks\"))\n",
    "s3 = int(input(\"enter the maths marks\"))\n",
    "s4 = int(input(\"enter the maths marks\"))\n",
    "s5 = int(input(\"enter the maths marks\"))\n",
    "s6 = int(input(\"enter the maths marks\"))\n",
    "\n",
    "totelmarks = 600\n",
    "subject_totel = 100\n",
    "totel_obtain = s1+s2+s3+s4+s5+s6\n",
    "grade = None\n",
    "percantage = totel_obtain/totelmarks*100\n",
    "\n",
    "if  percantage>=90:\n",
    "    grade = \"A+\"\n",
    "elif percantage>=80:\n",
    "    grade = \"A\"\n",
    "elif percantage>=70:\n",
    "    grade = \"b\"\n",
    "elif percantage>=60:\n",
    "    grade = \"d\"\n",
    "elif percantage>=50:\n",
    "    grade = \"e\"\n",
    "elif percantage>=40:\n",
    "    grade = \"f\"\n",
    "else:\n",
    "    print(\"ya bacha to bohat nalaike ha\")\n",
    "\n",
    "print(f\"\"\"\n",
    "sub1{s1}\n",
    "sub1{s2}\n",
    "sub1{s3}\n",
    "sub1{s4}\n",
    "sub1{s5}\n",
    "sub1{s6}\n",
    "{totelmarks}:{totel_obtain}\n",
    "{round(percantage,2)}\n",
    "\n",
    "\n",
    "\n",
    "\"\"\")"
   ]
  },
  {
   "cell_type": "code",
   "execution_count": 62,
   "id": "eca40d56-0314-48df-b781-99ca731a58c9",
   "metadata": {},
   "outputs": [
    {
     "data": {
      "text/plain": [
       "33"
      ]
     },
     "execution_count": 62,
     "metadata": {},
     "output_type": "execute_result"
    }
   ],
   "source": [
    "round(33.44444\n",
    "     )"
   ]
  },
  {
   "cell_type": "code",
   "execution_count": null,
   "id": "57cb1a6d-1ce1-4fd5-9f10-a8d751455d8a",
   "metadata": {},
   "outputs": [],
   "source": []
  }
 ],
 "metadata": {
  "kernelspec": {
   "display_name": "Python [conda env:base] *",
   "language": "python",
   "name": "conda-base-py"
  },
  "language_info": {
   "codemirror_mode": {
    "name": "ipython",
    "version": 3
   },
   "file_extension": ".py",
   "mimetype": "text/x-python",
   "name": "python",
   "nbconvert_exporter": "python",
   "pygments_lexer": "ipython3",
   "version": "3.12.7"
  }
 },
 "nbformat": 4,
 "nbformat_minor": 5
}
