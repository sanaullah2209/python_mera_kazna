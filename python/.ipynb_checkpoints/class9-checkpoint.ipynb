{
 "cells": [
  {
   "cell_type": "markdown",
   "id": "c8b9bfa7-f476-4f79-a99b-37c5ca9d976c",
   "metadata": {},
   "source": [
    "# while loop "
   ]
  },
  {
   "cell_type": "code",
   "execution_count": 4,
   "id": "75203ad1-d8b1-4a5e-be5d-82ccd1737b49",
   "metadata": {},
   "outputs": [
    {
     "data": {
      "text/plain": [
       "[1, 4, 9, 16, 25, 36, 49, 64, 81, 100]"
      ]
     },
     "execution_count": 4,
     "metadata": {},
     "output_type": "execute_result"
    }
   ],
   "source": [
    "squard_alist = []\n",
    "alist = [1,2,3,4,5,6,7,8,9,10]\n",
    "\n",
    "#usinf for loop \n",
    "for i in alist:\n",
    "    squard_alist.append(i**2)\n",
    "squard_alist"
   ]
  },
  {
   "cell_type": "code",
   "execution_count": 5,
   "id": "0af366d8-ddef-49dc-b263-4f9190514d22",
   "metadata": {},
   "outputs": [
    {
     "data": {
      "text/plain": [
       "[1, 4, 9, 16, 25, 36, 49, 64, 81, 100, 121]"
      ]
     },
     "execution_count": 5,
     "metadata": {},
     "output_type": "execute_result"
    }
   ],
   "source": [
    "squard_alist = []\n",
    "alist = [1,2,3,4,5,6,7,8,9,10,11]\n",
    "\n",
    "a = 0\n",
    "#using while \n",
    "while a<len(alist):\n",
    "  squard_alist.append(alist[a]**2)\n",
    "  a+=1\n",
    "\n",
    "squard_alist\n",
    "\n"
   ]
  },
  {
   "cell_type": "code",
   "execution_count": 21,
   "id": "6c763443-df57-4123-9344-ec6661005c44",
   "metadata": {},
   "outputs": [
    {
     "name": "stdin",
     "output_type": "stream",
     "text": [
      "Favrote food: press q to quiet d\n",
      "Favrote food: press q to quiet d\n",
      "Favrote food: press q to quiet d\n",
      "Favrote food: press q to quiet d\n",
      "Favrote food: press q to quiet d\n"
     ]
    },
    {
     "ename": "SyntaxError",
     "evalue": "'break' outside loop (4047257566.py, line 5)",
     "output_type": "error",
     "traceback": [
      "\u001b[1;36m  Cell \u001b[1;32mIn[21], line 5\u001b[1;36m\u001b[0m\n\u001b[1;33m    break\u001b[0m\n\u001b[1;37m    ^\u001b[0m\n\u001b[1;31mSyntaxError\u001b[0m\u001b[1;31m:\u001b[0m 'break' outside loop\n"
     ]
    }
   ],
   "source": [
    "favourite_food = []\n",
    "for a in range(5):\n",
    "    ff = input(\"Favrote food: press q to quiet\")\n",
    "if ff == \"q\":\n",
    "  break \n",
    "    \n",
    "else:\n",
    "    favourite_food.append(ff)\n",
    "favourite_food"
   ]
  },
  {
   "cell_type": "code",
   "execution_count": 16,
   "id": "13bd2604-426e-4902-a5b9-2c006e407100",
   "metadata": {},
   "outputs": [
    {
     "ename": "IndentationError",
     "evalue": "unindent does not match any outer indentation level (<string>, line 5)",
     "output_type": "error",
     "traceback": [
      "\u001b[1;36m  File \u001b[1;32m<string>:5\u001b[1;36m\u001b[0m\n\u001b[1;33m    if ff == \"q\":\u001b[0m\n\u001b[1;37m                 ^\u001b[0m\n\u001b[1;31mIndentationError\u001b[0m\u001b[1;31m:\u001b[0m unindent does not match any outer indentation level\n"
     ]
    }
   ],
   "source": [
    "favourite_food = []\n",
    "a = 0\n",
    "for a in range(5):\n",
    "    ff = input(\"Favrote food: press q to quiet\")\n",
    "  if ff == \"q\":\n",
    "      break \n",
    "  else:\n",
    "    favourite_food.append(ff)\n",
    "favourite_food"
   ]
  },
  {
   "cell_type": "code",
   "execution_count": 14,
   "id": "254b6962-1856-4f80-897f-a9933d8845ff",
   "metadata": {},
   "outputs": [
    {
     "name": "stdin",
     "output_type": "stream",
     "text": [
      "favorite food  san\n",
      "favorite food  fjdfds\n",
      "favorite food  ee\n",
      "favorite food  dd\n",
      "favorite food  ff\n",
      "favorite food  dd\n",
      "favorite food  d\n",
      "favorite food  d\n",
      "favorite food  \n",
      "favorite food  d\n",
      "favorite food  f\n",
      "favorite food  d\n",
      "favorite food  f\n",
      "favorite food  d\n",
      "favorite food  f\n",
      "favorite food  d\n",
      "favorite food  q\n"
     ]
    },
    {
     "data": {
      "text/plain": [
       "['san',\n",
       " 'fjdfds',\n",
       " 'ee',\n",
       " 'dd',\n",
       " 'ff',\n",
       " 'dd',\n",
       " 'd',\n",
       " 'd',\n",
       " '',\n",
       " 'd',\n",
       " 'f',\n",
       " 'd',\n",
       " 'f',\n",
       " 'd',\n",
       " 'f',\n",
       " 'd']"
      ]
     },
     "execution_count": 14,
     "metadata": {},
     "output_type": "execute_result"
    }
   ],
   "source": [
    "favourite_food = []\n",
    "a = 0\n",
    "flag = True\n",
    "while flag:\n",
    "    ff = input(\"favorite food \")\n",
    "    if ff == \"q\":\n",
    "        flag= False\n",
    "    else:\n",
    "        favourite_food.append(ff)\n",
    "favourite_food"
   ]
  },
  {
   "cell_type": "markdown",
   "id": "be1eebce-1502-447a-abe7-87b8435157e4",
   "metadata": {},
   "source": [
    "# Functions"
   ]
  },
  {
   "cell_type": "markdown",
   "id": "cce3dd13-1c97-471f-8c2e-b11e910e6f69",
   "metadata": {},
   "source": [
    "# muje repateted code na lekna pare is leye muje function use karne chaye"
   ]
  },
  {
   "cell_type": "markdown",
   "id": "760d4a50-fca7-48e3-a3b0-afcdbc1fb82d",
   "metadata": {},
   "source": [
    "# add differnend location they can work"
   ]
  },
  {
   "cell_type": "markdown",
   "id": "dd86c089-fb2f-463e-b0b3-2e98cd163913",
   "metadata": {},
   "source": [
    "# open function \n",
    "           - Open functions >> print ,type input ,len,range,id,\n",
    "           - class functions list ki function diconary ki function set ki function diconary ki funciton ,string ki funciton \n",
    "           - hum abe jo parne user defined function:\n",
    "           -any instence of code ap function ko call kar sakte ha \n",
    "           "
   ]
  },
  {
   "cell_type": "code",
   "execution_count": 22,
   "id": "aedcd13f-61bc-4426-829b-5233757bf456",
   "metadata": {},
   "outputs": [],
   "source": [
    "#def for defeneation \n",
    "\n",
    "#def function_name()\n",
    "def greeteveryone():\n",
    "    print(\"Welcome!\")"
   ]
  },
  {
   "cell_type": "code",
   "execution_count": 24,
   "id": "64075f1b-acad-4206-99d7-727be78a491c",
   "metadata": {},
   "outputs": [
    {
     "name": "stdout",
     "output_type": "stream",
     "text": [
      "Welcome!\n"
     ]
    }
   ],
   "source": [
    "greeteveryone()"
   ]
  },
  {
   "cell_type": "code",
   "execution_count": 25,
   "id": "58593634-a209-41e0-99ae-e5bd219ca73c",
   "metadata": {},
   "outputs": [
    {
     "name": "stdout",
     "output_type": "stream",
     "text": [
      "Welcome!\n"
     ]
    }
   ],
   "source": [
    "greeteveryone()"
   ]
  },
  {
   "cell_type": "code",
   "execution_count": 26,
   "id": "7542ac6b-ef9b-46e4-9fab-186973d6d6a8",
   "metadata": {},
   "outputs": [],
   "source": [
    "def add():\n",
    "    a = 10 \n",
    "    b = 20\n",
    "    print(a+b)"
   ]
  },
  {
   "cell_type": "code",
   "execution_count": 27,
   "id": "8a5af8e7-6e20-4fd0-9494-50f27ab0e8d1",
   "metadata": {},
   "outputs": [
    {
     "name": "stdout",
     "output_type": "stream",
     "text": [
      "30\n"
     ]
    }
   ],
   "source": [
    "add()"
   ]
  },
  {
   "cell_type": "code",
   "execution_count": null,
   "id": "1ae75f44-dc42-490a-9695-f81c2dea6975",
   "metadata": {},
   "outputs": [],
   "source": [
    "#parameter less function \n",
    "#def add():\n",
    " ##  b = 20\n",
    "    print(a+b)"
   ]
  }
 ],
 "metadata": {
  "kernelspec": {
   "display_name": "Python 3 (ipykernel)",
   "language": "python",
   "name": "python3"
  },
  "language_info": {
   "codemirror_mode": {
    "name": "ipython",
    "version": 3
   },
   "file_extension": ".py",
   "mimetype": "text/x-python",
   "name": "python",
   "nbconvert_exporter": "python",
   "pygments_lexer": "ipython3",
   "version": "3.12.7"
  },
  "panel-cell-order": [
   "f94bfd62-583c-4077-907c-d38b2856cba2"
  ]
 },
 "nbformat": 4,
 "nbformat_minor": 5
}
