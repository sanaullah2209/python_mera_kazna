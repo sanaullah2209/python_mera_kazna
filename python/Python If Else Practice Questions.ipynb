{
 "cells": [
  {
   "cell_type": "code",
   "execution_count": null,
   "id": "55ea05a1-c611-4de9-8e10-5375cfa4de77",
   "metadata": {},
   "outputs": [],
   "source": [
    "# 1. Check Discount Eligibility\n",
    "# Write a program to check if a customer is eligible for a discount. If the total purchase is\n",
    "# more than $100, apply a 10% discount and display the final price. Otherwise, display the\n",
    "# total price as it is.\n",
    "\n",
    "purchase = int(input(\"enter the purchase\"))\n",
    "\n",
    "\n",
    "if purchase >=100:\n",
    "    disount = purchase * 0.10\n",
    "    totel = pur\n",
    "    print()\n",
    "else:\n",
    "    print(f\"tume nahi mile ga {purchase}\")\n",
    "    \n",
    "\n",
    "\n",
    "\n"
   ]
  }
 ],
 "metadata": {
  "kernelspec": {
   "display_name": "Python [conda env:base] *",
   "language": "python",
   "name": "conda-base-py"
  },
  "language_info": {
   "codemirror_mode": {
    "name": "ipython",
    "version": 3
   },
   "file_extension": ".py",
   "mimetype": "text/x-python",
   "name": "python",
   "nbconvert_exporter": "python",
   "pygments_lexer": "ipython3",
   "version": "3.12.7"
  }
 },
 "nbformat": 4,
 "nbformat_minor": 5
}
