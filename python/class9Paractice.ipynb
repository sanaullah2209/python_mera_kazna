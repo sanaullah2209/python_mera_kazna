{
 "cells": [
  {
   "cell_type": "code",
   "execution_count": 1,
   "id": "5cb8e628-46ea-4593-88df-7a24f76e505f",
   "metadata": {},
   "outputs": [
    {
     "data": {
      "text/plain": [
       "[484, 1089, 1936, 3025, 4356, 5929]"
      ]
     },
     "execution_count": 1,
     "metadata": {},
     "output_type": "execute_result"
    }
   ],
   "source": [
    "squad_alist = []\n",
    "alist = [22,33,44,55,66,77]\n",
    "\n",
    "for n in alist:\n",
    "    squad_alist.append(n**2)\n",
    " \n",
    "squad_alist"
   ]
  },
  {
   "cell_type": "code",
   "execution_count": 2,
   "id": "d5a80221-a6bd-4b78-8301-ae3643a8e0b0",
   "metadata": {},
   "outputs": [
    {
     "data": {
      "text/plain": [
       "[484, 1089, 1936, 3025, 4356, 5929]"
      ]
     },
     "execution_count": 2,
     "metadata": {},
     "output_type": "execute_result"
    }
   ],
   "source": [
    "squard_alist = []\n",
    "alist = [1,2,3,4,5,6,7,8,9,10,11]\n",
    "\n",
    "a = 0\n",
    "while a>len(alist) :\n",
    "    squad_alist.append(a**3)\n",
    "    a+=1\n",
    "\n",
    "squad_alist"
   ]
  },
  {
   "cell_type": "code",
   "execution_count": 3,
   "id": "ebc04636-2234-4e2e-9664-d2e3b7695012",
   "metadata": {},
   "outputs": [
    {
     "name": "stdout",
     "output_type": "stream",
     "text": [
      "banana\n",
      "banana\n",
      "banana\n",
      "banana\n",
      "banana\n"
     ]
    }
   ],
   "source": [
    "strr = \"banana\"\n",
    "for i in range(5):\n",
    "  print(strr)\n",
    "  "
   ]
  },
  {
   "cell_type": "code",
   "execution_count": 4,
   "id": "870937b4-1ca5-4e0e-99e5-ed16437f2e67",
   "metadata": {
    "scrolled": true
   },
   "outputs": [
    {
     "data": {
      "text/plain": [
       "[1, 4, 9, 16, 25, 36, 49, 64, 81]"
      ]
     },
     "execution_count": 4,
     "metadata": {},
     "output_type": "execute_result"
    }
   ],
   "source": [
    "squad_list = []\n",
    "alist = [1,2,3,4,5,6,7,8,9]\n",
    "\n",
    "for i in alist:\n",
    "    squad_list.append(i**2) \n",
    "\n",
    "squad_list    "
   ]
  },
  {
   "cell_type": "code",
   "execution_count": 5,
   "id": "a721dd51-039e-45bf-86cb-dec1811b5a85",
   "metadata": {},
   "outputs": [
    {
     "data": {
      "text/plain": [
       "[1, 4, 9, 16, 25, 36, 49, 64, 81]"
      ]
     },
     "execution_count": 5,
     "metadata": {},
     "output_type": "execute_result"
    }
   ],
   "source": [
    "squad_list = []\n",
    "alist = [1,2,3,4,5,6,7,8,9]\n",
    "\n",
    "a = 0\n",
    "while a<len(alist): \n",
    "      squad_list.append(alist[a]**2) \n",
    "      a+=1\n",
    "squad_list    "
   ]
  },
  {
   "cell_type": "code",
   "execution_count": 6,
   "id": "51e897c4-5c25-4186-82da-352ed95a9397",
   "metadata": {},
   "outputs": [
    {
     "name": "stdin",
     "output_type": "stream",
     "text": [
      "this is my friend here when some one press q then terminate this f\n",
      "this is my friend here when some one press q then terminate this q\n"
     ]
    },
    {
     "data": {
      "text/plain": [
       "['f']"
      ]
     },
     "execution_count": 6,
     "metadata": {},
     "output_type": "execute_result"
    }
   ],
   "source": [
    "favourate_food = []\n",
    "\n",
    "for i in range(5):\n",
    "    ff = input(\"this is my friend here when some one press q then terminate this\")\n",
    "    if ff.lower() == \"q\":\n",
    "     break\n",
    "    else:\n",
    "     favourate_food.append(ff)\n",
    "favourate_food\n",
    "    "
   ]
  },
  {
   "cell_type": "code",
   "execution_count": 7,
   "id": "938a389f-53b2-49b9-a29d-63eb15c75dc5",
   "metadata": {},
   "outputs": [
    {
     "name": "stdin",
     "output_type": "stream",
     "text": [
      "enter your favourate good here q\n"
     ]
    },
    {
     "data": {
      "text/plain": [
       "[]"
      ]
     },
     "execution_count": 7,
     "metadata": {},
     "output_type": "execute_result"
    }
   ],
   "source": [
    "favourate_food = []\n",
    "\n",
    "a = 0\n",
    "flag = True\n",
    "\n",
    "while flag:\n",
    "    ff = input(\"enter your favourate good here\")\n",
    "    if ff == \"q\":\n",
    "        break\n",
    "    else:  \n",
    "        favourate_food.append(ff)\n",
    "favourate_food    "
   ]
  },
  {
   "cell_type": "code",
   "execution_count": 11,
   "id": "3d91cf30-ce0e-4da8-ba93-59200ac85bc7",
   "metadata": {},
   "outputs": [],
   "source": [
    "def greatting(name):\n",
    "    print(f\"you are my friend babe {name}\")\n",
    "\n"
   ]
  },
  {
   "cell_type": "code",
   "execution_count": 13,
   "id": "8e32aacd-a32f-44c8-ad7b-8b36e4e6ac12",
   "metadata": {},
   "outputs": [
    {
     "name": "stdout",
     "output_type": "stream",
     "text": [
      "you are my friend babe sanaullah\n"
     ]
    }
   ],
   "source": [
    "greatting(\"sanaullah\")"
   ]
  },
  {
   "cell_type": "code",
   "execution_count": 14,
   "id": "2c91a457-a0ac-47de-a3ca-01e3c739cd5c",
   "metadata": {},
   "outputs": [],
   "source": [
    "def add():\n",
    "    a =10 \n",
    "    b =20\n",
    "    print(a+b)"
   ]
  },
  {
   "cell_type": "code",
   "execution_count": 15,
   "id": "6c0a66e5-0b21-42e7-a8e8-5e3d383db62a",
   "metadata": {},
   "outputs": [
    {
     "name": "stdout",
     "output_type": "stream",
     "text": [
      "30\n"
     ]
    }
   ],
   "source": [
    "add()"
   ]
  },
  {
   "cell_type": "code",
   "execution_count": 16,
   "id": "494baae0-8b4b-4abf-ad05-63667c3b9fe7",
   "metadata": {},
   "outputs": [],
   "source": [
    "def add(a,b):\n",
    "    print(a+b)"
   ]
  },
  {
   "cell_type": "code",
   "execution_count": 17,
   "id": "2d0442dc-c974-413f-9f8b-2f1d93c60eb5",
   "metadata": {},
   "outputs": [
    {
     "name": "stdout",
     "output_type": "stream",
     "text": [
      "50\n"
     ]
    }
   ],
   "source": [
    "add(20,30)"
   ]
  },
  {
   "cell_type": "code",
   "execution_count": 18,
   "id": "e199233e-d1db-4942-8cc9-2b2df92919eb",
   "metadata": {},
   "outputs": [
    {
     "name": "stdout",
     "output_type": "stream",
     "text": [
      "sanakhan\n"
     ]
    }
   ],
   "source": [
    "add(\"sana\",\"khan\")"
   ]
  },
  {
   "cell_type": "code",
   "execution_count": 19,
   "id": "fdafc7c9-f2c6-476a-9ccc-92be6b8c6a1f",
   "metadata": {},
   "outputs": [],
   "source": [
    "def add(a,b,c=10):\n",
    "    print(a+b+c)"
   ]
  },
  {
   "cell_type": "code",
   "execution_count": 20,
   "id": "e285da96-3ef1-40ce-8a8d-8b501a41d480",
   "metadata": {},
   "outputs": [
    {
     "name": "stdout",
     "output_type": "stream",
     "text": [
      "76\n"
     ]
    }
   ],
   "source": [
    "add(22,44)"
   ]
  },
  {
   "cell_type": "code",
   "execution_count": 21,
   "id": "8e87ab94-ca3f-4ba9-8728-683225dd2fbc",
   "metadata": {},
   "outputs": [],
   "source": [
    "def add(a=10,b=20,c=10):\n",
    "    print(a+b+c)"
   ]
  },
  {
   "cell_type": "code",
   "execution_count": 22,
   "id": "57619e99-497d-416d-8f93-51a1c7288194",
   "metadata": {},
   "outputs": [
    {
     "name": "stdout",
     "output_type": "stream",
     "text": [
      "40\n"
     ]
    }
   ],
   "source": [
    "add()"
   ]
  },
  {
   "cell_type": "markdown",
   "id": "82b70e0f-e27f-41c0-bac1-d28b18c6e216",
   "metadata": {},
   "source": [
    "# keyword arguement"
   ]
  },
  {
   "cell_type": "code",
   "execution_count": 23,
   "id": "59a5c7d3-b751-4f9b-8179-e4dba571c3e8",
   "metadata": {},
   "outputs": [],
   "source": [
    "def generate_profile(name,email,age):\n",
    "    profile = {'name':name,'email':email,'age':age}\n",
    "    print(profile)\n",
    "    \n",
    "    \n",
    "    "
   ]
  },
  {
   "cell_type": "code",
   "execution_count": 24,
   "id": "8b4191b6-7794-4409-a518-1da14321ca40",
   "metadata": {},
   "outputs": [
    {
     "name": "stdout",
     "output_type": "stream",
     "text": [
      "{'name': 'sanaullah', 'email': 'irmakhan@gmail.com', 'age': 22}\n"
     ]
    }
   ],
   "source": [
    "generate_profile(name=\"sanaullah\",email=\"irmakhan@gmail.com\",age=22)"
   ]
  },
  {
   "cell_type": "code",
   "execution_count": 26,
   "id": "8af5f5fd-ea4f-445f-a00f-9a7d1e851ee6",
   "metadata": {},
   "outputs": [],
   "source": [
    "def generate_result(name,marks,paper):\n",
    "    result = {'name':name,'marks':marks,\"paper\":paper}\n",
    "    print(result)"
   ]
  },
  {
   "cell_type": "code",
   "execution_count": 27,
   "id": "ef6fae0f-db85-4b7d-9a6e-b50673c5fc77",
   "metadata": {},
   "outputs": [
    {
     "name": "stdout",
     "output_type": "stream",
     "text": [
      "{'name': 'sanaullah', 'marks': 20, 'paper': 'english'}\n"
     ]
    }
   ],
   "source": [
    "generate_result(name=\"sanaullah\",marks=20,paper=\"english\")"
   ]
  },
  {
   "cell_type": "markdown",
   "id": "45a0af42-5508-4abe-a062-7ea98d54521d",
   "metadata": {},
   "source": [
    "# arbitray oprator "
   ]
  },
  {
   "cell_type": "code",
   "execution_count": 28,
   "id": "c6591177-55ca-47ad-8f99-76cb4044082f",
   "metadata": {},
   "outputs": [],
   "source": [
    "def add(a,b,c=0,*other):\n",
    "    print(a+b+c+sum(other))\n"
   ]
  },
  {
   "cell_type": "code",
   "execution_count": 29,
   "id": "7a21dc21-40e9-4d64-bd38-0e4b87a35836",
   "metadata": {},
   "outputs": [
    {
     "name": "stdout",
     "output_type": "stream",
     "text": [
      "107\n"
     ]
    }
   ],
   "source": [
    "add(1,3,4,4,5,6,6,6,66,6,)"
   ]
  },
  {
   "cell_type": "code",
   "execution_count": 4,
   "id": "6e078526-39d7-472c-878d-1779a3aa9acc",
   "metadata": {},
   "outputs": [
    {
     "data": {
      "text/plain": [
       "10"
      ]
     },
     "execution_count": 4,
     "metadata": {},
     "output_type": "execute_result"
    }
   ],
   "source": [
    "int(0b1010)"
   ]
  },
  {
   "cell_type": "code",
   "execution_count": null,
   "id": "8b4edb19-c222-4673-b335-298ff7568fd2",
   "metadata": {},
   "outputs": [],
   "source": []
  }
 ],
 "metadata": {
  "kernelspec": {
   "display_name": "Python 3 (ipykernel)",
   "language": "python",
   "name": "python3"
  },
  "language_info": {
   "codemirror_mode": {
    "name": "ipython",
    "version": 3
   },
   "file_extension": ".py",
   "mimetype": "text/x-python",
   "name": "python",
   "nbconvert_exporter": "python",
   "pygments_lexer": "ipython3",
   "version": "3.12.7"
  },
  "panel-cell-order": [
   "f94bfd62-583c-4077-907c-d38b2856cba2"
  ]
 },
 "nbformat": 4,
 "nbformat_minor": 5
}
