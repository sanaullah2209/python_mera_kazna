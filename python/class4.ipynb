{
 "cells": [
  {
   "cell_type": "markdown",
   "id": "321442c1-4dd9-44cc-ae43-2b670fc52b97",
   "metadata": {},
   "source": [
    "# List functuon and methods "
   ]
  },
  {
   "cell_type": "code",
   "execution_count": 2,
   "id": "6cf9c2a8-fec0-4458-8015-27f6dc15e5e7",
   "metadata": {},
   "outputs": [],
   "source": [
    "students = [ 'sanaullah','master ','imran khan','kameem','baber','khan']"
   ]
  },
  {
   "cell_type": "markdown",
   "id": "43f6b798-33fe-42b2-ae7c-0b830b4319c8",
   "metadata": {},
   "source": [
    "# adding more member to an existing list \n",
    "- append() : appends a memeber at very last (add only one value)\n",
    " -insert() : insert a memeber at given index\n",
    " -extend() : adds a collection to  list \n",
    " - (+) : concatnate to list"
   ]
  },
  {
   "cell_type": "code",
   "execution_count": 3,
   "id": "ecb07a25-40e8-460f-ad80-cd3c1c75df9c",
   "metadata": {},
   "outputs": [],
   "source": [
    "#adds a single value for a member in the last\n",
    "students.append(\"moiz\")"
   ]
  },
  {
   "cell_type": "code",
   "execution_count": 4,
   "id": "16c70fca-bf08-4cc7-9d59-a8d39b711514",
   "metadata": {},
   "outputs": [
    {
     "data": {
      "text/plain": [
       "['sanaullah', 'master ', 'imran khan', 'kameem', 'baber', 'khan', 'moiz']"
      ]
     },
     "execution_count": 4,
     "metadata": {},
     "output_type": "execute_result"
    }
   ],
   "source": [
    "students"
   ]
  },
  {
   "cell_type": "code",
   "execution_count": 5,
   "id": "8aea7af9-ea8b-4303-abf3-64fc33b0cb33",
   "metadata": {},
   "outputs": [
    {
     "ename": "TypeError",
     "evalue": "list.append() takes exactly one argument (2 given)",
     "output_type": "error",
     "traceback": [
      "\u001b[1;31m---------------------------------------------------------------------------\u001b[0m",
      "\u001b[1;31mTypeError\u001b[0m                                 Traceback (most recent call last)",
      "Cell \u001b[1;32mIn[5], line 1\u001b[0m\n\u001b[1;32m----> 1\u001b[0m students\u001b[38;5;241m.\u001b[39mappend(\u001b[38;5;124m\"\u001b[39m\u001b[38;5;124mmoiz\u001b[39m\u001b[38;5;124m\"\u001b[39m,\u001b[38;5;124m'\u001b[39m\u001b[38;5;124mbasit\u001b[39m\u001b[38;5;124m'\u001b[39m)\n",
      "\u001b[1;31mTypeError\u001b[0m: list.append() takes exactly one argument (2 given)"
     ]
    }
   ],
   "source": [
    "#append take only one value \n",
    "students.append(\"moiz\",'basit')"
   ]
  },
  {
   "cell_type": "code",
   "execution_count": 6,
   "id": "19a3eb92-9e83-4ac8-ad70-45913b2aedf3",
   "metadata": {},
   "outputs": [],
   "source": [
    "#add majid on 3rd index \n",
    "students.insert(3,'hasnin')"
   ]
  },
  {
   "cell_type": "code",
   "execution_count": 7,
   "id": "22dbe669-1a96-4c5d-84d9-62f1b60ae904",
   "metadata": {},
   "outputs": [
    {
     "data": {
      "text/plain": [
       "['sanaullah',\n",
       " 'master ',\n",
       " 'imran khan',\n",
       " 'hasnin',\n",
       " 'kameem',\n",
       " 'baber',\n",
       " 'khan',\n",
       " 'moiz']"
      ]
     },
     "execution_count": 7,
     "metadata": {},
     "output_type": "execute_result"
    }
   ],
   "source": [
    "students"
   ]
  },
  {
   "cell_type": "code",
   "execution_count": 8,
   "id": "9b4a4aab-f16f-4cb3-a3cc-ad62f8757ed5",
   "metadata": {},
   "outputs": [],
   "source": [
    "#add majid  on 100 index they will not give you error they will inesert value at the last\n",
    "#insert take index,value\n",
    "students.insert(100,'kutta')"
   ]
  },
  {
   "cell_type": "code",
   "execution_count": 9,
   "id": "58471a73-8fdd-4cf3-b9eb-a311fe110a1c",
   "metadata": {},
   "outputs": [
    {
     "data": {
      "text/plain": [
       "['sanaullah',\n",
       " 'master ',\n",
       " 'imran khan',\n",
       " 'hasnin',\n",
       " 'kameem',\n",
       " 'baber',\n",
       " 'khan',\n",
       " 'moiz',\n",
       " 'kutta']"
      ]
     },
     "execution_count": 9,
     "metadata": {},
     "output_type": "execute_result"
    }
   ],
   "source": [
    "students"
   ]
  },
  {
   "cell_type": "code",
   "execution_count": 10,
   "id": "300b2007-b041-4f0d-979e-71ab31a97606",
   "metadata": {},
   "outputs": [],
   "source": [
    "staff = [\"wahid\",'kamal','master','mas']"
   ]
  },
  {
   "cell_type": "code",
   "execution_count": 11,
   "id": "e78c3300-5e12-44b6-9816-6a5b215bb385",
   "metadata": {},
   "outputs": [],
   "source": [
    "students.append(staff)"
   ]
  },
  {
   "cell_type": "code",
   "execution_count": 12,
   "id": "90c8211c-e15f-4cfd-8ded-9dd9c515b299",
   "metadata": {},
   "outputs": [
    {
     "data": {
      "text/plain": [
       "['sanaullah',\n",
       " 'master ',\n",
       " 'imran khan',\n",
       " 'hasnin',\n",
       " 'kameem',\n",
       " 'baber',\n",
       " 'khan',\n",
       " 'moiz',\n",
       " 'kutta',\n",
       " ['wahid', 'kamal', 'master', 'mas']]"
      ]
     },
     "execution_count": 12,
     "metadata": {},
     "output_type": "execute_result"
    }
   ],
   "source": [
    "students\n"
   ]
  },
  {
   "cell_type": "code",
   "execution_count": 13,
   "id": "87b36e13-1bcc-452c-bbf2-ddc8cf74d996",
   "metadata": {},
   "outputs": [],
   "source": [
    "students.extend(staff)"
   ]
  },
  {
   "cell_type": "code",
   "execution_count": 14,
   "id": "80f38147-3f6f-4dcd-ae48-de892bc386e9",
   "metadata": {},
   "outputs": [
    {
     "data": {
      "text/plain": [
       "['sanaullah',\n",
       " 'master ',\n",
       " 'imran khan',\n",
       " 'hasnin',\n",
       " 'kameem',\n",
       " 'baber',\n",
       " 'khan',\n",
       " 'moiz',\n",
       " 'kutta',\n",
       " ['wahid', 'kamal', 'master', 'mas'],\n",
       " 'wahid',\n",
       " 'kamal',\n",
       " 'master',\n",
       " 'mas']"
      ]
     },
     "execution_count": 14,
     "metadata": {},
     "output_type": "execute_result"
    }
   ],
   "source": [
    "students"
   ]
  },
  {
   "cell_type": "code",
   "execution_count": 15,
   "id": "7343a0df-ef12-469c-a4f2-c6b8695fa188",
   "metadata": {},
   "outputs": [],
   "source": [
    "# string is also a collecition we can extands string\n",
    "students.extend(\"sanaullh\")"
   ]
  },
  {
   "cell_type": "code",
   "execution_count": 16,
   "id": "3a263308-ff2b-4973-a450-2baabdc8b40b",
   "metadata": {},
   "outputs": [
    {
     "data": {
      "text/plain": [
       "['sanaullah',\n",
       " 'master ',\n",
       " 'imran khan',\n",
       " 'hasnin',\n",
       " 'kameem',\n",
       " 'baber',\n",
       " 'khan',\n",
       " 'moiz',\n",
       " 'kutta',\n",
       " ['wahid', 'kamal', 'master', 'mas'],\n",
       " 'wahid',\n",
       " 'kamal',\n",
       " 'master',\n",
       " 'mas',\n",
       " 's',\n",
       " 'a',\n",
       " 'n',\n",
       " 'a',\n",
       " 'u',\n",
       " 'l',\n",
       " 'l',\n",
       " 'h']"
      ]
     },
     "execution_count": 16,
     "metadata": {},
     "output_type": "execute_result"
    }
   ],
   "source": [
    "students"
   ]
  },
  {
   "cell_type": "code",
   "execution_count": 17,
   "id": "42072949-0958-4a67-a084-c33197bde182",
   "metadata": {},
   "outputs": [
    {
     "ename": "TypeError",
     "evalue": "'int' object is not iterable",
     "output_type": "error",
     "traceback": [
      "\u001b[1;31m---------------------------------------------------------------------------\u001b[0m",
      "\u001b[1;31mTypeError\u001b[0m                                 Traceback (most recent call last)",
      "Cell \u001b[1;32mIn[17], line 1\u001b[0m\n\u001b[1;32m----> 1\u001b[0m students\u001b[38;5;241m.\u001b[39mextend(\u001b[38;5;241m100\u001b[39m)\n",
      "\u001b[1;31mTypeError\u001b[0m: 'int' object is not iterable"
     ]
    }
   ],
   "source": [
    "# we can not extend a integar value \n",
    "students.extend(100)"
   ]
  },
  {
   "cell_type": "code",
   "execution_count": 18,
   "id": "b9d0327a-c952-4c08-ace4-f413e041c760",
   "metadata": {},
   "outputs": [],
   "source": [
    "# ya orginal ma extend kardega memory ma change kar dega \n",
    "students.extend(\"1\")"
   ]
  },
  {
   "cell_type": "code",
   "execution_count": 19,
   "id": "af55ada8-7655-4728-a97c-91e7a9e3d106",
   "metadata": {},
   "outputs": [
    {
     "data": {
      "text/plain": [
       "['sanaullah',\n",
       " 'master ',\n",
       " 'imran khan',\n",
       " 'hasnin',\n",
       " 'kameem',\n",
       " 'baber',\n",
       " 'khan',\n",
       " 'moiz',\n",
       " 'kutta',\n",
       " ['wahid', 'kamal', 'master', 'mas'],\n",
       " 'wahid',\n",
       " 'kamal',\n",
       " 'master',\n",
       " 'mas',\n",
       " 's',\n",
       " 'a',\n",
       " 'n',\n",
       " 'a',\n",
       " 'u',\n",
       " 'l',\n",
       " 'l',\n",
       " 'h',\n",
       " '1']"
      ]
     },
     "execution_count": 19,
     "metadata": {},
     "output_type": "execute_result"
    }
   ],
   "source": [
    "students"
   ]
  },
  {
   "cell_type": "code",
   "execution_count": 20,
   "id": "fed85bb7-b31c-4d6a-9ac2-82aceeafc3cb",
   "metadata": {},
   "outputs": [
    {
     "data": {
      "text/plain": [
       "['sanaullah',\n",
       " 'master ',\n",
       " 'imran khan',\n",
       " 'hasnin',\n",
       " 'kameem',\n",
       " 'baber',\n",
       " 'khan',\n",
       " 'moiz',\n",
       " 'kutta',\n",
       " ['wahid', 'kamal', 'master', 'mas'],\n",
       " 'wahid',\n",
       " 'kamal',\n",
       " 'master',\n",
       " 'mas',\n",
       " 's',\n",
       " 'a',\n",
       " 'n',\n",
       " 'a',\n",
       " 'u',\n",
       " 'l',\n",
       " 'l',\n",
       " 'h',\n",
       " '1',\n",
       " 'wahid',\n",
       " 'kamal',\n",
       " 'master',\n",
       " 'mas']"
      ]
     },
     "execution_count": 20,
     "metadata": {},
     "output_type": "execute_result"
    }
   ],
   "source": [
    "# ya copy ban kar aya ha ya memory ma change nahi hoga \n",
    "students+staff\n"
   ]
  },
  {
   "cell_type": "markdown",
   "id": "7fc3c062-f597-496f-aee8-6fc64cecc786",
   "metadata": {},
   "source": [
    "# Delleting a memeber from existing list\n",
    " #### del statment deletes parmanentaly via index \n",
    " -remove() L deleteds parmanently via value \n",
    " -pop(): deletes parmanentally from last index / can delete a memeber from given index / it also return delted value \n",
    " - clear() function remove all the list delete all the value from list "
   ]
  },
  {
   "cell_type": "markdown",
   "id": "71e2105c-5765-4848-98d4-66ee9054735f",
   "metadata": {},
   "source": [
    "name = \"hello\""
   ]
  },
  {
   "cell_type": "code",
   "execution_count": 22,
   "id": "ddfdc668-de30-4f73-8ebc-ec27a5634081",
   "metadata": {},
   "outputs": [],
   "source": [
    "name = \"hello\""
   ]
  },
  {
   "cell_type": "code",
   "execution_count": 23,
   "id": "0e4af810-cf25-48c2-a55d-684578c5ba6c",
   "metadata": {},
   "outputs": [
    {
     "data": {
      "text/plain": [
       "['sanaullah',\n",
       " 'master ',\n",
       " 'imran khan',\n",
       " 'hasnin',\n",
       " 'kameem',\n",
       " 'baber',\n",
       " 'khan',\n",
       " 'moiz',\n",
       " 'kutta',\n",
       " ['wahid', 'kamal', 'master', 'mas'],\n",
       " 'wahid',\n",
       " 'kamal',\n",
       " 'master',\n",
       " 'mas',\n",
       " 's',\n",
       " 'a',\n",
       " 'n',\n",
       " 'a',\n",
       " 'u',\n",
       " 'l',\n",
       " 'l',\n",
       " 'h',\n",
       " '1']"
      ]
     },
     "execution_count": 23,
     "metadata": {},
     "output_type": "execute_result"
    }
   ],
   "source": [
    "students"
   ]
  },
  {
   "cell_type": "code",
   "execution_count": 24,
   "id": "e1a2b882-7dac-48e2-a6e1-ef03531c3fdb",
   "metadata": {},
   "outputs": [],
   "source": [
    "del students[0]"
   ]
  },
  {
   "cell_type": "code",
   "execution_count": 25,
   "id": "0e2cf0fa-4756-43e8-bd47-f887716b327e",
   "metadata": {},
   "outputs": [
    {
     "data": {
      "text/plain": [
       "['master ',\n",
       " 'imran khan',\n",
       " 'hasnin',\n",
       " 'kameem',\n",
       " 'baber',\n",
       " 'khan',\n",
       " 'moiz',\n",
       " 'kutta',\n",
       " ['wahid', 'kamal', 'master', 'mas'],\n",
       " 'wahid',\n",
       " 'kamal',\n",
       " 'master',\n",
       " 'mas',\n",
       " 's',\n",
       " 'a',\n",
       " 'n',\n",
       " 'a',\n",
       " 'u',\n",
       " 'l',\n",
       " 'l',\n",
       " 'h',\n",
       " '1']"
      ]
     },
     "execution_count": 25,
     "metadata": {},
     "output_type": "execute_result"
    }
   ],
   "source": [
    "students"
   ]
  },
  {
   "cell_type": "code",
   "execution_count": 26,
   "id": "e3e7722d-a35d-4432-accb-53ed34e7b630",
   "metadata": {},
   "outputs": [],
   "source": [
    "# del want index \n",
    "del students[4]"
   ]
  },
  {
   "cell_type": "code",
   "execution_count": 27,
   "id": "49bcd261-07d4-45a0-9822-01b72fd31ac9",
   "metadata": {},
   "outputs": [
    {
     "data": {
      "text/plain": [
       "['master ',\n",
       " 'imran khan',\n",
       " 'hasnin',\n",
       " 'kameem',\n",
       " 'khan',\n",
       " 'moiz',\n",
       " 'kutta',\n",
       " ['wahid', 'kamal', 'master', 'mas'],\n",
       " 'wahid',\n",
       " 'kamal',\n",
       " 'master',\n",
       " 'mas',\n",
       " 's',\n",
       " 'a',\n",
       " 'n',\n",
       " 'a',\n",
       " 'u',\n",
       " 'l',\n",
       " 'l',\n",
       " 'h',\n",
       " '1']"
      ]
     },
     "execution_count": 27,
     "metadata": {},
     "output_type": "execute_result"
    }
   ],
   "source": [
    "students"
   ]
  },
  {
   "cell_type": "code",
   "execution_count": 28,
   "id": "0c8d7b68-6089-460a-a6f6-c3b526e8fdb3",
   "metadata": {},
   "outputs": [],
   "source": [
    "students.remove(\"mas\")"
   ]
  },
  {
   "cell_type": "code",
   "execution_count": 29,
   "id": "67299bc3-0d9b-4314-9ff2-a15a119de375",
   "metadata": {},
   "outputs": [
    {
     "data": {
      "text/plain": [
       "['master ',\n",
       " 'imran khan',\n",
       " 'hasnin',\n",
       " 'kameem',\n",
       " 'khan',\n",
       " 'moiz',\n",
       " 'kutta',\n",
       " ['wahid', 'kamal', 'master', 'mas'],\n",
       " 'wahid',\n",
       " 'kamal',\n",
       " 'master',\n",
       " 's',\n",
       " 'a',\n",
       " 'n',\n",
       " 'a',\n",
       " 'u',\n",
       " 'l',\n",
       " 'l',\n",
       " 'h',\n",
       " '1']"
      ]
     },
     "execution_count": 29,
     "metadata": {},
     "output_type": "execute_result"
    }
   ],
   "source": [
    "students"
   ]
  },
  {
   "cell_type": "code",
   "execution_count": 30,
   "id": "0ddb5fb3-b4db-4c15-bcf6-3398f702d68c",
   "metadata": {},
   "outputs": [],
   "source": [
    "students.remove(\"s\")"
   ]
  },
  {
   "cell_type": "code",
   "execution_count": 31,
   "id": "615cd119-9f03-4aa9-9882-b2c5a5c4c115",
   "metadata": {},
   "outputs": [
    {
     "ename": "ValueError",
     "evalue": "list.remove(x): x not in list",
     "output_type": "error",
     "traceback": [
      "\u001b[1;31m---------------------------------------------------------------------------\u001b[0m",
      "\u001b[1;31mValueError\u001b[0m                                Traceback (most recent call last)",
      "Cell \u001b[1;32mIn[31], line 1\u001b[0m\n\u001b[1;32m----> 1\u001b[0m students\u001b[38;5;241m.\u001b[39mremove(\u001b[38;5;124m'\u001b[39m\u001b[38;5;124mhello\u001b[39m\u001b[38;5;124m'\u001b[39m)\n",
      "\u001b[1;31mValueError\u001b[0m: list.remove(x): x not in list"
     ]
    }
   ],
   "source": [
    "students.remove('hello')"
   ]
  },
  {
   "cell_type": "code",
   "execution_count": 32,
   "id": "17cac2b8-0527-4faf-aaa2-ef6e4209b450",
   "metadata": {},
   "outputs": [
    {
     "data": {
      "text/plain": [
       "['master ',\n",
       " 'imran khan',\n",
       " 'hasnin',\n",
       " 'kameem',\n",
       " 'khan',\n",
       " 'moiz',\n",
       " 'kutta',\n",
       " ['wahid', 'kamal', 'master', 'mas'],\n",
       " 'wahid',\n",
       " 'kamal',\n",
       " 'master',\n",
       " 'a',\n",
       " 'n',\n",
       " 'a',\n",
       " 'u',\n",
       " 'l',\n",
       " 'l',\n",
       " 'h',\n",
       " '1']"
      ]
     },
     "execution_count": 32,
     "metadata": {},
     "output_type": "execute_result"
    }
   ],
   "source": [
    "students"
   ]
  },
  {
   "cell_type": "code",
   "execution_count": 33,
   "id": "480a300b-8187-412c-b046-a263021fac3f",
   "metadata": {},
   "outputs": [
    {
     "name": "stdout",
     "output_type": "stream",
     "text": [
      "['master ', 'imran khan', 'hasnin', 'kameem', 'khan', 'moiz', 'kutta', ['wahid', 'kamal', 'master', 'mas'], 'wahid', 'kamal', 'master', 'a', 'n', 'a', 'u', 'l', 'l', 'h', '1']\n"
     ]
    }
   ],
   "source": [
    "print(students)"
   ]
  },
  {
   "cell_type": "code",
   "execution_count": 34,
   "id": "49f8b83e-c910-4b51-9112-2d5f4025723d",
   "metadata": {},
   "outputs": [
    {
     "data": {
      "text/plain": [
       "'1'"
      ]
     },
     "execution_count": 34,
     "metadata": {},
     "output_type": "execute_result"
    }
   ],
   "source": [
    "students.pop()"
   ]
  },
  {
   "cell_type": "code",
   "execution_count": 35,
   "id": "f3305185-ffb4-440e-9568-0578a396f5d3",
   "metadata": {},
   "outputs": [
    {
     "data": {
      "text/plain": [
       "['master ',\n",
       " 'imran khan',\n",
       " 'hasnin',\n",
       " 'kameem',\n",
       " 'khan',\n",
       " 'moiz',\n",
       " 'kutta',\n",
       " ['wahid', 'kamal', 'master', 'mas'],\n",
       " 'wahid',\n",
       " 'kamal',\n",
       " 'master',\n",
       " 'a',\n",
       " 'n',\n",
       " 'a',\n",
       " 'u',\n",
       " 'l',\n",
       " 'l',\n",
       " 'h']"
      ]
     },
     "execution_count": 35,
     "metadata": {},
     "output_type": "execute_result"
    }
   ],
   "source": [
    "students"
   ]
  },
  {
   "cell_type": "code",
   "execution_count": 38,
   "id": "541dc63a-0780-4438-baa8-853dace524b0",
   "metadata": {},
   "outputs": [
    {
     "data": {
      "text/plain": [
       "'l'"
      ]
     },
     "execution_count": 38,
     "metadata": {},
     "output_type": "execute_result"
    }
   ],
   "source": [
    "deleted_value  = students.pop()\n",
    "deleted_value"
   ]
  },
  {
   "cell_type": "code",
   "execution_count": 39,
   "id": "c287949f-6c31-4172-a8d9-98d6b55fab7e",
   "metadata": {},
   "outputs": [
    {
     "data": {
      "text/plain": [
       "['master ',\n",
       " 'imran khan',\n",
       " 'hasnin',\n",
       " 'kameem',\n",
       " 'khan',\n",
       " 'moiz',\n",
       " 'kutta',\n",
       " ['wahid', 'kamal', 'master', 'mas'],\n",
       " 'wahid',\n",
       " 'kamal',\n",
       " 'master',\n",
       " 'a',\n",
       " 'n',\n",
       " 'a',\n",
       " 'u',\n",
       " 'l']"
      ]
     },
     "execution_count": 39,
     "metadata": {},
     "output_type": "execute_result"
    }
   ],
   "source": [
    "students"
   ]
  },
  {
   "cell_type": "code",
   "execution_count": 40,
   "id": "2764ad19-f06a-46ab-9f53-033f06a3e5c8",
   "metadata": {},
   "outputs": [
    {
     "data": {
      "text/plain": [
       "'l'"
      ]
     },
     "execution_count": 40,
     "metadata": {},
     "output_type": "execute_result"
    }
   ],
   "source": [
    "deleted_value  = students.pop()\n",
    "deleted_value"
   ]
  },
  {
   "cell_type": "code",
   "execution_count": 41,
   "id": "80e3237b-1d99-401b-a2b5-2d9f9ece0399",
   "metadata": {},
   "outputs": [
    {
     "data": {
      "text/plain": [
       "['master ',\n",
       " 'imran khan',\n",
       " 'hasnin',\n",
       " 'kameem',\n",
       " 'khan',\n",
       " 'moiz',\n",
       " 'kutta',\n",
       " ['wahid', 'kamal', 'master', 'mas'],\n",
       " 'wahid',\n",
       " 'kamal',\n",
       " 'master',\n",
       " 'a',\n",
       " 'n',\n",
       " 'a',\n",
       " 'u']"
      ]
     },
     "execution_count": 41,
     "metadata": {},
     "output_type": "execute_result"
    }
   ],
   "source": [
    "students"
   ]
  },
  {
   "cell_type": "code",
   "execution_count": 42,
   "id": "05b22a95-8a06-4fdb-b744-5e1759d5e0e0",
   "metadata": {},
   "outputs": [
    {
     "data": {
      "text/plain": [
       "'hasnin'"
      ]
     },
     "execution_count": 42,
     "metadata": {},
     "output_type": "execute_result"
    }
   ],
   "source": [
    "deleted_value  = students.pop(2)\n",
    "deleted_value"
   ]
  },
  {
   "cell_type": "code",
   "execution_count": 43,
   "id": "7db4ddf7-fdd2-40e4-ada2-4c4147d8bf9d",
   "metadata": {},
   "outputs": [
    {
     "data": {
      "text/plain": [
       "['master ',\n",
       " 'imran khan',\n",
       " 'kameem',\n",
       " 'khan',\n",
       " 'moiz',\n",
       " 'kutta',\n",
       " ['wahid', 'kamal', 'master', 'mas'],\n",
       " 'wahid',\n",
       " 'kamal',\n",
       " 'master',\n",
       " 'a',\n",
       " 'n',\n",
       " 'a',\n",
       " 'u']"
      ]
     },
     "execution_count": 43,
     "metadata": {},
     "output_type": "execute_result"
    }
   ],
   "source": [
    "students"
   ]
  },
  {
   "cell_type": "code",
   "execution_count": 44,
   "id": "d38637bd-a0e4-4fc0-9d10-885fd168ec6c",
   "metadata": {},
   "outputs": [],
   "source": [
    "del students[0:1]"
   ]
  },
  {
   "cell_type": "code",
   "execution_count": 45,
   "id": "8e13812f-fd56-4b5b-ab81-d12a8785c422",
   "metadata": {},
   "outputs": [
    {
     "data": {
      "text/plain": [
       "['imran khan',\n",
       " 'kameem',\n",
       " 'khan',\n",
       " 'moiz',\n",
       " 'kutta',\n",
       " ['wahid', 'kamal', 'master', 'mas'],\n",
       " 'wahid',\n",
       " 'kamal',\n",
       " 'master',\n",
       " 'a',\n",
       " 'n',\n",
       " 'a',\n",
       " 'u']"
      ]
     },
     "execution_count": 45,
     "metadata": {},
     "output_type": "execute_result"
    }
   ],
   "source": [
    "students\n"
   ]
  },
  {
   "cell_type": "code",
   "execution_count": 47,
   "id": "34255253-73be-4876-a412-61db6e9ff1d6",
   "metadata": {},
   "outputs": [],
   "source": [
    "students.clear()"
   ]
  },
  {
   "cell_type": "code",
   "execution_count": 53,
   "id": "4e132b97-2268-4dce-9c97-3aa67eddc2ec",
   "metadata": {},
   "outputs": [
    {
     "ename": "ValueError",
     "evalue": "'hamid' is not in list",
     "output_type": "error",
     "traceback": [
      "\u001b[1;31m---------------------------------------------------------------------------\u001b[0m",
      "\u001b[1;31mValueError\u001b[0m                                Traceback (most recent call last)",
      "Cell \u001b[1;32mIn[53], line 1\u001b[0m\n\u001b[1;32m----> 1\u001b[0m students\u001b[38;5;241m.\u001b[39mindex(\u001b[38;5;124m\"\u001b[39m\u001b[38;5;124mhamid\u001b[39m\u001b[38;5;124m\"\u001b[39m)\n",
      "\u001b[1;31mValueError\u001b[0m: 'hamid' is not in list"
     ]
    }
   ],
   "source": [
    "students.index(\"hamid\")"
   ]
  },
  {
   "cell_type": "code",
   "execution_count": 48,
   "id": "752bc198-59e0-44c1-baf3-574d5b6e2083",
   "metadata": {},
   "outputs": [
    {
     "data": {
      "text/plain": [
       "[]"
      ]
     },
     "execution_count": 48,
     "metadata": {},
     "output_type": "execute_result"
    }
   ],
   "source": [
    "students"
   ]
  },
  {
   "cell_type": "code",
   "execution_count": 50,
   "id": "53a4d7ad-25a0-41fb-ba6f-3a572af978e4",
   "metadata": {},
   "outputs": [],
   "source": [
    "students.append(\"sanaullah\")"
   ]
  },
  {
   "cell_type": "code",
   "execution_count": 51,
   "id": "e18e54a6-53d7-4dc7-8803-b9cafd8f9822",
   "metadata": {},
   "outputs": [],
   "source": [
    "students.extend(\"23adb\")"
   ]
  },
  {
   "cell_type": "code",
   "execution_count": 52,
   "id": "1a4d2913-6962-4931-adf6-1d197538f5a4",
   "metadata": {},
   "outputs": [
    {
     "data": {
      "text/plain": [
       "['sanaullah', '2', '3', 'a', 'd', 'b']"
      ]
     },
     "execution_count": 52,
     "metadata": {},
     "output_type": "execute_result"
    }
   ],
   "source": [
    "students"
   ]
  },
  {
   "cell_type": "code",
   "execution_count": 54,
   "id": "a362ff87-9ddb-444c-be2f-54a66ef537cd",
   "metadata": {},
   "outputs": [],
   "source": [
    "students.sort()"
   ]
  },
  {
   "cell_type": "code",
   "execution_count": 55,
   "id": "2ca43203-a089-4740-b920-f1491bb41352",
   "metadata": {},
   "outputs": [
    {
     "data": {
      "text/plain": [
       "['2', '3', 'a', 'b', 'd', 'sanaullah']"
      ]
     },
     "execution_count": 55,
     "metadata": {},
     "output_type": "execute_result"
    }
   ],
   "source": [
    "students"
   ]
  },
  {
   "cell_type": "code",
   "execution_count": 56,
   "id": "0f41f536-f99d-43b5-9449-7908619d71a2",
   "metadata": {},
   "outputs": [
    {
     "data": {
      "text/plain": [
       "'c'"
      ]
     },
     "execution_count": 56,
     "metadata": {},
     "output_type": "execute_result"
    }
   ],
   "source": [
    "#we can see the asc index of the value \n",
    "chr(99)"
   ]
  },
  {
   "cell_type": "code",
   "execution_count": 57,
   "id": "c1abb43b-ab2c-4498-8836-ee60b4cae113",
   "metadata": {},
   "outputs": [
    {
     "data": {
      "text/plain": [
       "99"
      ]
     },
     "execution_count": 57,
     "metadata": {},
     "output_type": "execute_result"
    }
   ],
   "source": [
    "ord('c')"
   ]
  },
  {
   "cell_type": "code",
   "execution_count": 58,
   "id": "664250df-c1b7-4659-baee-7ad5efa30af9",
   "metadata": {},
   "outputs": [],
   "source": [
    "students.append(100)"
   ]
  },
  {
   "cell_type": "code",
   "execution_count": 59,
   "id": "bd977359-e48f-471f-b78d-ceef0b2ba9fa",
   "metadata": {},
   "outputs": [],
   "source": [
    "students.insert(3,200)\n"
   ]
  },
  {
   "cell_type": "code",
   "execution_count": 60,
   "id": "2b133353-639d-44fb-bf2d-167e0981c0aa",
   "metadata": {},
   "outputs": [
    {
     "ename": "TypeError",
     "evalue": "'<' not supported between instances of 'int' and 'str'",
     "output_type": "error",
     "traceback": [
      "\u001b[1;31m---------------------------------------------------------------------------\u001b[0m",
      "\u001b[1;31mTypeError\u001b[0m                                 Traceback (most recent call last)",
      "Cell \u001b[1;32mIn[60], line 1\u001b[0m\n\u001b[1;32m----> 1\u001b[0m students\u001b[38;5;241m.\u001b[39msort()\n",
      "\u001b[1;31mTypeError\u001b[0m: '<' not supported between instances of 'int' and 'str'"
     ]
    }
   ],
   "source": [
    "#'<' not supported between instances of 'int' and 'str'\n",
    "students.sort()"
   ]
  },
  {
   "cell_type": "code",
   "execution_count": 61,
   "id": "9d58f3b1-e9fd-43ac-9eec-37ec065bcf41",
   "metadata": {},
   "outputs": [
    {
     "data": {
      "text/plain": [
       "['2', '3', 'a', 200, 'b', 'd', 'sanaullah', 100]"
      ]
     },
     "execution_count": 61,
     "metadata": {},
     "output_type": "execute_result"
    }
   ],
   "source": [
    "students"
   ]
  },
  {
   "cell_type": "code",
   "execution_count": 62,
   "id": "9e15e654-dca2-47ec-ae51-54eab13425dd",
   "metadata": {},
   "outputs": [],
   "source": [
    "students.reverse()"
   ]
  },
  {
   "cell_type": "code",
   "execution_count": 63,
   "id": "418db9c2-e79f-4de7-ac71-1975c90fbf6d",
   "metadata": {},
   "outputs": [
    {
     "data": {
      "text/plain": [
       "[100, 'sanaullah', 'd', 'b', 200, 'a', '3', '2']"
      ]
     },
     "execution_count": 63,
     "metadata": {},
     "output_type": "execute_result"
    }
   ],
   "source": [
    "students"
   ]
  },
  {
   "cell_type": "code",
   "execution_count": 64,
   "id": "a4ebddbb-7b90-4af3-98e8-a8bfbb8f21aa",
   "metadata": {},
   "outputs": [],
   "source": [
    "# it make a shallow copy of the list means that \n",
    "new_student = students.copy()\n"
   ]
  },
  {
   "cell_type": "code",
   "execution_count": 65,
   "id": "a446a1e5-7659-4901-bf2a-4dcf4455fae8",
   "metadata": {},
   "outputs": [
    {
     "data": {
      "text/plain": [
       "[100, 'sanaullah', 'd', 'b', 200, 'a', '3', '2']"
      ]
     },
     "execution_count": 65,
     "metadata": {},
     "output_type": "execute_result"
    }
   ],
   "source": [
    "new_student"
   ]
  },
  {
   "cell_type": "code",
   "execution_count": 67,
   "id": "9206edb5-7f3d-4159-83e8-7b13293bb8ba",
   "metadata": {},
   "outputs": [],
   "source": [
    "# ya deep copy kahte ha ise  \n",
    "# pass by refernce \n",
    "students = new_student"
   ]
  },
  {
   "cell_type": "code",
   "execution_count": 68,
   "id": "702f487e-d92f-42c7-bf52-a0f6047edada",
   "metadata": {},
   "outputs": [
    {
     "data": {
      "text/plain": [
       "[100, 'sanaullah', 'd', 'b', 200, 'a', '3', '2']"
      ]
     },
     "execution_count": 68,
     "metadata": {},
     "output_type": "execute_result"
    }
   ],
   "source": [
    "new_student"
   ]
  },
  {
   "cell_type": "code",
   "execution_count": null,
   "id": "d3f04071-31e0-4c90-9a5a-dc26e85e2446",
   "metadata": {},
   "outputs": [],
   "source": []
  },
  {
   "cell_type": "markdown",
   "id": "0a14ec07-b03f-404a-8a66-713c5d85d168",
   "metadata": {},
   "source": [
    "#  pass vy value and pass by fefernece (deep copy and shallow copy)"
   ]
  },
  {
   "cell_type": "code",
   "execution_count": 69,
   "id": "43fa7f57-e260-42d4-870e-1fdfb341bd31",
   "metadata": {},
   "outputs": [
    {
     "data": {
      "text/plain": [
       "[100, 'sanaullah', 'd', 'b', 200, 'a', '3', '2']"
      ]
     },
     "execution_count": 69,
     "metadata": {},
     "output_type": "execute_result"
    }
   ],
   "source": [
    "students"
   ]
  },
  {
   "cell_type": "code",
   "execution_count": 70,
   "id": "5e5e552f-3819-4d4d-a1f0-22dbeb790872",
   "metadata": {},
   "outputs": [],
   "source": [
    "del students[1]"
   ]
  },
  {
   "cell_type": "code",
   "execution_count": 71,
   "id": "da444b36-4417-4cec-9db1-951147911908",
   "metadata": {},
   "outputs": [
    {
     "data": {
      "text/plain": [
       "[100, 'd', 'b', 200, 'a', '3', '2']"
      ]
     },
     "execution_count": 71,
     "metadata": {},
     "output_type": "execute_result"
    }
   ],
   "source": [
    "students"
   ]
  },
  {
   "cell_type": "code",
   "execution_count": 72,
   "id": "a086bec8-f3f1-429a-8a2f-22930de77566",
   "metadata": {},
   "outputs": [
    {
     "data": {
      "text/plain": [
       "[100, 'd', 'b', 200, 'a', '3', '2']"
      ]
     },
     "execution_count": 72,
     "metadata": {},
     "output_type": "execute_result"
    }
   ],
   "source": [
    "new_student"
   ]
  },
  {
   "cell_type": "code",
   "execution_count": 73,
   "id": "11694d07-22e9-42dc-b531-da19b7a74d1b",
   "metadata": {},
   "outputs": [
    {
     "data": {
      "text/plain": [
       "2562429461952"
      ]
     },
     "execution_count": 73,
     "metadata": {},
     "output_type": "execute_result"
    }
   ],
   "source": [
    "id(students)"
   ]
  },
  {
   "cell_type": "code",
   "execution_count": 74,
   "id": "4777d748-6258-4211-903d-36ee14419f05",
   "metadata": {},
   "outputs": [
    {
     "data": {
      "text/plain": [
       "2562429461952"
      ]
     },
     "execution_count": 74,
     "metadata": {},
     "output_type": "execute_result"
    }
   ],
   "source": [
    "id(new_student)"
   ]
  },
  {
   "cell_type": "code",
   "execution_count": null,
   "id": "9c1247dd-0fb3-43fe-b877-240949533bf6",
   "metadata": {},
   "outputs": [],
   "source": []
  }
 ],
 "metadata": {
  "kernelspec": {
   "display_name": "Python 3 (ipykernel)",
   "language": "python",
   "name": "python3"
  },
  "language_info": {
   "codemirror_mode": {
    "name": "ipython",
    "version": 3
   },
   "file_extension": ".py",
   "mimetype": "text/x-python",
   "name": "python",
   "nbconvert_exporter": "python",
   "pygments_lexer": "ipython3",
   "version": "3.12.7"
  },
  "panel-cell-order": [
   "f94bfd62-583c-4077-907c-d38b2856cba2"
  ]
 },
 "nbformat": 4,
 "nbformat_minor": 5
}
