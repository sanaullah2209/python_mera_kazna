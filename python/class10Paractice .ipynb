{
 "cells": [
  {
   "cell_type": "code",
   "execution_count": 21,
   "id": "cb40c0c9-c55a-45a1-96bd-f8c30ad837ad",
   "metadata": {},
   "outputs": [],
   "source": [
    "def generate_profile(name,email,age):\n",
    "    profile = {\"name\":name,'email':email,'age':age}\n",
    "    return profile"
   ]
  },
  {
   "cell_type": "code",
   "execution_count": 23,
   "id": "26580dff-75e9-433a-99da-c43e5c76c009",
   "metadata": {},
   "outputs": [
    {
     "data": {
      "text/plain": [
       "{'name': 'sanaullah', 'email': 'sanaillah@gmail.com', 'age': 23}"
      ]
     },
     "execution_count": 23,
     "metadata": {},
     "output_type": "execute_result"
    }
   ],
   "source": [
    "generate_profile(name=\"sanaullah\",email=\"sanaillah@gmail.com\",age=23)"
   ]
  },
  {
   "cell_type": "code",
   "execution_count": 49,
   "id": "d81dc004-0697-4b02-8d97-4e46a78fe8e5",
   "metadata": {},
   "outputs": [],
   "source": [
    "def commisoncalc(units):\n",
    "      if units >= 500:\n",
    "          return 10000\n",
    "      elif units >= 250:\n",
    "          return 5000\n",
    "      elif units >= 100:\n",
    "          return 2000\n",
    "      else:\n",
    "       return 1000\n",
    "    \n",
    "           \n",
    "     "
   ]
  },
  {
   "cell_type": "code",
   "execution_count": 51,
   "id": "da85844f-d465-4e3d-a4f2-b9c470b98849",
   "metadata": {},
   "outputs": [],
   "source": [
    "def Texcalc(income):\n",
    "    if income >=50000:\n",
    "        return income*0.10\n",
    "    elif income>=40000:\n",
    "        return income*0.05\n",
    "    elif income>=30000:\n",
    "        return income*0.03\n",
    "    else:\n",
    "        return income*0\n",
    "   "
   ]
  },
  {
   "cell_type": "code",
   "execution_count": 55,
   "id": "e924e8b3-9e59-4abf-b626-4e6659dbcaff",
   "metadata": {},
   "outputs": [],
   "source": [
    "def salary_Calcultor(units_sales,basic):\n",
    "    commission = commisoncalc(units_sales)\n",
    "    totel = basic+commission\n",
    "    tax = Texcalc(totel)\n",
    "    net = totel - tax\n",
    "    return net\n",
    "\n",
    "    "
   ]
  },
  {
   "cell_type": "code",
   "execution_count": 57,
   "id": "970aa325-c148-4bf5-8f3d-60c97b33797d",
   "metadata": {},
   "outputs": [
    {
     "data": {
      "text/plain": [
       "10033"
      ]
     },
     "execution_count": 57,
     "metadata": {},
     "output_type": "execute_result"
    }
   ],
   "source": [
    "salary_Calcultor(40000,33)"
   ]
  },
  {
   "cell_type": "code",
   "execution_count": 59,
   "id": "83d3856c-eec7-432d-a66a-bd203e8d0704",
   "metadata": {},
   "outputs": [],
   "source": [
    "def age():\n",
    "    "
   ]
  },
  {
   "cell_type": "code",
   "execution_count": 61,
   "id": "b10296ab-2070-40d9-9604-c4febc9b8876",
   "metadata": {},
   "outputs": [],
   "source": [
    "def name():\n",
    "    pass"
   ]
  },
  {
   "cell_type": "code",
   "execution_count": 63,
   "id": "a9b3e330-cc7c-4465-9528-6e59aba016c2",
   "metadata": {},
   "outputs": [],
   "source": [
    "def profile():\n",
    "    pass"
   ]
  },
  {
   "cell_type": "code",
   "execution_count": null,
   "id": "fe690af8-5dfa-4703-8802-6a096b3f3f9f",
   "metadata": {},
   "outputs": [],
   "source": []
  }
 ],
 "metadata": {
  "kernelspec": {
   "display_name": "Python [conda env:base] *",
   "language": "python",
   "name": "conda-base-py"
  },
  "language_info": {
   "codemirror_mode": {
    "name": "ipython",
    "version": 3
   },
   "file_extension": ".py",
   "mimetype": "text/x-python",
   "name": "python",
   "nbconvert_exporter": "python",
   "pygments_lexer": "ipython3",
   "version": "3.12.7"
  }
 },
 "nbformat": 4,
 "nbformat_minor": 5
}
