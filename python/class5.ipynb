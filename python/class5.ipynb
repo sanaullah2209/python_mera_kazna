{
 "cells": [
  {
   "cell_type": "markdown",
   "id": "068f5f51-50ad-4dbe-ab04-f23898dca3ae",
   "metadata": {},
   "source": [
    "# list in list"
   ]
  },
  {
   "cell_type": "code",
   "execution_count": 1,
   "id": "4db0ebae-7869-46b9-a65a-f4c9a449949b",
   "metadata": {},
   "outputs": [],
   "source": [
    "numbers = [2,3,4,5,[11,33,44,55,66],7,8 ]"
   ]
  },
  {
   "cell_type": "code",
   "execution_count": 2,
   "id": "00c669b6-d038-4b92-b80c-3464878bccc0",
   "metadata": {},
   "outputs": [
    {
     "data": {
      "text/plain": [
       "[2, 3, 4, 5, [11, 33, 44, 55, 66], 7, 8]"
      ]
     },
     "execution_count": 2,
     "metadata": {},
     "output_type": "execute_result"
    }
   ],
   "source": [
    "numbers"
   ]
  },
  {
   "cell_type": "code",
   "execution_count": 3,
   "id": "d579cefb-3ca6-4a31-93d0-6948f39f6757",
   "metadata": {},
   "outputs": [
    {
     "data": {
      "text/plain": [
       "7"
      ]
     },
     "execution_count": 3,
     "metadata": {},
     "output_type": "execute_result"
    }
   ],
   "source": [
    "len(numbers)"
   ]
  },
  {
   "cell_type": "code",
   "execution_count": 4,
   "id": "60677659-22a8-425d-bb7f-22aa43d08f3b",
   "metadata": {},
   "outputs": [
    {
     "data": {
      "text/plain": [
       "[11, 33, 44, 55, 66]"
      ]
     },
     "execution_count": 4,
     "metadata": {},
     "output_type": "execute_result"
    }
   ],
   "source": [
    "numbers[4]"
   ]
  },
  {
   "cell_type": "code",
   "execution_count": 5,
   "id": "71c7be0f-2907-4405-8f8b-cf709d736510",
   "metadata": {},
   "outputs": [
    {
     "data": {
      "text/plain": [
       "44"
      ]
     },
     "execution_count": 5,
     "metadata": {},
     "output_type": "execute_result"
    }
   ],
   "source": [
    "numbers[4][2]"
   ]
  },
  {
   "cell_type": "code",
   "execution_count": 6,
   "id": "82e8b36f-0a9b-43ef-9942-e33b7d41c6c7",
   "metadata": {},
   "outputs": [],
   "source": [
    "numbers.append(\"pakistan\")"
   ]
  },
  {
   "cell_type": "code",
   "execution_count": 7,
   "id": "7373b582-835e-4db2-b306-9178660de6fe",
   "metadata": {},
   "outputs": [
    {
     "data": {
      "text/plain": [
       "[2, 3, 4, 5, [11, 33, 44, 55, 66], 7, 8, 'pakistan']"
      ]
     },
     "execution_count": 7,
     "metadata": {},
     "output_type": "execute_result"
    }
   ],
   "source": [
    "numbers"
   ]
  },
  {
   "cell_type": "code",
   "execution_count": 9,
   "id": "efaa6162-9df7-43cd-a342-b0a50aa6dbb2",
   "metadata": {},
   "outputs": [
    {
     "data": {
      "text/plain": [
       "'n'"
      ]
     },
     "execution_count": 9,
     "metadata": {},
     "output_type": "execute_result"
    }
   ],
   "source": [
    "numbers[-1][-1]"
   ]
  },
  {
   "cell_type": "code",
   "execution_count": 10,
   "id": "948c164a-21e4-416f-baa5-fa26f01248c7",
   "metadata": {},
   "outputs": [
    {
     "data": {
      "text/plain": [
       "'p'"
      ]
     },
     "execution_count": 10,
     "metadata": {},
     "output_type": "execute_result"
    }
   ],
   "source": [
    "numbers[-1][0]"
   ]
  },
  {
   "cell_type": "code",
   "execution_count": 11,
   "id": "5f46254e-f0f6-42e5-8db3-cce4147edac6",
   "metadata": {},
   "outputs": [
    {
     "data": {
      "text/plain": [
       "'kist'"
      ]
     },
     "execution_count": 11,
     "metadata": {},
     "output_type": "execute_result"
    }
   ],
   "source": [
    "numbers[-1][2:6]"
   ]
  },
  {
   "cell_type": "code",
   "execution_count": 21,
   "id": "87ec9326-0655-4eb9-b614-b30715d226a9",
   "metadata": {},
   "outputs": [
    {
     "data": {
      "text/plain": [
       "[2, 3, 4, 5, [11, 33, 44, 55, 66], 7, 8, 'pakistan']"
      ]
     },
     "execution_count": 21,
     "metadata": {},
     "output_type": "execute_result"
    }
   ],
   "source": [
    "numbers"
   ]
  },
  {
   "cell_type": "code",
   "execution_count": 22,
   "id": "7232b159-4dc2-44b5-9cf0-2d04f3966e6d",
   "metadata": {},
   "outputs": [
    {
     "data": {
      "text/plain": [
       "[2, 3, 4, 5, [11, 33, 44, 55, 66], 7, 800, 'pakistan']"
      ]
     },
     "execution_count": 22,
     "metadata": {},
     "output_type": "execute_result"
    }
   ],
   "source": [
    "#replace the balue at index -2 whth a new value 800\n",
    "numbers[-2] = 800\n",
    "numbers"
   ]
  },
  {
   "cell_type": "code",
   "execution_count": 20,
   "id": "347f3c1d-eaa7-4e48-a772-c70ad5b1123a",
   "metadata": {},
   "outputs": [
    {
     "data": {
      "text/plain": [
       "'atsi'"
      ]
     },
     "execution_count": 20,
     "metadata": {},
     "output_type": "execute_result"
    }
   ],
   "source": [
    "numbers[-1][6:2:-1]"
   ]
  },
  {
   "cell_type": "markdown",
   "id": "f6f37572-c10e-4cab-b79f-b78b82456092",
   "metadata": {},
   "source": [
    "# Dictonary \n",
    "  -{key:value}\n",
    "  -mutable \n",
    "  -iterabele \n",
    "   -more descriptive than a list"
   ]
  },
  {
   "cell_type": "code",
   "execution_count": 13,
   "id": "6c9083c9-25c6-405a-a887-812779d08d6e",
   "metadata": {},
   "outputs": [],
   "source": [
    "profile = {}"
   ]
  },
  {
   "cell_type": "code",
   "execution_count": 14,
   "id": "6b006613-70f0-4ed8-be18-d88065322d27",
   "metadata": {},
   "outputs": [
    {
     "data": {
      "text/plain": [
       "dict"
      ]
     },
     "execution_count": 14,
     "metadata": {},
     "output_type": "execute_result"
    }
   ],
   "source": [
    "type(profile)"
   ]
  },
  {
   "cell_type": "code",
   "execution_count": 15,
   "id": "70aa2ea8-c65d-4781-a94f-690ed74e80ad",
   "metadata": {},
   "outputs": [
    {
     "data": {
      "text/plain": [
       "0"
      ]
     },
     "execution_count": 15,
     "metadata": {},
     "output_type": "execute_result"
    }
   ],
   "source": [
    "len(profile)"
   ]
  },
  {
   "cell_type": "code",
   "execution_count": 16,
   "id": "790f213d-7e56-430a-abdb-d4c2760fe136",
   "metadata": {},
   "outputs": [],
   "source": [
    "profile = {'name':'Ali','age':28,'height':5.8,'weight':60,'qulification':'Graduate'}"
   ]
  },
  {
   "cell_type": "markdown",
   "id": "a11a1b37-633b-44ff-9805-740d80ea6e61",
   "metadata": {},
   "source": [
    "# Note:keys can be string ,int,tuple,\n",
    "#### koi be string jo imutable ho who key ban sakte ha \n",
    " #### Values:int,float,string,bollean,list,dictonary ,tuple,set\n",
    " #### ya sab value ho sakte ha "
   ]
  },
  {
   "cell_type": "code",
   "execution_count": 17,
   "id": "b3913490-b484-46fe-a741-a277f5cc9a9c",
   "metadata": {},
   "outputs": [
    {
     "data": {
      "text/plain": [
       "5"
      ]
     },
     "execution_count": 17,
     "metadata": {},
     "output_type": "execute_result"
    }
   ],
   "source": [
    "len(profile)"
   ]
  },
  {
   "cell_type": "markdown",
   "id": "c219c0cb-79ab-44e5-a40a-f1c21b23a952",
   "metadata": {},
   "source": [
    "# Accessing memeber in a dictionary"
   ]
  },
  {
   "cell_type": "code",
   "execution_count": 18,
   "id": "8e8b2462-63e8-4f85-aa49-c42a7de40789",
   "metadata": {},
   "outputs": [
    {
     "data": {
      "text/plain": [
       "'Ali'"
      ]
     },
     "execution_count": 18,
     "metadata": {},
     "output_type": "execute_result"
    }
   ],
   "source": [
    "profile['name']"
   ]
  },
  {
   "cell_type": "code",
   "execution_count": 19,
   "id": "13c778dd-2a0b-4332-892e-b9350ca83785",
   "metadata": {},
   "outputs": [
    {
     "data": {
      "text/plain": [
       "28"
      ]
     },
     "execution_count": 19,
     "metadata": {},
     "output_type": "execute_result"
    }
   ],
   "source": [
    "profile['age']"
   ]
  },
  {
   "cell_type": "code",
   "execution_count": 23,
   "id": "1db3c158-c9f1-474c-a105-182e5f26f973",
   "metadata": {},
   "outputs": [
    {
     "data": {
      "text/plain": [
       "5.8"
      ]
     },
     "execution_count": 23,
     "metadata": {},
     "output_type": "execute_result"
    }
   ],
   "source": [
    "profile['height']"
   ]
  },
  {
   "cell_type": "markdown",
   "id": "bc560d84-2469-4874-8fbf-1f6443ba1f69",
   "metadata": {},
   "source": [
    "# adding memeber in ezisting dictionary"
   ]
  },
  {
   "cell_type": "code",
   "execution_count": 29,
   "id": "54f081f5-fb1a-411f-ad6b-ebc9d93e91da",
   "metadata": {},
   "outputs": [],
   "source": [
    "#if key existes ,it will replae the vlaue with new value \n",
    "#if key does not exist ,new key :value pair will be created\n",
    "profile['email'] = 'abc@gmail.com'"
   ]
  },
  {
   "cell_type": "code",
   "execution_count": 26,
   "id": "d45cdb42-279c-40e9-a5e1-e4ef4665dfe4",
   "metadata": {},
   "outputs": [
    {
     "data": {
      "text/plain": [
       "{'name': 'Ali',\n",
       " 'age': 28,\n",
       " 'height': 5.8,\n",
       " 'weight': 60,\n",
       " 'qulification': 'Graduate',\n",
       " 'email': 'abc@gmail.com'}"
      ]
     },
     "execution_count": 26,
     "metadata": {},
     "output_type": "execute_result"
    }
   ],
   "source": [
    "profile"
   ]
  },
  {
   "cell_type": "code",
   "execution_count": 30,
   "id": "29464c9a-5a9c-4458-a7d1-0dfd386b0533",
   "metadata": {},
   "outputs": [],
   "source": [
    "#it will replace the name \n",
    "profile = {'name':'Ali',\"name\":\"pap0\",'age':28,'height':5.8,'weight':60,'qulification':'Graduate'}"
   ]
  },
  {
   "cell_type": "code",
   "execution_count": 31,
   "id": "eee0d457-551f-4614-b2f6-1c4dfebfc9df",
   "metadata": {},
   "outputs": [
    {
     "data": {
      "text/plain": [
       "{'name': 'pap0',\n",
       " 'age': 28,\n",
       " 'height': 5.8,\n",
       " 'weight': 60,\n",
       " 'qulification': 'Graduate'}"
      ]
     },
     "execution_count": 31,
     "metadata": {},
     "output_type": "execute_result"
    }
   ],
   "source": [
    "profile"
   ]
  },
  {
   "cell_type": "code",
   "execution_count": 32,
   "id": "c3690822-a4f9-41c2-9fa7-7f4b41b9c1f1",
   "metadata": {},
   "outputs": [
    {
     "data": {
      "text/plain": [
       "dict_keys(['name', 'age', 'height', 'weight', 'qulification'])"
      ]
     },
     "execution_count": 32,
     "metadata": {},
     "output_type": "execute_result"
    }
   ],
   "source": [
    "profile.keys()"
   ]
  },
  {
   "cell_type": "code",
   "execution_count": 33,
   "id": "923224f7-ce1c-43e0-83ff-26b24a9e849c",
   "metadata": {},
   "outputs": [
    {
     "data": {
      "text/plain": [
       "dict_values(['pap0', 28, 5.8, 60, 'Graduate'])"
      ]
     },
     "execution_count": 33,
     "metadata": {},
     "output_type": "execute_result"
    }
   ],
   "source": [
    "profile.values()"
   ]
  },
  {
   "cell_type": "code",
   "execution_count": 34,
   "id": "bc7ca875-8364-4b29-a935-053e042adfd8",
   "metadata": {},
   "outputs": [
    {
     "data": {
      "text/plain": [
       "dict_items([('name', 'pap0'), ('age', 28), ('height', 5.8), ('weight', 60), ('qulification', 'Graduate')])"
      ]
     },
     "execution_count": 34,
     "metadata": {},
     "output_type": "execute_result"
    }
   ],
   "source": [
    "profile.items()"
   ]
  },
  {
   "cell_type": "code",
   "execution_count": 37,
   "id": "08a05355-ea10-453e-b2a3-9dc1960fed8e",
   "metadata": {},
   "outputs": [
    {
     "ename": "KeyError",
     "evalue": "'weight'",
     "output_type": "error",
     "traceback": [
      "\u001b[1;31m---------------------------------------------------------------------------\u001b[0m",
      "\u001b[1;31mKeyError\u001b[0m                                  Traceback (most recent call last)",
      "Cell \u001b[1;32mIn[37], line 1\u001b[0m\n\u001b[1;32m----> 1\u001b[0m profile\u001b[38;5;241m.\u001b[39mpop(\u001b[38;5;124m'\u001b[39m\u001b[38;5;124mweight\u001b[39m\u001b[38;5;124m'\u001b[39m)\n",
      "\u001b[1;31mKeyError\u001b[0m: 'weight'"
     ]
    }
   ],
   "source": [
    "profile.pop('weight')"
   ]
  },
  {
   "cell_type": "code",
   "execution_count": 38,
   "id": "70da5b42-7046-4e5f-a1a5-1ea8c084c151",
   "metadata": {},
   "outputs": [
    {
     "ename": "TypeError",
     "evalue": "pop expected at least 1 argument, got 0",
     "output_type": "error",
     "traceback": [
      "\u001b[1;31m---------------------------------------------------------------------------\u001b[0m",
      "\u001b[1;31mTypeError\u001b[0m                                 Traceback (most recent call last)",
      "Cell \u001b[1;32mIn[38], line 1\u001b[0m\n\u001b[1;32m----> 1\u001b[0m profile\u001b[38;5;241m.\u001b[39mpop()\n",
      "\u001b[1;31mTypeError\u001b[0m: pop expected at least 1 argument, got 0"
     ]
    }
   ],
   "source": [
    "profile.pop()"
   ]
  },
  {
   "cell_type": "code",
   "execution_count": 43,
   "id": "eda8f200-2e29-417f-8451-e5689922c7c7",
   "metadata": {},
   "outputs": [
    {
     "data": {
      "text/plain": [
       "('age', 28)"
      ]
     },
     "execution_count": 43,
     "metadata": {},
     "output_type": "execute_result"
    }
   ],
   "source": [
    "#it remove the last value \n",
    "profile.popitem()"
   ]
  },
  {
   "cell_type": "code",
   "execution_count": 44,
   "id": "cd05713f-fef5-4189-b94d-1f1b3c39faee",
   "metadata": {},
   "outputs": [
    {
     "data": {
      "text/plain": [
       "{'name': 'pap0'}"
      ]
     },
     "execution_count": 44,
     "metadata": {},
     "output_type": "execute_result"
    }
   ],
   "source": [
    "profile"
   ]
  },
  {
   "cell_type": "code",
   "execution_count": 45,
   "id": "7d124614-705f-4782-9c9f-242a1ca870ad",
   "metadata": {},
   "outputs": [
    {
     "data": {
      "text/plain": [
       "('name', 'pap0')"
      ]
     },
     "execution_count": 45,
     "metadata": {},
     "output_type": "execute_result"
    }
   ],
   "source": [
    "profile.popitem()"
   ]
  },
  {
   "cell_type": "code",
   "execution_count": 46,
   "id": "9b42130a-5ec3-412c-bf35-0c6341ca8476",
   "metadata": {},
   "outputs": [],
   "source": [
    "profile['email'] = 'abc@gmail.com'"
   ]
  },
  {
   "cell_type": "code",
   "execution_count": 47,
   "id": "d73b55eb-402f-4d42-ae97-34ee8cd73910",
   "metadata": {},
   "outputs": [],
   "source": [
    "profile['password'] = '11233'"
   ]
  },
  {
   "cell_type": "code",
   "execution_count": 48,
   "id": "d1c03319-e08c-4575-9738-f7b2ad159cb4",
   "metadata": {},
   "outputs": [],
   "source": [
    "reasearch_area = {\"computesc\":\"AI\",\"phy\":\"Quantum theroy\"}"
   ]
  },
  {
   "cell_type": "code",
   "execution_count": 49,
   "id": "85cfe3f2-0263-459d-820e-3ad34edc14cb",
   "metadata": {},
   "outputs": [],
   "source": [
    "profile['reasarch'] = reasearch_area"
   ]
  },
  {
   "cell_type": "code",
   "execution_count": 50,
   "id": "f3ac449e-3b91-4e77-92c5-a698c2068ddb",
   "metadata": {},
   "outputs": [
    {
     "data": {
      "text/plain": [
       "{'email': 'abc@gmail.com',\n",
       " 'password': '11233',\n",
       " 'reasarch': {'computesc': 'AI', 'phy': 'Quantum theroy'}}"
      ]
     },
     "execution_count": 50,
     "metadata": {},
     "output_type": "execute_result"
    }
   ],
   "source": [
    "profile"
   ]
  },
  {
   "cell_type": "code",
   "execution_count": 51,
   "id": "75320bc7-bad6-4d6f-948a-615d585278c2",
   "metadata": {},
   "outputs": [],
   "source": [
    "profile.update(reasearch_area)"
   ]
  },
  {
   "cell_type": "code",
   "execution_count": 54,
   "id": "04b56746-75be-4d69-a021-3366f3eee89d",
   "metadata": {},
   "outputs": [
    {
     "data": {
      "text/plain": [
       "{'email': 'abc@gmail.com',\n",
       " 'password': '11233',\n",
       " 'reasarch': {'computesc': 'AI', 'phy': 'Quantum theroy'},\n",
       " 'computesc': 'AI',\n",
       " 'phy': 'Quantum theroy'}"
      ]
     },
     "execution_count": 54,
     "metadata": {},
     "output_type": "execute_result"
    }
   ],
   "source": [
    "profile"
   ]
  },
  {
   "cell_type": "code",
   "execution_count": 55,
   "id": "f22ab9d7-12b0-42c0-80af-40580239d239",
   "metadata": {},
   "outputs": [],
   "source": [
    "del profile['reasarch']"
   ]
  },
  {
   "cell_type": "code",
   "execution_count": 56,
   "id": "342413a6-9647-4c71-a145-eed774eab783",
   "metadata": {},
   "outputs": [
    {
     "data": {
      "text/plain": [
       "{'email': 'abc@gmail.com',\n",
       " 'password': '11233',\n",
       " 'computesc': 'AI',\n",
       " 'phy': 'Quantum theroy'}"
      ]
     },
     "execution_count": 56,
     "metadata": {},
     "output_type": "execute_result"
    }
   ],
   "source": [
    "profile"
   ]
  },
  {
   "cell_type": "code",
   "execution_count": null,
   "id": "0596bbd1-7ebb-4cb8-bfad-06a478b556f5",
   "metadata": {},
   "outputs": [],
   "source": []
  },
  {
   "cell_type": "markdown",
   "id": "41126356-7b3c-4904-818b-7779ddf256d0",
   "metadata": {},
   "source": [
    "## List in a dictonary \n",
    "### dictionary in a list \n",
    "## dictionary in a dictionary"
   ]
  },
  {
   "cell_type": "markdown",
   "id": "1879b2f9-5444-480b-ba6f-7208caa8b2d5",
   "metadata": {},
   "source": [
    "# list in a dictionary"
   ]
  },
  {
   "cell_type": "code",
   "execution_count": 57,
   "id": "90d5cde1-8c25-4548-b596-777c8a95ae84",
   "metadata": {},
   "outputs": [],
   "source": [
    "report =  {'name':['asad','ali','danish','zafar','sanaullah','programer','nasir','imrankhan'],'roll':[1,2,3,4,5,6,7,8],\n",
    "          'course':['python','stats','ai','python','ml','datascince','prjectmanagenment'],\n",
    "           'marks':[90,67,78,90,65,87,56,55]\n",
    "           \n",
    "          "
   ]
  },
  {
   "cell_type": "code",
   "execution_count": 59,
   "id": "146b6543-724b-494b-b57a-b09ca16d7abe",
   "metadata": {},
   "outputs": [
    {
     "data": {
      "text/plain": [
       "{'name': ['asad',\n",
       "  'ali',\n",
       "  'danish',\n",
       "  'zafar',\n",
       "  'sanaullah',\n",
       "  'programer',\n",
       "  'nasir',\n",
       "  'imrankhan'],\n",
       " 'roll': [1, 2, 3, 4, 5, 6, 7, 8],\n",
       " 'course': ['python',\n",
       "  'stats',\n",
       "  'ai',\n",
       "  'python',\n",
       "  'ml',\n",
       "  'datascince',\n",
       "  'prjectmanagenment'],\n",
       " 'marks': [90, 67, 78, 90, 65, 87, 56, 55]}"
      ]
     },
     "execution_count": 59,
     "metadata": {},
     "output_type": "execute_result"
    }
   ],
   "source": [
    "report"
   ]
  },
  {
   "cell_type": "code",
   "execution_count": 60,
   "id": "a99369ce-0860-4510-9d29-7eaf1b1a670b",
   "metadata": {},
   "outputs": [
    {
     "data": {
      "text/plain": [
       "['python', 'stats', 'ai', 'python', 'ml', 'datascince', 'prjectmanagenment']"
      ]
     },
     "execution_count": 60,
     "metadata": {},
     "output_type": "execute_result"
    }
   ],
   "source": [
    "report['course']"
   ]
  },
  {
   "cell_type": "code",
   "execution_count": 61,
   "id": "84667dd2-1525-4160-b7c1-1e29349d16ed",
   "metadata": {},
   "outputs": [
    {
     "data": {
      "text/plain": [
       "'ai'"
      ]
     },
     "execution_count": 61,
     "metadata": {},
     "output_type": "execute_result"
    }
   ],
   "source": [
    "report['course'][2]"
   ]
  },
  {
   "cell_type": "code",
   "execution_count": 62,
   "id": "f4ecf40d-016d-4136-aecf-eda477891242",
   "metadata": {},
   "outputs": [
    {
     "data": {
      "text/plain": [
       "'ali'"
      ]
     },
     "execution_count": 62,
     "metadata": {},
     "output_type": "execute_result"
    }
   ],
   "source": [
    "report['name'][1]"
   ]
  },
  {
   "cell_type": "markdown",
   "id": "303922ad-9487-4de6-ad04-e3eb71598da0",
   "metadata": {},
   "source": [
    "# Dicionary in a list"
   ]
  },
  {
   "cell_type": "code",
   "execution_count": 63,
   "id": "ccef0a2e-5f9f-4c74-bab5-23acd9631e46",
   "metadata": {},
   "outputs": [],
   "source": [
    "students = [{},{},{},{}]"
   ]
  },
  {
   "cell_type": "code",
   "execution_count": 64,
   "id": "73f7bacc-83ee-4f7f-9b0f-9b3a9a811f56",
   "metadata": {},
   "outputs": [
    {
     "data": {
      "text/plain": [
       "[{}, {}, {}, {}]"
      ]
     },
     "execution_count": 64,
     "metadata": {},
     "output_type": "execute_result"
    }
   ],
   "source": [
    "students"
   ]
  },
  {
   "cell_type": "code",
   "execution_count": 65,
   "id": "6ac5d38a-109e-40b0-8d5d-c45d7bd1c946",
   "metadata": {},
   "outputs": [],
   "source": [
    "students = [{'name':'sanaulah','roll':123,\"course\":\"python \"},\n",
    "            {'name':'imrankhan','roll':44,\"course\":\"ai \"},\n",
    "            {'name':'babarazam','roll':444,\"course\":\"iot \"},\n",
    "            {'name':'umar','roll':333,\"course\":\"java\"}\n",
    "           \n",
    "           \n",
    "           ]"
   ]
  },
  {
   "cell_type": "code",
   "execution_count": 66,
   "id": "4c418927-5fa0-4bc4-aaa6-12b5250ca748",
   "metadata": {},
   "outputs": [
    {
     "data": {
      "text/plain": [
       "4"
      ]
     },
     "execution_count": 66,
     "metadata": {},
     "output_type": "execute_result"
    }
   ],
   "source": [
    "len(students)"
   ]
  },
  {
   "cell_type": "code",
   "execution_count": 67,
   "id": "e2d57700-8371-4867-b123-b990791efb91",
   "metadata": {},
   "outputs": [
    {
     "data": {
      "text/plain": [
       "3"
      ]
     },
     "execution_count": 67,
     "metadata": {},
     "output_type": "execute_result"
    }
   ],
   "source": [
    "len(students[1])"
   ]
  },
  {
   "cell_type": "code",
   "execution_count": 68,
   "id": "6be83c30-d575-46a4-a75c-d41230755fe7",
   "metadata": {},
   "outputs": [
    {
     "data": {
      "text/plain": [
       "'umar'"
      ]
     },
     "execution_count": 68,
     "metadata": {},
     "output_type": "execute_result"
    }
   ],
   "source": [
    "students[3]['name']"
   ]
  },
  {
   "cell_type": "code",
   "execution_count": 69,
   "id": "02e43d75-0d28-4f81-bba0-7b1ef6b8b2da",
   "metadata": {},
   "outputs": [
    {
     "data": {
      "text/plain": [
       "'java'"
      ]
     },
     "execution_count": 69,
     "metadata": {},
     "output_type": "execute_result"
    }
   ],
   "source": [
    "students[3][\"course\"]"
   ]
  },
  {
   "cell_type": "markdown",
   "id": "23b8bbd5-2852-4612-8f75-771fa65f34a2",
   "metadata": {},
   "source": [
    "# Dictonaray in Dictionary"
   ]
  },
  {
   "cell_type": "code",
   "execution_count": 71,
   "id": "acb83f48-9dd7-4ae6-879f-7e4d56d79c3c",
   "metadata": {},
   "outputs": [],
   "source": [
    "students ={ \"names\":{\"first_name\":\"Nasir\",\"last_name\":\"hussain\"},\n",
    "           \"course\":{\"enrolled\":\"python\",\"Dropped\":\"Ai\"},\n",
    "           'emails':{\"current\":\"ac@gmail.com\",\"previous\":\"xyz@gmail.com\"} \n",
    "          }"
   ]
  },
  {
   "cell_type": "code",
   "execution_count": 73,
   "id": "e0e01a77-384f-4fca-a571-f898c4bb88c0",
   "metadata": {},
   "outputs": [
    {
     "data": {
      "text/plain": [
       "3"
      ]
     },
     "execution_count": 73,
     "metadata": {},
     "output_type": "execute_result"
    }
   ],
   "source": [
    "len(students)"
   ]
  },
  {
   "cell_type": "code",
   "execution_count": 74,
   "id": "528ce854-905e-46ef-9246-5fa7aea3e9ed",
   "metadata": {},
   "outputs": [
    {
     "data": {
      "text/plain": [
       "'Ai'"
      ]
     },
     "execution_count": 74,
     "metadata": {},
     "output_type": "execute_result"
    }
   ],
   "source": [
    "students[\"course\"][\"Dropped\"]"
   ]
  },
  {
   "cell_type": "markdown",
   "id": "0f55acdf-5b1b-4d80-b10f-c3f2242ac105",
   "metadata": {},
   "source": [
    "# Operators : \n",
    "## in: membership checking operator,\n",
    "## is:identity check operator\n",
    "## not:negation\n",
    "## and  logical and\n",
    "## or:logical "
   ]
  },
  {
   "cell_type": "code",
   "execution_count": 77,
   "id": "8e38c83f-b452-4fd8-ab9f-4b0507cab247",
   "metadata": {},
   "outputs": [],
   "source": [
    "name: ['asad','ali','danish','zafar','sanaullah','programer','nasir','imrankhan']"
   ]
  },
  {
   "cell_type": "markdown",
   "id": "6f5197d6-9ae7-4ad6-a4f8-b65713d7764a",
   "metadata": {},
   "source": [
    "# in operator\n",
    "   ## checks if a memeber is in colleciton of not"
   ]
  },
  {
   "cell_type": "code",
   "execution_count": 84,
   "id": "5ccf8a1c-05b6-406a-8ab9-499b44309472",
   "metadata": {},
   "outputs": [],
   "source": [
    "name = ['asad','ali','danish','zafar','sanaullah','programer','nasir','imrankhan']"
   ]
  },
  {
   "cell_type": "code",
   "execution_count": 85,
   "id": "c1edebfa-a1e6-4396-81d1-d54311f72be1",
   "metadata": {},
   "outputs": [
    {
     "data": {
      "text/plain": [
       "False"
      ]
     },
     "execution_count": 85,
     "metadata": {},
     "output_type": "execute_result"
    }
   ],
   "source": [
    "\"Asad\" in name"
   ]
  },
  {
   "cell_type": "code",
   "execution_count": 86,
   "id": "91d4107b-48ad-4f68-bf70-688bf63720b1",
   "metadata": {},
   "outputs": [
    {
     "data": {
      "text/plain": [
       "True"
      ]
     },
     "execution_count": 86,
     "metadata": {},
     "output_type": "execute_result"
    }
   ],
   "source": [
    "\"Asad\".lower() in name"
   ]
  },
  {
   "cell_type": "code",
   "execution_count": 87,
   "id": "bbaa30ad-11e6-4de4-abd7-c8629b5cec0e",
   "metadata": {},
   "outputs": [
    {
     "data": {
      "text/plain": [
       "True"
      ]
     },
     "execution_count": 87,
     "metadata": {},
     "output_type": "execute_result"
    }
   ],
   "source": [
    "\"a\" in name[0]"
   ]
  },
  {
   "cell_type": "code",
   "execution_count": 88,
   "id": "b715baac-432e-4ab4-9c38-c0b883451539",
   "metadata": {},
   "outputs": [
    {
     "data": {
      "text/plain": [
       "{'names': {'first_name': 'Nasir', 'last_name': 'hussain'},\n",
       " 'course': {'enrolled': 'python', 'Dropped': 'Ai'},\n",
       " 'emails': {'current': 'ac@gmail.com', 'previous': 'xyz@gmail.com'}}"
      ]
     },
     "execution_count": 88,
     "metadata": {},
     "output_type": "execute_result"
    }
   ],
   "source": [
    "students"
   ]
  },
  {
   "cell_type": "code",
   "execution_count": 89,
   "id": "751771d4-47d0-4841-a90b-354ffe83065c",
   "metadata": {},
   "outputs": [
    {
     "data": {
      "text/plain": [
       "True"
      ]
     },
     "execution_count": 89,
     "metadata": {},
     "output_type": "execute_result"
    }
   ],
   "source": [
    "'emails' in students"
   ]
  },
  {
   "cell_type": "code",
   "execution_count": 90,
   "id": "0797daff-2f10-44dd-a3fb-b7a044332958",
   "metadata": {},
   "outputs": [
    {
     "data": {
      "text/plain": [
       "False"
      ]
     },
     "execution_count": 90,
     "metadata": {},
     "output_type": "execute_result"
    }
   ],
   "source": [
    "'Dropped' in students"
   ]
  },
  {
   "cell_type": "code",
   "execution_count": 91,
   "id": "4a5e6902-36fd-4714-ac26-4a6c1c30e676",
   "metadata": {},
   "outputs": [],
   "source": [
    "a=10 "
   ]
  },
  {
   "cell_type": "code",
   "execution_count": 92,
   "id": "5c8d1873-5bc7-4ba2-a4cf-1808206de812",
   "metadata": {},
   "outputs": [],
   "source": [
    "b=20"
   ]
  },
  {
   "cell_type": "code",
   "execution_count": 93,
   "id": "967dac20-a2c0-4431-9e49-bb8d934df53e",
   "metadata": {},
   "outputs": [
    {
     "data": {
      "text/plain": [
       "False"
      ]
     },
     "execution_count": 93,
     "metadata": {},
     "output_type": "execute_result"
    }
   ],
   "source": [
    "a is b"
   ]
  },
  {
   "cell_type": "code",
   "execution_count": 94,
   "id": "477181f1-94ed-465f-9ace-514b5f37f2f1",
   "metadata": {},
   "outputs": [
    {
     "data": {
      "text/plain": [
       "False"
      ]
     },
     "execution_count": 94,
     "metadata": {},
     "output_type": "execute_result"
    }
   ],
   "source": [
    "'course''Dropped' in students"
   ]
  },
  {
   "cell_type": "code",
   "execution_count": 95,
   "id": "3c84f48f-935f-4304-be17-c6ddff734d74",
   "metadata": {},
   "outputs": [],
   "source": [
    "c = a"
   ]
  },
  {
   "cell_type": "code",
   "execution_count": 96,
   "id": "0ddc1dda-f45c-4cdc-b003-90e1176ab0c7",
   "metadata": {},
   "outputs": [
    {
     "data": {
      "text/plain": [
       "True"
      ]
     },
     "execution_count": 96,
     "metadata": {},
     "output_type": "execute_result"
    }
   ],
   "source": [
    "a is c"
   ]
  },
  {
   "cell_type": "code",
   "execution_count": 97,
   "id": "670768c8-7bef-462b-86fd-7bb9d49be4db",
   "metadata": {},
   "outputs": [
    {
     "data": {
      "text/plain": [
       "True"
      ]
     },
     "execution_count": 97,
     "metadata": {},
     "output_type": "execute_result"
    }
   ],
   "source": [
    "c is a"
   ]
  },
  {
   "cell_type": "code",
   "execution_count": 98,
   "id": "0c5744ae-9d7f-46dd-85e1-191567f4225d",
   "metadata": {},
   "outputs": [
    {
     "data": {
      "text/plain": [
       "140732318886616"
      ]
     },
     "execution_count": 98,
     "metadata": {},
     "output_type": "execute_result"
    }
   ],
   "source": [
    "id(c)"
   ]
  },
  {
   "cell_type": "code",
   "execution_count": 99,
   "id": "e2c50e38-cfff-40e0-a9aa-5a440ab81c1d",
   "metadata": {},
   "outputs": [
    {
     "data": {
      "text/plain": [
       "140732318886616"
      ]
     },
     "execution_count": 99,
     "metadata": {},
     "output_type": "execute_result"
    }
   ],
   "source": [
    "id(a)"
   ]
  },
  {
   "cell_type": "code",
   "execution_count": 101,
   "id": "e3f20624-4a23-4c8a-bda1-3cc0de23bb58",
   "metadata": {},
   "outputs": [],
   "source": [
    "d = 20"
   ]
  },
  {
   "cell_type": "code",
   "execution_count": 102,
   "id": "139d3b31-6b5d-4e11-89c9-43223814d12b",
   "metadata": {},
   "outputs": [
    {
     "data": {
      "text/plain": [
       "True"
      ]
     },
     "execution_count": 102,
     "metadata": {},
     "output_type": "execute_result"
    }
   ],
   "source": [
    "b is d"
   ]
  },
  {
   "cell_type": "code",
   "execution_count": 103,
   "id": "c24727a0-55da-400b-8b24-244f5c7e07f7",
   "metadata": {},
   "outputs": [
    {
     "data": {
      "text/plain": [
       "140732318886936"
      ]
     },
     "execution_count": 103,
     "metadata": {},
     "output_type": "execute_result"
    }
   ],
   "source": [
    "id(b)"
   ]
  },
  {
   "cell_type": "code",
   "execution_count": 104,
   "id": "b47ae375-0bbc-48c4-9850-1f462100fb21",
   "metadata": {},
   "outputs": [
    {
     "data": {
      "text/plain": [
       "140732318886936"
      ]
     },
     "execution_count": 104,
     "metadata": {},
     "output_type": "execute_result"
    }
   ],
   "source": [
    "id(d)"
   ]
  },
  {
   "cell_type": "code",
   "execution_count": 105,
   "id": "2ff517e7-57c1-47e4-a935-ba79be777591",
   "metadata": {},
   "outputs": [
    {
     "data": {
      "text/plain": [
       "True"
      ]
     },
     "execution_count": 105,
     "metadata": {},
     "output_type": "execute_result"
    }
   ],
   "source": [
    "a=100\n",
    "b=200\n",
    "c=300\n",
    "\n",
    "a<b or c<b\n"
   ]
  },
  {
   "cell_type": "raw",
   "id": "749cbf0d-da6d-48ea-bd8e-14b68a9b7a95",
   "metadata": {},
   "source": [
    "True  or True  = True \n",
    "True or False = True\n",
    "False or True = True\n",
    "False or False = False\n",
    "\n",
    "True  AND True  = True \n",
    "True AND False = False\n",
    "False AND True = False\n",
    "False AND False = False"
   ]
  },
  {
   "cell_type": "code",
   "execution_count": 106,
   "id": "27e00cc8-1ba3-4c3a-88db-ebc6c0d5ab3f",
   "metadata": {},
   "outputs": [
    {
     "data": {
      "text/plain": [
       "False"
      ]
     },
     "execution_count": 106,
     "metadata": {},
     "output_type": "execute_result"
    }
   ],
   "source": [
    "a<b and c<b"
   ]
  },
  {
   "cell_type": "code",
   "execution_count": 107,
   "id": "dfe3457c-6de3-4a13-8151-7908d806d2e5",
   "metadata": {},
   "outputs": [
    {
     "data": {
      "text/plain": [
       "12"
      ]
     },
     "execution_count": 107,
     "metadata": {},
     "output_type": "execute_result"
    }
   ],
   "source": [
    "12 or 50 or 20"
   ]
  },
  {
   "cell_type": "code",
   "execution_count": 108,
   "id": "859dc9b0-f7b1-4827-b4ab-61e664098896",
   "metadata": {},
   "outputs": [
    {
     "data": {
      "text/plain": [
       "20"
      ]
     },
     "execution_count": 108,
     "metadata": {},
     "output_type": "execute_result"
    }
   ],
   "source": [
    "12 and 50 and 20 "
   ]
  },
  {
   "cell_type": "markdown",
   "id": "30db1bd2-e526-4f0b-b70b-a93bef4f35de",
   "metadata": {},
   "source": [
    "# Truthy : every value has truthy value\n",
    "har value ki apni bolean represnetation ha "
   ]
  },
  {
   "cell_type": "code",
   "execution_count": 109,
   "id": "3849a8bc-47e0-4f7d-a377-98735ae5d586",
   "metadata": {},
   "outputs": [
    {
     "data": {
      "text/plain": [
       "'hello'"
      ]
     },
     "execution_count": 109,
     "metadata": {},
     "output_type": "execute_result"
    }
   ],
   "source": [
    "\"hello\""
   ]
  },
  {
   "cell_type": "code",
   "execution_count": 110,
   "id": "aadb6263-1ec6-4d54-9738-070a74cb0dab",
   "metadata": {},
   "outputs": [
    {
     "data": {
      "text/plain": [
       "True"
      ]
     },
     "execution_count": 110,
     "metadata": {},
     "output_type": "execute_result"
    }
   ],
   "source": [
    "bool(\"hello\")"
   ]
  },
  {
   "cell_type": "code",
   "execution_count": 111,
   "id": "62cc6e37-ec96-4e7f-b28a-2e0648e4671f",
   "metadata": {},
   "outputs": [
    {
     "data": {
      "text/plain": [
       "False"
      ]
     },
     "execution_count": 111,
     "metadata": {},
     "output_type": "execute_result"
    }
   ],
   "source": [
    "bool(\"\")"
   ]
  },
  {
   "cell_type": "code",
   "execution_count": 112,
   "id": "b784798c-5c71-4836-8b79-2b2b311a2b09",
   "metadata": {},
   "outputs": [
    {
     "data": {
      "text/plain": [
       "False"
      ]
     },
     "execution_count": 112,
     "metadata": {},
     "output_type": "execute_result"
    }
   ],
   "source": [
    "bool(0)"
   ]
  },
  {
   "cell_type": "code",
   "execution_count": 113,
   "id": "77c8068a-bc78-4bfd-8cd1-e8a187bc62fb",
   "metadata": {},
   "outputs": [
    {
     "data": {
      "text/plain": [
       "True"
      ]
     },
     "execution_count": 113,
     "metadata": {},
     "output_type": "execute_result"
    }
   ],
   "source": [
    "bool(1\n",
    "    )"
   ]
  },
  {
   "cell_type": "code",
   "execution_count": 114,
   "id": "7594b75e-10b1-4616-8e09-fe9cfda25ee5",
   "metadata": {},
   "outputs": [
    {
     "data": {
      "text/plain": [
       "True"
      ]
     },
     "execution_count": 114,
     "metadata": {},
     "output_type": "execute_result"
    }
   ],
   "source": [
    "bool(12)"
   ]
  },
  {
   "cell_type": "code",
   "execution_count": 115,
   "id": "55d6e733-3e45-49a2-9a0c-cc2bbdde795d",
   "metadata": {},
   "outputs": [
    {
     "data": {
      "text/plain": [
       "True"
      ]
     },
     "execution_count": 115,
     "metadata": {},
     "output_type": "execute_result"
    }
   ],
   "source": [
    "bool([1,3])"
   ]
  },
  {
   "cell_type": "code",
   "execution_count": 116,
   "id": "c07c5c87-d9c4-4da8-9f8d-a06702d3a9c2",
   "metadata": {},
   "outputs": [
    {
     "data": {
      "text/plain": [
       "False"
      ]
     },
     "execution_count": 116,
     "metadata": {},
     "output_type": "execute_result"
    }
   ],
   "source": [
    "bool([])"
   ]
  },
  {
   "cell_type": "code",
   "execution_count": 117,
   "id": "d232cc96-193f-47d4-b95b-566ece31f72d",
   "metadata": {},
   "outputs": [
    {
     "data": {
      "text/plain": [
       "12"
      ]
     },
     "execution_count": 117,
     "metadata": {},
     "output_type": "execute_result"
    }
   ],
   "source": [
    "#jab pehla hi ture mil gaya to ya age nahi jayega \n",
    "12 or 50 or 20 "
   ]
  },
  {
   "cell_type": "code",
   "execution_count": 119,
   "id": "00bc2d0e-2c3b-456e-bfdb-4aeb7d3e9659",
   "metadata": {},
   "outputs": [
    {
     "data": {
      "text/plain": [
       "20"
      ]
     },
     "execution_count": 119,
     "metadata": {},
     "output_type": "execute_result"
    }
   ],
   "source": [
    "# end akir tak chale ga to or sab true kare ga\n",
    "12 and 50 and 20 \n"
   ]
  },
  {
   "cell_type": "code",
   "execution_count": null,
   "id": "4cc71e00-0216-4d95-9d17-a3f1b2e8c3bc",
   "metadata": {},
   "outputs": [],
   "source": []
  },
  {
   "cell_type": "code",
   "execution_count": null,
   "id": "50d9735e-23c1-4360-a5cb-cd1267b356cb",
   "metadata": {},
   "outputs": [],
   "source": []
  }
 ],
 "metadata": {
  "kernelspec": {
   "display_name": "Python 3 (ipykernel)",
   "language": "python",
   "name": "python3"
  },
  "language_info": {
   "codemirror_mode": {
    "name": "ipython",
    "version": 3
   },
   "file_extension": ".py",
   "mimetype": "text/x-python",
   "name": "python",
   "nbconvert_exporter": "python",
   "pygments_lexer": "ipython3",
   "version": "3.12.7"
  },
  "panel-cell-order": [
   "f94bfd62-583c-4077-907c-d38b2856cba2"
  ]
 },
 "nbformat": 4,
 "nbformat_minor": 5
}
