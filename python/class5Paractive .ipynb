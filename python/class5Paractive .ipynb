{
 "cells": [
  {
   "cell_type": "code",
   "execution_count": 1,
   "id": "3941e9d2-86d7-4bf8-9756-096ca0304644",
   "metadata": {},
   "outputs": [],
   "source": [
    "profile = {}"
   ]
  },
  {
   "cell_type": "code",
   "execution_count": 2,
   "id": "f0281e26-f6cb-4cab-9b7f-d0a07d902d9d",
   "metadata": {},
   "outputs": [
    {
     "data": {
      "text/plain": [
       "dict"
      ]
     },
     "execution_count": 2,
     "metadata": {},
     "output_type": "execute_result"
    }
   ],
   "source": [
    "type(profile)"
   ]
  },
  {
   "cell_type": "code",
   "execution_count": 3,
   "id": "fd8fa62c-2c93-42e4-bb9d-685248fa10f5",
   "metadata": {},
   "outputs": [
    {
     "data": {
      "text/plain": [
       "0"
      ]
     },
     "execution_count": 3,
     "metadata": {},
     "output_type": "execute_result"
    }
   ],
   "source": [
    "len(profile)"
   ]
  },
  {
   "cell_type": "code",
   "execution_count": 11,
   "id": "053d9040-02f6-4de6-834b-e737418eda68",
   "metadata": {},
   "outputs": [],
   "source": [
    "profile = {'name':'Ali','age':28,'height':5.8,'weight':60,'qulification':'Graduate'}"
   ]
  },
  {
   "cell_type": "code",
   "execution_count": 5,
   "id": "bab140a0-5d97-4f6f-bbbb-dfa1f465d630",
   "metadata": {},
   "outputs": [
    {
     "data": {
      "text/plain": [
       "{'name': 'Ali',\n",
       " 'age': 28,\n",
       " 'height': 5.8,\n",
       " 'weight': 60,\n",
       " 'qulification': 'Graduate'}"
      ]
     },
     "execution_count": 5,
     "metadata": {},
     "output_type": "execute_result"
    }
   ],
   "source": [
    "profile"
   ]
  },
  {
   "cell_type": "code",
   "execution_count": 10,
   "id": "86030ed5-8cea-4138-8e60-f9617c5d0d7c",
   "metadata": {},
   "outputs": [
    {
     "data": {
      "text/plain": [
       "'pakistan'"
      ]
     },
     "execution_count": 10,
     "metadata": {},
     "output_type": "execute_result"
    }
   ],
   "source": [
    "profile"
   ]
  },
  {
   "cell_type": "raw",
   "id": "a97202da-2a84-4c48-bf1a-5814d32e37e4",
   "metadata": {},
   "source": [
    "profile = {'name':'Ali','age':28,'height':5.8,'weight':60,'qulification':'Graduate'}"
   ]
  },
  {
   "cell_type": "code",
   "execution_count": 12,
   "id": "6b6a59a5-91e6-412b-8c3b-39c9aaaeee99",
   "metadata": {},
   "outputs": [
    {
     "data": {
      "text/plain": [
       "{'name': 'Ali',\n",
       " 'age': 28,\n",
       " 'height': 5.8,\n",
       " 'weight': 60,\n",
       " 'qulification': 'Graduate'}"
      ]
     },
     "execution_count": 12,
     "metadata": {},
     "output_type": "execute_result"
    }
   ],
   "source": [
    "profile"
   ]
  },
  {
   "cell_type": "code",
   "execution_count": 13,
   "id": "092032dc-9496-4dc8-9f89-a8e2717cc2f9",
   "metadata": {},
   "outputs": [
    {
     "data": {
      "text/plain": [
       "'Ali'"
      ]
     },
     "execution_count": 13,
     "metadata": {},
     "output_type": "execute_result"
    }
   ],
   "source": [
    "profile['name']"
   ]
  },
  {
   "cell_type": "code",
   "execution_count": 14,
   "id": "7608fe66-7244-4fe4-88ab-a4638fa85d63",
   "metadata": {},
   "outputs": [
    {
     "data": {
      "text/plain": [
       "28"
      ]
     },
     "execution_count": 14,
     "metadata": {},
     "output_type": "execute_result"
    }
   ],
   "source": [
    "profile['age']"
   ]
  },
  {
   "cell_type": "code",
   "execution_count": 15,
   "id": "5d603070-37dc-4bd7-aa48-cf936f72c026",
   "metadata": {},
   "outputs": [],
   "source": [
    "profile['firstname'] = \"khan\""
   ]
  },
  {
   "cell_type": "code",
   "execution_count": 16,
   "id": "c41992de-1a33-4c64-a5d6-192d848ccbb6",
   "metadata": {},
   "outputs": [
    {
     "data": {
      "text/plain": [
       "{'name': 'Ali',\n",
       " 'age': 28,\n",
       " 'height': 5.8,\n",
       " 'weight': 60,\n",
       " 'qulification': 'Graduate',\n",
       " 'firstname': 'khan'}"
      ]
     },
     "execution_count": 16,
     "metadata": {},
     "output_type": "execute_result"
    }
   ],
   "source": [
    "profile"
   ]
  },
  {
   "cell_type": "code",
   "execution_count": 17,
   "id": "870b830b-214c-402b-82f6-3e38959e717c",
   "metadata": {},
   "outputs": [
    {
     "data": {
      "text/plain": [
       "dict_keys(['name', 'age', 'height', 'weight', 'qulification', 'firstname'])"
      ]
     },
     "execution_count": 17,
     "metadata": {},
     "output_type": "execute_result"
    }
   ],
   "source": [
    "profile.keys()"
   ]
  },
  {
   "cell_type": "code",
   "execution_count": 18,
   "id": "0deebbb3-ad20-4967-84dd-b47c61d786c3",
   "metadata": {},
   "outputs": [
    {
     "data": {
      "text/plain": [
       "dict_values(['Ali', 28, 5.8, 60, 'Graduate', 'khan'])"
      ]
     },
     "execution_count": 18,
     "metadata": {},
     "output_type": "execute_result"
    }
   ],
   "source": [
    "profile.values()"
   ]
  },
  {
   "cell_type": "code",
   "execution_count": 19,
   "id": "ea0905c7-982c-4d85-ac9e-b132cfefd2f2",
   "metadata": {},
   "outputs": [
    {
     "data": {
      "text/plain": [
       "dict_items([('name', 'Ali'), ('age', 28), ('height', 5.8), ('weight', 60), ('qulification', 'Graduate'), ('firstname', 'khan')])"
      ]
     },
     "execution_count": 19,
     "metadata": {},
     "output_type": "execute_result"
    }
   ],
   "source": [
    "profile.items()"
   ]
  },
  {
   "cell_type": "code",
   "execution_count": 20,
   "id": "6eb330aa-0a0d-4c52-b252-e7bb0c71c08b",
   "metadata": {},
   "outputs": [
    {
     "data": {
      "text/plain": [
       "'khan'"
      ]
     },
     "execution_count": 20,
     "metadata": {},
     "output_type": "execute_result"
    }
   ],
   "source": [
    "profile.pop('firstname')"
   ]
  },
  {
   "cell_type": "code",
   "execution_count": 21,
   "id": "6283c5fb-cb5d-4768-8cd4-e6bd7a34f877",
   "metadata": {},
   "outputs": [
    {
     "data": {
      "text/plain": [
       "{'name': 'Ali',\n",
       " 'age': 28,\n",
       " 'height': 5.8,\n",
       " 'weight': 60,\n",
       " 'qulification': 'Graduate'}"
      ]
     },
     "execution_count": 21,
     "metadata": {},
     "output_type": "execute_result"
    }
   ],
   "source": [
    "profile"
   ]
  },
  {
   "cell_type": "code",
   "execution_count": 22,
   "id": "75686f68-fdad-468d-a22a-29c3751fb154",
   "metadata": {},
   "outputs": [
    {
     "data": {
      "text/plain": [
       "('qulification', 'Graduate')"
      ]
     },
     "execution_count": 22,
     "metadata": {},
     "output_type": "execute_result"
    }
   ],
   "source": [
    "profile.popitem()"
   ]
  },
  {
   "cell_type": "code",
   "execution_count": 23,
   "id": "c38dbf28-6106-4cb2-84d4-f161c413decc",
   "metadata": {},
   "outputs": [],
   "source": [
    "reasearch_area = {\"computesc\":\"AI\",\"phy\":\"Quantum theroy\"}"
   ]
  },
  {
   "cell_type": "code",
   "execution_count": 24,
   "id": "198bba0c-caa2-49bf-85dd-3130585876fd",
   "metadata": {},
   "outputs": [],
   "source": [
    "profile  ['reasearch'] = reasearch_area"
   ]
  },
  {
   "cell_type": "code",
   "execution_count": 25,
   "id": "d194e4df-16ab-4e24-9918-5fcbf74bfdc7",
   "metadata": {},
   "outputs": [
    {
     "data": {
      "text/plain": [
       "{'name': 'Ali',\n",
       " 'age': 28,\n",
       " 'height': 5.8,\n",
       " 'weight': 60,\n",
       " 'reasearch': {'computesc': 'AI', 'phy': 'Quantum theroy'}}"
      ]
     },
     "execution_count": 25,
     "metadata": {},
     "output_type": "execute_result"
    }
   ],
   "source": [
    "profile"
   ]
  },
  {
   "cell_type": "code",
   "execution_count": 26,
   "id": "aecfd8b4-389d-4760-a006-bd868dceb391",
   "metadata": {},
   "outputs": [],
   "source": [
    "profile.update(reasearch_area)"
   ]
  },
  {
   "cell_type": "code",
   "execution_count": 27,
   "id": "29314e5e-2d90-4029-b5d8-add6f6ddf607",
   "metadata": {},
   "outputs": [
    {
     "data": {
      "text/plain": [
       "{'name': 'Ali',\n",
       " 'age': 28,\n",
       " 'height': 5.8,\n",
       " 'weight': 60,\n",
       " 'reasearch': {'computesc': 'AI', 'phy': 'Quantum theroy'},\n",
       " 'computesc': 'AI',\n",
       " 'phy': 'Quantum theroy'}"
      ]
     },
     "execution_count": 27,
     "metadata": {},
     "output_type": "execute_result"
    }
   ],
   "source": [
    "profile"
   ]
  },
  {
   "cell_type": "code",
   "execution_count": 29,
   "id": "177e1351-e6e9-49a1-bec8-420fa743783f",
   "metadata": {},
   "outputs": [],
   "source": [
    "del profile['reasearch']"
   ]
  },
  {
   "cell_type": "code",
   "execution_count": 30,
   "id": "c689ca51-10bd-4ee7-a1fa-a8cf1bd5d848",
   "metadata": {},
   "outputs": [
    {
     "data": {
      "text/plain": [
       "{'name': 'Ali',\n",
       " 'age': 28,\n",
       " 'height': 5.8,\n",
       " 'weight': 60,\n",
       " 'computesc': 'AI',\n",
       " 'phy': 'Quantum theroy'}"
      ]
     },
     "execution_count": 30,
     "metadata": {},
     "output_type": "execute_result"
    }
   ],
   "source": [
    "profile"
   ]
  },
  {
   "cell_type": "code",
   "execution_count": 32,
   "id": "a9d7760a-1703-4d09-aa98-cbb1b8262343",
   "metadata": {},
   "outputs": [],
   "source": [
    "reports = {\n",
    "    'name' : ['asad' , \"sanaullah\",'imran khan','nawaz sharief'],\n",
    "    'email': ['abc@gmail.com','bcd@gmail.com','cde@gmail.com','def@gmail.com'],\n",
    "    'password' : ['1234','22222','3333','55555']   \n",
    "          \n",
    "          \n",
    "          }"
   ]
  },
  {
   "cell_type": "code",
   "execution_count": 33,
   "id": "782f37a0-da36-4f41-91d8-43b4fd729420",
   "metadata": {},
   "outputs": [
    {
     "data": {
      "text/plain": [
       "{'name': ['asad', 'sanaullah', 'imran khan', 'nawaz sharief'],\n",
       " 'email': ['abc@gmail.com', 'bcd@gmail.com', 'cde@gmail.com', 'def@gmail.com'],\n",
       " 'password': ['1234', '22222', '3333', '55555']}"
      ]
     },
     "execution_count": 33,
     "metadata": {},
     "output_type": "execute_result"
    }
   ],
   "source": [
    "reports"
   ]
  },
  {
   "cell_type": "code",
   "execution_count": 34,
   "id": "d8a0824d-c2f8-422b-9647-cd7e7542d248",
   "metadata": {},
   "outputs": [
    {
     "data": {
      "text/plain": [
       "['asad', 'sanaullah', 'imran khan', 'nawaz sharief']"
      ]
     },
     "execution_count": 34,
     "metadata": {},
     "output_type": "execute_result"
    }
   ],
   "source": [
    "reports['name']"
   ]
  },
  {
   "cell_type": "code",
   "execution_count": 35,
   "id": "9b2a4efe-b9da-4d22-8b82-fc9d617fba21",
   "metadata": {},
   "outputs": [
    {
     "data": {
      "text/plain": [
       "'sanaullah'"
      ]
     },
     "execution_count": 35,
     "metadata": {},
     "output_type": "execute_result"
    }
   ],
   "source": [
    "reports['name'][1]"
   ]
  },
  {
   "cell_type": "code",
   "execution_count": 36,
   "id": "ecb1e399-5848-475d-a484-9b19524f80cc",
   "metadata": {},
   "outputs": [
    {
     "data": {
      "text/plain": [
       "'def@gmail.com'"
      ]
     },
     "execution_count": 36,
     "metadata": {},
     "output_type": "execute_result"
    }
   ],
   "source": [
    "reports['email'][3]"
   ]
  },
  {
   "cell_type": "code",
   "execution_count": 39,
   "id": "a84a0e85-8bde-4c6f-ab4b-1bd0d3b722ca",
   "metadata": {},
   "outputs": [
    {
     "data": {
      "text/plain": [
       "['asad', 'sanaullah', 'imran khan', 'nawaz sharief']"
      ]
     },
     "execution_count": 39,
     "metadata": {},
     "output_type": "execute_result"
    }
   ],
   "source": [
    "reports.setdefault('name')"
   ]
  },
  {
   "cell_type": "code",
   "execution_count": 40,
   "id": "92776dab-df50-48c3-8ffa-7d65252d1ff1",
   "metadata": {},
   "outputs": [
    {
     "data": {
      "text/plain": [
       "{'name': ['asad', 'sanaullah', 'imran khan', 'nawaz sharief'],\n",
       " 'email': ['abc@gmail.com', 'bcd@gmail.com', 'cde@gmail.com', 'def@gmail.com'],\n",
       " 'password': ['1234', '22222', '3333', '55555']}"
      ]
     },
     "execution_count": 40,
     "metadata": {},
     "output_type": "execute_result"
    }
   ],
   "source": [
    "reports"
   ]
  },
  {
   "cell_type": "code",
   "execution_count": 42,
   "id": "b578edc8-d82b-4216-9d35-2bdfddba8cee",
   "metadata": {},
   "outputs": [
    {
     "data": {
      "text/plain": [
       "['asad', 'sanaullah', 'imran khan', 'nawaz sharief']"
      ]
     },
     "execution_count": 42,
     "metadata": {},
     "output_type": "execute_result"
    }
   ],
   "source": [
    "reports.setdefault('name',\"sharukhan\")"
   ]
  },
  {
   "cell_type": "code",
   "execution_count": 43,
   "id": "be79f93a-a5fa-42d1-9636-93a6fb9ecbec",
   "metadata": {},
   "outputs": [
    {
     "data": {
      "text/plain": [
       "['asad', 'sanaullah', 'imran khan', 'nawaz sharief']"
      ]
     },
     "execution_count": 43,
     "metadata": {},
     "output_type": "execute_result"
    }
   ],
   "source": [
    "reports.get('name')"
   ]
  },
  {
   "cell_type": "code",
   "execution_count": 44,
   "id": "4aa14ae0-ed54-4e38-8391-0708f0e74875",
   "metadata": {},
   "outputs": [
    {
     "data": {
      "text/plain": [
       "['abc@gmail.com', 'bcd@gmail.com', 'cde@gmail.com', 'def@gmail.com']"
      ]
     },
     "execution_count": 44,
     "metadata": {},
     "output_type": "execute_result"
    }
   ],
   "source": [
    "reports.get('email')"
   ]
  },
  {
   "cell_type": "code",
   "execution_count": 45,
   "id": "a0ac9f17-d20d-46f7-bd31-eb8ec4644c27",
   "metadata": {},
   "outputs": [
    {
     "data": {
      "text/plain": [
       "['1234', '22222', '3333', '55555']"
      ]
     },
     "execution_count": 45,
     "metadata": {},
     "output_type": "execute_result"
    }
   ],
   "source": [
    "reports.get('password')"
   ]
  },
  {
   "cell_type": "code",
   "execution_count": 46,
   "id": "481c7216-faaa-4053-893e-5f3f6ccfe007",
   "metadata": {},
   "outputs": [
    {
     "data": {
      "text/plain": [
       "{'computesc': 'AI', 'phy': 'Quantum theroy'}"
      ]
     },
     "execution_count": 46,
     "metadata": {},
     "output_type": "execute_result"
    }
   ],
   "source": [
    "reasearch_area"
   ]
  },
  {
   "cell_type": "code",
   "execution_count": 47,
   "id": "8821d293-89da-4074-9552-42efd0f504d6",
   "metadata": {},
   "outputs": [
    {
     "data": {
      "text/plain": [
       "{'name': {'computesc': 'AI', 'phy': 'Quantum theroy'},\n",
       " 'email': {'computesc': 'AI', 'phy': 'Quantum theroy'},\n",
       " 'password': {'computesc': 'AI', 'phy': 'Quantum theroy'}}"
      ]
     },
     "execution_count": 47,
     "metadata": {},
     "output_type": "execute_result"
    }
   ],
   "source": [
    "reports.fromkeys(reports,reasearch_area)"
   ]
  },
  {
   "cell_type": "code",
   "execution_count": 48,
   "id": "64ccbc4e-31bf-427c-ab32-3764ce0f6639",
   "metadata": {},
   "outputs": [
    {
     "data": {
      "text/plain": [
       "{'name': ['asad', 'sanaullah', 'imran khan', 'nawaz sharief'],\n",
       " 'email': ['abc@gmail.com', 'bcd@gmail.com', 'cde@gmail.com', 'def@gmail.com'],\n",
       " 'password': ['1234', '22222', '3333', '55555']}"
      ]
     },
     "execution_count": 48,
     "metadata": {},
     "output_type": "execute_result"
    }
   ],
   "source": [
    "reports"
   ]
  },
  {
   "cell_type": "code",
   "execution_count": 49,
   "id": "6cc5121b-61b9-4ed1-a617-f1a76504d0d8",
   "metadata": {},
   "outputs": [],
   "source": [
    "reports['firstname'] = 'khan'"
   ]
  },
  {
   "cell_type": "code",
   "execution_count": 50,
   "id": "3b22aee1-7fbc-4fed-b2dd-fc38512e98df",
   "metadata": {},
   "outputs": [
    {
     "data": {
      "text/plain": [
       "{'name': ['asad', 'sanaullah', 'imran khan', 'nawaz sharief'],\n",
       " 'email': ['abc@gmail.com', 'bcd@gmail.com', 'cde@gmail.com', 'def@gmail.com'],\n",
       " 'password': ['1234', '22222', '3333', '55555'],\n",
       " 'firstname': 'khan'}"
      ]
     },
     "execution_count": 50,
     "metadata": {},
     "output_type": "execute_result"
    }
   ],
   "source": [
    "reports"
   ]
  },
  {
   "cell_type": "code",
   "execution_count": 51,
   "id": "f8a897ce-a17e-4aaa-a48b-e067b17e8a42",
   "metadata": {},
   "outputs": [],
   "source": [
    "reports.clear()"
   ]
  },
  {
   "cell_type": "code",
   "execution_count": 52,
   "id": "cce1d466-c7fd-4bcc-86b3-11280e1259c0",
   "metadata": {},
   "outputs": [
    {
     "data": {
      "text/plain": [
       "{}"
      ]
     },
     "execution_count": 52,
     "metadata": {},
     "output_type": "execute_result"
    }
   ],
   "source": [
    "reports"
   ]
  },
  {
   "cell_type": "code",
   "execution_count": 2,
   "id": "dcb9aa24-f850-414e-9da7-62d9b42a19b9",
   "metadata": {},
   "outputs": [],
   "source": [
    "name = {}"
   ]
  },
  {
   "cell_type": "code",
   "execution_count": 3,
   "id": "ed40836b-5599-4473-9cc1-669864ed9699",
   "metadata": {},
   "outputs": [],
   "source": [
    "name[\"name\"] = \"sanaullah\""
   ]
  },
  {
   "cell_type": "code",
   "execution_count": 4,
   "id": "02ba5d03-be65-4663-8882-6f9fa88fb921",
   "metadata": {},
   "outputs": [
    {
     "data": {
      "text/plain": [
       "{'name': 'sanaullah'}"
      ]
     },
     "execution_count": 4,
     "metadata": {},
     "output_type": "execute_result"
    }
   ],
   "source": [
    "name"
   ]
  },
  {
   "cell_type": "code",
   "execution_count": 5,
   "id": "72aa2864-e698-4456-96f8-8f47468f84b2",
   "metadata": {},
   "outputs": [],
   "source": [
    "master = {\"name\" :[\"sanaullah\",'imrankhan','kutta nawaz',\"foji harmai\"]}"
   ]
  },
  {
   "cell_type": "code",
   "execution_count": 6,
   "id": "85b03218-9a29-4480-b0ee-2742a088b2a3",
   "metadata": {},
   "outputs": [
    {
     "data": {
      "text/plain": [
       "{'name': ['sanaullah', 'imrankhan', 'kutta nawaz', 'foji harmai']}"
      ]
     },
     "execution_count": 6,
     "metadata": {},
     "output_type": "execute_result"
    }
   ],
   "source": [
    "master"
   ]
  },
  {
   "cell_type": "code",
   "execution_count": 9,
   "id": "f33544ed-598b-484f-95b5-f9d3554eb3d6",
   "metadata": {},
   "outputs": [],
   "source": [
    "master.update(name)"
   ]
  },
  {
   "cell_type": "code",
   "execution_count": 10,
   "id": "8c2a9d36-62e9-4988-86eb-bf41f19795d2",
   "metadata": {},
   "outputs": [
    {
     "data": {
      "text/plain": [
       "{'name': 'sanaullah'}"
      ]
     },
     "execution_count": 10,
     "metadata": {},
     "output_type": "execute_result"
    }
   ],
   "source": [
    "master"
   ]
  },
  {
   "cell_type": "markdown",
   "id": "af3171d1-8419-43e1-a712-5f2ac304b1cc",
   "metadata": {},
   "source": [
    "master = {\"name\" :[\"sanaullah\",'imrankhan','kutta nawaz',\"foji harmai\"]}"
   ]
  },
  {
   "cell_type": "code",
   "execution_count": 11,
   "id": "97d96680-8d91-40d3-a22f-bebf2f9b9d64",
   "metadata": {},
   "outputs": [],
   "source": [
    "reports = {\n",
    "    'name' : ['asad' , \"sanaullah\",'imran khan','nawaz sharief'],\n",
    "    'email': ['abc@gmail.com','bcd@gmail.com','cde@gmail.com','def@gmail.com'],\n",
    "    'password' : ['1234','22222','3333','55555']   \n",
    "          \n",
    "          \n",
    "          }"
   ]
  },
  {
   "cell_type": "code",
   "execution_count": 12,
   "id": "7f16ffa2-a12e-46f0-8693-680b8fd09bbd",
   "metadata": {},
   "outputs": [
    {
     "data": {
      "text/plain": [
       "{'name': ['asad', 'sanaullah', 'imran khan', 'nawaz sharief'],\n",
       " 'email': ['abc@gmail.com', 'bcd@gmail.com', 'cde@gmail.com', 'def@gmail.com'],\n",
       " 'password': ['1234', '22222', '3333', '55555']}"
      ]
     },
     "execution_count": 12,
     "metadata": {},
     "output_type": "execute_result"
    }
   ],
   "source": [
    "reports"
   ]
  },
  {
   "cell_type": "code",
   "execution_count": 13,
   "id": "21d94bbb-4998-4e27-b050-a1cf81c7f66a",
   "metadata": {},
   "outputs": [
    {
     "data": {
      "text/plain": [
       "{'name': 'sanaullah'}"
      ]
     },
     "execution_count": 13,
     "metadata": {},
     "output_type": "execute_result"
    }
   ],
   "source": [
    "master"
   ]
  },
  {
   "cell_type": "code",
   "execution_count": 14,
   "id": "26ad0775-42dc-4cac-8ec5-5dede7077495",
   "metadata": {},
   "outputs": [],
   "source": [
    "reports [\"khan\"] = master"
   ]
  },
  {
   "cell_type": "code",
   "execution_count": 15,
   "id": "25dafaea-a433-4411-bc40-d7f127545326",
   "metadata": {},
   "outputs": [
    {
     "data": {
      "text/plain": [
       "{'name': ['asad', 'sanaullah', 'imran khan', 'nawaz sharief'],\n",
       " 'email': ['abc@gmail.com', 'bcd@gmail.com', 'cde@gmail.com', 'def@gmail.com'],\n",
       " 'password': ['1234', '22222', '3333', '55555'],\n",
       " 'khan': {'name': 'sanaullah'}}"
      ]
     },
     "execution_count": 15,
     "metadata": {},
     "output_type": "execute_result"
    }
   ],
   "source": [
    "reports"
   ]
  },
  {
   "cell_type": "code",
   "execution_count": 17,
   "id": "9961f683-bb77-4ac4-9182-f77a35bfc53d",
   "metadata": {},
   "outputs": [
    {
     "data": {
      "text/plain": [
       "'asad'"
      ]
     },
     "execution_count": 17,
     "metadata": {},
     "output_type": "execute_result"
    }
   ],
   "source": [
    "reports ['name'][0]\n",
    "\n",
    "\n"
   ]
  },
  {
   "cell_type": "code",
   "execution_count": 22,
   "id": "3ce7cbc8-9303-4eb9-92fc-e9caad5486d1",
   "metadata": {},
   "outputs": [
    {
     "data": {
      "text/plain": [
       "False"
      ]
     },
     "execution_count": 22,
     "metadata": {},
     "output_type": "execute_result"
    }
   ],
   "source": [
    "'asad' in name"
   ]
  },
  {
   "cell_type": "code",
   "execution_count": 23,
   "id": "9ab2c9be-542f-4c08-a8c3-e3988b45821f",
   "metadata": {},
   "outputs": [
    {
     "data": {
      "text/plain": [
       "True"
      ]
     },
     "execution_count": 23,
     "metadata": {},
     "output_type": "execute_result"
    }
   ],
   "source": [
    "'name' in reports"
   ]
  },
  {
   "cell_type": "code",
   "execution_count": 24,
   "id": "79a70df4-511a-431c-867f-52c7d7f826f5",
   "metadata": {},
   "outputs": [
    {
     "data": {
      "text/plain": [
       "False"
      ]
     },
     "execution_count": 24,
     "metadata": {},
     "output_type": "execute_result"
    }
   ],
   "source": [
    "'asad' in  name"
   ]
  },
  {
   "cell_type": "code",
   "execution_count": 31,
   "id": "ee68f73f-3690-4477-afe2-1b3f4dcb43f1",
   "metadata": {},
   "outputs": [],
   "source": [
    "a = 20\n",
    "b = 20"
   ]
  },
  {
   "cell_type": "code",
   "execution_count": 32,
   "id": "fe956142-697a-45b7-a090-4aa836c82947",
   "metadata": {},
   "outputs": [
    {
     "data": {
      "text/plain": [
       "True"
      ]
     },
     "execution_count": 32,
     "metadata": {},
     "output_type": "execute_result"
    }
   ],
   "source": [
    "a is b"
   ]
  },
  {
   "cell_type": "code",
   "execution_count": 33,
   "id": "410b8473-279a-4140-92a1-ddabbf3bb6a6",
   "metadata": {},
   "outputs": [],
   "source": [
    " a = b"
   ]
  },
  {
   "cell_type": "code",
   "execution_count": 34,
   "id": "86f3470f-56f9-444c-a1bd-dd2218a9ab8f",
   "metadata": {},
   "outputs": [
    {
     "data": {
      "text/plain": [
       "True"
      ]
     },
     "execution_count": 34,
     "metadata": {},
     "output_type": "execute_result"
    }
   ],
   "source": [
    "a is b"
   ]
  },
  {
   "cell_type": "code",
   "execution_count": 35,
   "id": "e5ed5ca5-0d22-4e57-9467-47fa3ff3f85b",
   "metadata": {},
   "outputs": [
    {
     "data": {
      "text/plain": [
       "20"
      ]
     },
     "execution_count": 35,
     "metadata": {},
     "output_type": "execute_result"
    }
   ],
   "source": [
    "b"
   ]
  },
  {
   "cell_type": "code",
   "execution_count": 38,
   "id": "3a83c4a4-1d81-4091-9045-284a0bf98a5b",
   "metadata": {},
   "outputs": [],
   "source": [
    "a\n",
    "c = 20"
   ]
  },
  {
   "cell_type": "code",
   "execution_count": 39,
   "id": "a5334b2f-ec95-4a0a-a3fc-28097ccdcaf9",
   "metadata": {},
   "outputs": [
    {
     "data": {
      "text/plain": [
       "True"
      ]
     },
     "execution_count": 39,
     "metadata": {},
     "output_type": "execute_result"
    }
   ],
   "source": [
    "a is c"
   ]
  },
  {
   "cell_type": "code",
   "execution_count": 40,
   "id": "1c1508dd-87f0-4ec0-9144-8dcb6c2c81e6",
   "metadata": {},
   "outputs": [
    {
     "data": {
      "text/plain": [
       "False"
      ]
     },
     "execution_count": 40,
     "metadata": {},
     "output_type": "execute_result"
    }
   ],
   "source": [
    "a > b"
   ]
  },
  {
   "cell_type": "code",
   "execution_count": 42,
   "id": "7fca21e6-0d23-4d92-a53d-3cee0c564170",
   "metadata": {},
   "outputs": [
    {
     "data": {
      "text/plain": [
       "True"
      ]
     },
     "execution_count": 42,
     "metadata": {},
     "output_type": "execute_result"
    }
   ],
   "source": [
    "a >= b"
   ]
  },
  {
   "cell_type": "code",
   "execution_count": 43,
   "id": "130b7c16-595b-4bec-9da4-32186817862d",
   "metadata": {},
   "outputs": [
    {
     "data": {
      "text/plain": [
       "True"
      ]
     },
     "execution_count": 43,
     "metadata": {},
     "output_type": "execute_result"
    }
   ],
   "source": [
    "a <= b"
   ]
  },
  {
   "cell_type": "code",
   "execution_count": 44,
   "id": "7b82871f-fc3c-417b-aa81-b53d69bd8255",
   "metadata": {},
   "outputs": [
    {
     "data": {
      "text/plain": [
       "False"
      ]
     },
     "execution_count": 44,
     "metadata": {},
     "output_type": "execute_result"
    }
   ],
   "source": [
    "a <b"
   ]
  },
  {
   "cell_type": "code",
   "execution_count": 45,
   "id": "071ab74d-b3cc-480a-9048-a2b6cfcfa553",
   "metadata": {},
   "outputs": [
    {
     "data": {
      "text/plain": [
       "False"
      ]
     },
     "execution_count": 45,
     "metadata": {},
     "output_type": "execute_result"
    }
   ],
   "source": [
    "a>b"
   ]
  },
  {
   "cell_type": "code",
   "execution_count": null,
   "id": "722606fa-f3ab-4431-a001-4e9729d31934",
   "metadata": {},
   "outputs": [],
   "source": []
  }
 ],
 "metadata": {
  "kernelspec": {
   "display_name": "Python 3 (ipykernel)",
   "language": "python",
   "name": "python3"
  },
  "language_info": {
   "codemirror_mode": {
    "name": "ipython",
    "version": 3
   },
   "file_extension": ".py",
   "mimetype": "text/x-python",
   "name": "python",
   "nbconvert_exporter": "python",
   "pygments_lexer": "ipython3",
   "version": "3.12.7"
  },
  "panel-cell-order": [
   "f94bfd62-583c-4077-907c-d38b2856cba2"
  ]
 },
 "nbformat": 4,
 "nbformat_minor": 5
}
