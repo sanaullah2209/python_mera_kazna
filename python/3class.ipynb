{
 "cells": [
  {
   "cell_type": "markdown",
   "id": "6c23ceeb-a0d4-467c-adba-ab30537058f5",
   "metadata": {},
   "source": [
    "###### string is immutable (non changable)\n",
    "they are not change in memory "
   ]
  },
  {
   "cell_type": "code",
   "execution_count": 2,
   "id": "50b8d37e-252e-483b-ad60-7bf6cb5329f1",
   "metadata": {},
   "outputs": [],
   "source": [
    "course = \"sanaullah khan\""
   ]
  },
  {
   "cell_type": "code",
   "execution_count": 4,
   "id": "f6f8274f-8373-4624-839a-662fa857d309",
   "metadata": {},
   "outputs": [
    {
     "name": "stdout",
     "output_type": "stream",
     "text": [
      "<class 'str'>\n"
     ]
    }
   ],
   "source": [
    "print(type(course))"
   ]
  },
  {
   "cell_type": "code",
   "execution_count": 5,
   "id": "67deef7c-e379-4e5c-8d8d-4b88637231d0",
   "metadata": {},
   "outputs": [
    {
     "data": {
      "text/plain": [
       "'Sanaullah khan'"
      ]
     },
     "execution_count": 5,
     "metadata": {},
     "output_type": "execute_result"
    }
   ],
   "source": [
    "course.capitalize()"
   ]
  },
  {
   "cell_type": "code",
   "execution_count": 6,
   "id": "2862670f-ff08-4d97-84c0-848a94c43374",
   "metadata": {},
   "outputs": [
    {
     "data": {
      "text/plain": [
       "'SANAULLAH KHAN'"
      ]
     },
     "execution_count": 6,
     "metadata": {},
     "output_type": "execute_result"
    }
   ],
   "source": [
    "course.upper()"
   ]
  },
  {
   "cell_type": "code",
   "execution_count": 7,
   "id": "2b93fe84-f10a-402b-afad-0c8cb4cd0b22",
   "metadata": {},
   "outputs": [
    {
     "data": {
      "text/plain": [
       "'sanaullah khan'"
      ]
     },
     "execution_count": 7,
     "metadata": {},
     "output_type": "execute_result"
    }
   ],
   "source": [
    "course.lower()"
   ]
  },
  {
   "cell_type": "code",
   "execution_count": 8,
   "id": "ac743269-0a9b-4c8e-84f3-a230eff88a4a",
   "metadata": {},
   "outputs": [
    {
     "data": {
      "text/plain": [
       "'Sanaullah Khan'"
      ]
     },
     "execution_count": 8,
     "metadata": {},
     "output_type": "execute_result"
    }
   ],
   "source": [
    "course.title()"
   ]
  },
  {
   "cell_type": "code",
   "execution_count": 12,
   "id": "8c74c57e-792e-464d-91e6-9e11ec529495",
   "metadata": {},
   "outputs": [
    {
     "data": {
      "text/plain": [
       "1"
      ]
     },
     "execution_count": 12,
     "metadata": {},
     "output_type": "execute_result"
    }
   ],
   "source": [
    "course.count(\"s\")"
   ]
  },
  {
   "cell_type": "code",
   "execution_count": 13,
   "id": "63d7a36f-5333-40a8-8eab-f3bcc81dee2b",
   "metadata": {},
   "outputs": [],
   "source": [
    "text = \"a book or other written or printed work, regarded in terms of its content rather than its physical form.\""
   ]
  },
  {
   "cell_type": "code",
   "execution_count": 14,
   "id": "b1b71167-8fdc-46a3-9fde-4e71aaa9bebf",
   "metadata": {},
   "outputs": [
    {
     "data": {
      "text/plain": [
       "'sanaullah khan'"
      ]
     },
     "execution_count": 14,
     "metadata": {},
     "output_type": "execute_result"
    }
   ],
   "source": [
    "course"
   ]
  },
  {
   "cell_type": "code",
   "execution_count": 17,
   "id": "de6c1459-69bf-4f35-b710-dcc29795e947",
   "metadata": {},
   "outputs": [
    {
     "data": {
      "text/plain": [
       "True"
      ]
     },
     "execution_count": 17,
     "metadata": {},
     "output_type": "execute_result"
    }
   ],
   "source": [
    "text.endswith(\"m.\")"
   ]
  },
  {
   "cell_type": "code",
   "execution_count": 18,
   "id": "53ad2ec0-a5e3-4d42-b1e8-4030a25f1806",
   "metadata": {},
   "outputs": [
    {
     "data": {
      "text/plain": [
       "True"
      ]
     },
     "execution_count": 18,
     "metadata": {},
     "output_type": "execute_result"
    }
   ],
   "source": [
    "text.startswith(\"a\")"
   ]
  },
  {
   "cell_type": "code",
   "execution_count": 19,
   "id": "4b01d70c-67f8-4cf8-a605-b9fbbd0821d1",
   "metadata": {},
   "outputs": [],
   "source": [
    "marks = \"100\""
   ]
  },
  {
   "cell_type": "code",
   "execution_count": 20,
   "id": "d5d5e771-2741-419b-b57d-43a197503882",
   "metadata": {},
   "outputs": [
    {
     "data": {
      "text/plain": [
       "True"
      ]
     },
     "execution_count": 20,
     "metadata": {},
     "output_type": "execute_result"
    }
   ],
   "source": [
    "marks.isalnum()"
   ]
  },
  {
   "cell_type": "code",
   "execution_count": 21,
   "id": "717cce40-ba0e-4787-b7c8-4b0533fbebc7",
   "metadata": {},
   "outputs": [
    {
     "data": {
      "text/plain": [
       "False"
      ]
     },
     "execution_count": 21,
     "metadata": {},
     "output_type": "execute_result"
    }
   ],
   "source": [
    "marks.isalpha()"
   ]
  },
  {
   "cell_type": "raw",
   "id": "b85037d7-bad6-486a-bf5f-53e770e44117",
   "metadata": {},
   "source": [
    "marks.islower()"
   ]
  },
  {
   "cell_type": "markdown",
   "id": "609aa916-4fee-4035-8c14-ea6a3b280fb2",
   "metadata": {},
   "source": [
    "# String cocatenation:joining\n",
    "\"+\" operator is conatnenation operator\n",
    "plus opreator ki 2 behaviour hote ha agar number mile to plus kare ga agar string hoga to join kare ga\n"
   ]
  },
  {
   "cell_type": "code",
   "execution_count": 24,
   "id": "e2cb949e-6874-46a2-b130-78d9a395664b",
   "metadata": {},
   "outputs": [],
   "source": [
    "first_name = \"sana\"\n",
    "last_name = \"Hassan\""
   ]
  },
  {
   "cell_type": "code",
   "execution_count": 25,
   "id": "4dc214a9-fd9d-46ce-ac63-c2d8ea581503",
   "metadata": {},
   "outputs": [
    {
     "data": {
      "text/plain": [
       "'sanaHassan'"
      ]
     },
     "execution_count": 25,
     "metadata": {},
     "output_type": "execute_result"
    }
   ],
   "source": [
    "first_name + last_name"
   ]
  },
  {
   "cell_type": "code",
   "execution_count": 26,
   "id": "83deebe2-0e15-4bc3-9234-9fe4acc95184",
   "metadata": {},
   "outputs": [],
   "source": [
    "age = 30"
   ]
  },
  {
   "cell_type": "code",
   "execution_count": 27,
   "id": "9784e750-3c08-446e-a8b1-003a71d3d6a5",
   "metadata": {},
   "outputs": [
    {
     "ename": "TypeError",
     "evalue": "can only concatenate str (not \"int\") to str",
     "output_type": "error",
     "traceback": [
      "\u001b[1;31m---------------------------------------------------------------------------\u001b[0m",
      "\u001b[1;31mTypeError\u001b[0m                                 Traceback (most recent call last)",
      "Cell \u001b[1;32mIn[27], line 1\u001b[0m\n\u001b[1;32m----> 1\u001b[0m first_name\u001b[38;5;241m+\u001b[39mlast_name\u001b[38;5;241m+\u001b[39mage\n",
      "\u001b[1;31mTypeError\u001b[0m: can only concatenate str (not \"int\") to str"
     ]
    }
   ],
   "source": [
    "first_name+last_name+age"
   ]
  },
  {
   "cell_type": "code",
   "execution_count": 28,
   "id": "c2358eb9-b335-4d1e-9f8b-30e8433e6af4",
   "metadata": {},
   "outputs": [
    {
     "data": {
      "text/plain": [
       "'sanaHassan30'"
      ]
     },
     "execution_count": 28,
     "metadata": {},
     "output_type": "execute_result"
    }
   ],
   "source": [
    "first_name+last_name+str(age)"
   ]
  },
  {
   "cell_type": "code",
   "execution_count": 30,
   "id": "67c47bd4-0c00-4e6e-9133-f76353d10a17",
   "metadata": {},
   "outputs": [
    {
     "name": "stdin",
     "output_type": "stream",
     "text": [
      "plase tell mre your good name rashid \n",
      "dont milnd abbu ka name baten:  master\n",
      "how old are you 29\n"
     ]
    },
    {
     "name": "stdout",
     "output_type": "stream",
     "text": [
      "Mr.rashid son ofmasteryou are 29.0old.\n"
     ]
    }
   ],
   "source": [
    "name = input(\"plase tell mre your good name\")\n",
    "fname = input(\"dont milnd abbu ka name baten: \")\n",
    "age = float( input (\"how old are you\"))\n",
    "print(\"Mr.\"+name+ \"son of\"+fname + \"you are \" + str(age)  + \"old.\")"
   ]
  },
  {
   "cell_type": "markdown",
   "id": "2593d791-4e67-463f-bb13-d221bb81d151",
   "metadata": {},
   "source": [
    "# string formatting"
   ]
  },
  {
   "cell_type": "code",
   "execution_count": 32,
   "id": "e1a07880-4cf4-4a19-b329-045b299ff39e",
   "metadata": {},
   "outputs": [
    {
     "name": "stdout",
     "output_type": "stream",
     "text": [
      "Mr. rashid  S/o master your are 29.0 old\n"
     ]
    }
   ],
   "source": [
    "print(\"Mr. {} S/o {} your are {} old\".format(name,fname,age))\n",
    "#placeholders "
   ]
  },
  {
   "cell_type": "code",
   "execution_count": 34,
   "id": "02b60b32-e33f-428d-88a0-68781e355344",
   "metadata": {},
   "outputs": [
    {
     "name": "stdout",
     "output_type": "stream",
     "text": [
      "Mr.rashid  s/o master you are  29.0 old\n"
     ]
    }
   ],
   "source": [
    "#we use f formating here \n",
    "print(f\"Mr.{name} s/o {fname} you are  {age} old\")"
   ]
  },
  {
   "cell_type": "code",
   "execution_count": 37,
   "id": "bab0f389-ab40-4fd8-af42-73044c8c4185",
   "metadata": {},
   "outputs": [
    {
     "name": "stdin",
     "output_type": "stream",
     "text": [
      "imrankhan ha your name ya nahi ha no\n",
      "mama no\n",
      "enter your age 20\n"
     ]
    },
    {
     "name": "stdout",
     "output_type": "stream",
     "text": [
      "tum True khan True age 20.0\n"
     ]
    }
   ],
   "source": [
    "studentname = bool(input(\"imrankhan ha your name ya nahi ha\"))\n",
    "parentname = bool(input(\"mama\"))\n",
    "age = float(input(\"enter your age\"))\n",
    "\n",
    "print(f\"tum {studentname} khan {parentname} age {age}\")"
   ]
  },
  {
   "cell_type": "markdown",
   "id": "c97c1b81-8cd1-4963-80ca-3abb65f35286",
   "metadata": {},
   "source": [
    "# String indexing and slicing "
   ]
  },
  {
   "cell_type": "code",
   "execution_count": 40,
   "id": "39a6b605-bc71-4ec4-8d9e-3b1d178ffc37",
   "metadata": {},
   "outputs": [],
   "source": [
    "text = \"a book or other written or printed work\" # single line string double goutes"
   ]
  },
  {
   "cell_type": "code",
   "execution_count": 41,
   "id": "07e5cd5f-63e8-4aba-9b60-a9c6e47fae75",
   "metadata": {},
   "outputs": [],
   "source": [
    "text = 'a book or other written or printed work' #sigle line string single quotes"
   ]
  },
  {
   "cell_type": "code",
   "execution_count": 42,
   "id": "80fccf04-9220-4267-a9c1-ed89ce3327fa",
   "metadata": {},
   "outputs": [],
   "source": [
    "text = \"\"\" dfksafjsdfjsdlf ksdfjsdlkfjdslfk sjkfklsd \n",
    "jkdskf dklfhsdf kjdskjf sdkfjdsfjsdfksdjfsd;\"\"\"  # multiple line string are making using three qoutes ok "
   ]
  },
  {
   "cell_type": "code",
   "execution_count": 43,
   "id": "74cb1274-e36c-4086-b9eb-126ed1ff07e1",
   "metadata": {},
   "outputs": [],
   "source": [
    "text = '''dfksafjsdfjsdlf ksdfjsdlkfjdslfk sjkfklsd \n",
    "jkdskf dklfhsdf kjdskjf sdkfjdsfjsdfksdjfsd'''\n"
   ]
  },
  {
   "cell_type": "markdown",
   "id": "b3fe14da-b181-4f77-b9b0-21b4774f7978",
   "metadata": {},
   "source": [
    "# lengyh >>> len() "
   ]
  },
  {
   "cell_type": "code",
   "execution_count": 44,
   "id": "318f977d-8cee-4370-8ce2-63413d753229",
   "metadata": {},
   "outputs": [
    {
     "data": {
      "text/plain": [
       "86"
      ]
     },
     "execution_count": 44,
     "metadata": {},
     "output_type": "execute_result"
    }
   ],
   "source": [
    "len(text)"
   ]
  },
  {
   "cell_type": "code",
   "execution_count": 45,
   "id": "a6acda4f-f0a0-4cd7-a8f7-9e227c4da055",
   "metadata": {},
   "outputs": [],
   "source": [
    "text = \"pakistan is very poor country\"\n",
    "# index 0123456789"
   ]
  },
  {
   "cell_type": "code",
   "execution_count": 46,
   "id": "a5ac1623-813b-4018-a8d9-6f34f4a8e8a9",
   "metadata": {},
   "outputs": [
    {
     "data": {
      "text/plain": [
       "29"
      ]
     },
     "execution_count": 46,
     "metadata": {},
     "output_type": "execute_result"
    }
   ],
   "source": [
    "len(text)"
   ]
  },
  {
   "cell_type": "code",
   "execution_count": 54,
   "id": "1bc0a2e0-d588-4da9-8f8e-873581957b27",
   "metadata": {},
   "outputs": [],
   "source": [
    "text = \"Pakistan\"\n",
    "#       01234567\n",
    "#       -8-7-6-5-4-3-2-1"
   ]
  },
  {
   "cell_type": "code",
   "execution_count": 55,
   "id": "aad763c7-3565-4b76-88f8-50a132d616bc",
   "metadata": {},
   "outputs": [
    {
     "data": {
      "text/plain": [
       "'P'"
      ]
     },
     "execution_count": 55,
     "metadata": {},
     "output_type": "execute_result"
    }
   ],
   "source": [
    "# indexiing brakcect are use for indexing \n",
    "\n",
    "text[0]"
   ]
  },
  {
   "cell_type": "code",
   "execution_count": 59,
   "id": "e2d42463-cb6d-417f-830a-8c3c36b0e9fa",
   "metadata": {},
   "outputs": [
    {
     "data": {
      "text/plain": [
       "'k'"
      ]
     },
     "execution_count": 59,
     "metadata": {},
     "output_type": "execute_result"
    }
   ],
   "source": [
    "text[2]"
   ]
  },
  {
   "cell_type": "code",
   "execution_count": 61,
   "id": "f88bc3e4-9ccd-468f-b756-ecf659ac072b",
   "metadata": {},
   "outputs": [
    {
     "data": {
      "text/plain": [
       "'P'"
      ]
     },
     "execution_count": 61,
     "metadata": {},
     "output_type": "execute_result"
    }
   ],
   "source": [
    "text[-8]"
   ]
  },
  {
   "cell_type": "markdown",
   "id": "32fb63c3-8493-44da-be1e-8ae94624c96a",
   "metadata": {},
   "source": [
    "# Slicing #sub string"
   ]
  },
  {
   "cell_type": "code",
   "execution_count": 62,
   "id": "106e2069-3aa8-441b-88d1-621935d97c7f",
   "metadata": {},
   "outputs": [],
   "source": [
    "text = \"tum ho mere jan jahah me ho tera dewana\""
   ]
  },
  {
   "cell_type": "code",
   "execution_count": 66,
   "id": "97849bcc-f399-4b91-9a89-610891f0d8df",
   "metadata": {},
   "outputs": [
    {
     "data": {
      "text/plain": [
       "'tum ho mere'"
      ]
     },
     "execution_count": 66,
     "metadata": {},
     "output_type": "execute_result"
    }
   ],
   "source": [
    "# slice is return a copy of the string\n",
    "text[0:11] # [ start : end :step] by deafult is one step"
   ]
  },
  {
   "cell_type": "code",
   "execution_count": 67,
   "id": "67186ef0-3b50-418c-ad2f-9d29c63fcc83",
   "metadata": {},
   "outputs": [
    {
     "data": {
      "text/plain": [
       "'o mere j'"
      ]
     },
     "execution_count": 67,
     "metadata": {},
     "output_type": "execute_result"
    }
   ],
   "source": [
    "text[5:13]"
   ]
  },
  {
   "cell_type": "code",
   "execution_count": 68,
   "id": "5b763f13-841d-438a-9765-113ae8b67dd4",
   "metadata": {},
   "outputs": [],
   "source": [
    "country = \"Pakistan\""
   ]
  },
  {
   "cell_type": "code",
   "execution_count": 71,
   "id": "aeb3e794-40e1-4bde-a885-a57cb62b5581",
   "metadata": {},
   "outputs": [
    {
     "data": {
      "text/plain": [
       "'Pksa'"
      ]
     },
     "execution_count": 71,
     "metadata": {},
     "output_type": "execute_result"
    }
   ],
   "source": [
    "# when we right the step it can do step by step \n",
    "country[0:7:2]"
   ]
  },
  {
   "cell_type": "markdown",
   "id": "45dce41e-0f99-4f26-829f-ae78b68c8fca",
   "metadata": {},
   "source": [
    "# Topic: print() exercise"
   ]
  },
  {
   "cell_type": "code",
   "execution_count": 72,
   "id": "24269b73-fb9a-4467-9d13-af978db0fa59",
   "metadata": {},
   "outputs": [
    {
     "name": "stdout",
     "output_type": "stream",
     "text": [
      "Pakistan 23 True 23.3\n"
     ]
    }
   ],
   "source": [
    "print(\"Pakistan\",23,True, 23.3)"
   ]
  },
  {
   "cell_type": "code",
   "execution_count": 74,
   "id": "2b7e661c-3328-4200-b718-cc152b8e1ffc",
   "metadata": {},
   "outputs": [
    {
     "name": "stdout",
     "output_type": "stream",
     "text": [
      "Pakistan-23-True-23.3\n"
     ]
    }
   ],
   "source": [
    "print(\"Pakistan\",23,True, 23.3 ,sep=\"-\")"
   ]
  },
  {
   "cell_type": "code",
   "execution_count": 75,
   "id": "7ace07ce-f1a0-44c1-b4c6-abfd01ddde59",
   "metadata": {},
   "outputs": [
    {
     "name": "stdout",
     "output_type": "stream",
     "text": [
      "Pakistan12True34.5\n"
     ]
    }
   ],
   "source": [
    "print(\"Pakistan\" , end=\" \")\n",
    "print(12 ,end=\" \")\n",
    "print(True,end=\" \")\n",
    "print(34.5)"
   ]
  },
  {
   "cell_type": "code",
   "execution_count": 76,
   "id": "daafb6a9-fe5d-4dcb-8c44-9ff190ba4dea",
   "metadata": {},
   "outputs": [
    {
     "name": "stdout",
     "output_type": "stream",
     "text": [
      "\n"
     ]
    }
   ],
   "source": [
    "print()"
   ]
  },
  {
   "cell_type": "code",
   "execution_count": 77,
   "id": "db22a2f0-5c02-4a2b-bc65-05c03416ae31",
   "metadata": {},
   "outputs": [],
   "source": [
    "friend_name = \"Ahmad\"\n",
    "age  = 30\n",
    "profession = \"Laswer\"\n",
    "qualification = \"bacler in law\"\n",
    "graduation_year = 2005\n",
    "firm_name = \"the himalya associatioes \"\n",
    "joining_date = 2015\n",
    "height_ft = 5.1\n",
    "weight_g = 70600\n",
    "montley_income = 200000"
   ]
  },
  {
   "cell_type": "code",
   "execution_count": 78,
   "id": "5876cd57-bef7-4d9f-8b1b-a45de0a5102a",
   "metadata": {},
   "outputs": [
    {
     "name": "stdout",
     "output_type": "stream",
     "text": [
      "My friend Ahmad has been 19 years\n"
     ]
    }
   ],
   "source": [
    "current_year = 2024\n",
    "years_after_bacholer = current_year - graduation_year\n",
    "\n",
    "print(f\"My friend {friend_name} has been {years_after_bacholer} years\")"
   ]
  },
  {
   "cell_type": "code",
   "execution_count": 79,
   "id": "6e235de1-992b-4315-b396-497feff9a3ee",
   "metadata": {},
   "outputs": [
    {
     "data": {
      "text/plain": [
       "9"
      ]
     },
     "execution_count": 79,
     "metadata": {},
     "output_type": "execute_result"
    }
   ],
   "source": [
    "exp_at_law_firm = current_year- joining_date\n",
    "exp_at_law_firm"
   ]
  },
  {
   "cell_type": "code",
   "execution_count": 86,
   "id": "59f75e4c-43ad-4fff-b961-82e79d401cfe",
   "metadata": {},
   "outputs": [
    {
     "name": "stdout",
     "output_type": "stream",
     "text": [
      "714\n"
     ]
    }
   ],
   "source": [
    "income_doloars  = montley_income / 280\n",
    "print(income_doloars)"
   ]
  },
  {
   "cell_type": "code",
   "execution_count": 89,
   "id": "7aee1ef7-a640-4023-9f7b-d120b00e3e5d",
   "metadata": {},
   "outputs": [
    {
     "data": {
      "text/plain": [
       "'714 dollers'"
      ]
     },
     "execution_count": 89,
     "metadata": {},
     "output_type": "execute_result"
    }
   ],
   "source": [
    "income_doloars  = montley_income / 280\n",
    "f\"{int(income_doloars)} dollers\""
   ]
  },
  {
   "cell_type": "code",
   "execution_count": 88,
   "id": "82e62a9f-80dd-49b9-bb7f-a62d0c3bea33",
   "metadata": {},
   "outputs": [
    {
     "name": "stdout",
     "output_type": "stream",
     "text": [
      "714\n"
     ]
    }
   ],
   "source": [
    "#we can also do like that\n",
    "income_doloars  = montley_income // 280\n",
    "print(int(income_doloars)) "
   ]
  },
  {
   "cell_type": "code",
   "execution_count": 94,
   "id": "fdc47c2e-4b50-476a-b1ba-044587e70ad6",
   "metadata": {},
   "outputs": [
    {
     "name": "stdout",
     "output_type": "stream",
     "text": [
      "Mr Ahmad weight type is <class 'int'>\n",
      "Mr Ahmad weight in kg is 70\n",
      "Mr Ahmad weight in kg is <class 'int'>\n"
     ]
    }
   ],
   "source": [
    "print(f\"Mr Ahmad weight type is {type(weight_g)}\")\n",
    "weight_kg = weight_g //1000\n",
    "print(f\"Mr Ahmad weight in kg is {weight_kg}\")\n",
    "print(f\"Mr Ahmad weight in kg is {type(int(weight_kg))}\")\n"
   ]
  },
  {
   "cell_type": "code",
   "execution_count": 95,
   "id": "578684dc-f13c-4ac7-88a3-990c3d5a47f8",
   "metadata": {},
   "outputs": [
    {
     "data": {
      "text/plain": [
       "4"
      ]
     },
     "execution_count": 95,
     "metadata": {},
     "output_type": "execute_result"
    }
   ],
   "source": [
    "100%6"
   ]
  },
  {
   "cell_type": "code",
   "execution_count": 96,
   "id": "96228744-f17d-43ef-824b-eed1ed96766e",
   "metadata": {},
   "outputs": [
    {
     "data": {
      "text/plain": [
       "1994"
      ]
     },
     "execution_count": 96,
     "metadata": {},
     "output_type": "execute_result"
    }
   ],
   "source": [
    "birth_date = current_year - age\n",
    "birth_date"
   ]
  },
  {
   "cell_type": "markdown",
   "id": "6b4e1c46-099b-4d4b-a8b9-63c8bb4c782d",
   "metadata": {},
   "source": [
    "# python collections// data strctures \n",
    "#string \n",
    "#List \n",
    "#Tuple \n",
    "#Dictionary\n",
    "#set"
   ]
  },
  {
   "cell_type": "code",
   "execution_count": 99,
   "id": "5985dce0-999f-43d4-8617-bae0a4247946",
   "metadata": {},
   "outputs": [],
   "source": [
    "student = \"Ahmad\""
   ]
  },
  {
   "cell_type": "markdown",
   "id": "24eba293-6bbb-42e0-b0a2-a40cbb6bda81",
   "metadata": {},
   "source": [
    "# List \n",
    "    '''\n",
    "    - []\n",
    "    - many values \n",
    "    - many type values \n",
    "    - mutable \n",
    "    - index\n",
    "    - slice \n",
    "    - copy\n",
    "    '''"
   ]
  },
  {
   "cell_type": "code",
   "execution_count": 102,
   "id": "cb3355bb-b8ab-4f8f-bdbb-d2637a05908d",
   "metadata": {},
   "outputs": [],
   "source": [
    "#             0     1       2             3            4      5        6          7\n",
    "students = [\"Ali\",\"basit\",\"sanaullah\", \"imran khan\", \"asif\",\"pagal\",\"ampabe \",\"babaer azam\"]\n",
    "#             -8     -7       -6          -5           -4     -3        -2            -1     "
   ]
  },
  {
   "cell_type": "code",
   "execution_count": 103,
   "id": "cba787db-2ddc-46f7-9728-660159bbc6b0",
   "metadata": {},
   "outputs": [
    {
     "name": "stdout",
     "output_type": "stream",
     "text": [
      "<class 'list'>\n"
     ]
    }
   ],
   "source": [
    "print(type(students))"
   ]
  },
  {
   "cell_type": "code",
   "execution_count": 104,
   "id": "41453c0b-be20-481e-ae8d-c312ff71d9be",
   "metadata": {},
   "outputs": [
    {
     "data": {
      "text/plain": [
       "'basit'"
      ]
     },
     "execution_count": 104,
     "metadata": {},
     "output_type": "execute_result"
    }
   ],
   "source": [
    "students[1]"
   ]
  },
  {
   "cell_type": "code",
   "execution_count": 105,
   "id": "170e869e-c23b-45f7-be8f-9789bf178b13",
   "metadata": {},
   "outputs": [
    {
     "data": {
      "text/plain": [
       "'asif'"
      ]
     },
     "execution_count": 105,
     "metadata": {},
     "output_type": "execute_result"
    }
   ],
   "source": [
    "students[4]"
   ]
  },
  {
   "cell_type": "code",
   "execution_count": 106,
   "id": "85bca017-05a8-496d-9c9c-001dd389a6bf",
   "metadata": {},
   "outputs": [
    {
     "data": {
      "text/plain": [
       "'babaer azam'"
      ]
     },
     "execution_count": 106,
     "metadata": {},
     "output_type": "execute_result"
    }
   ],
   "source": [
    "students[-1]"
   ]
  },
  {
   "cell_type": "code",
   "execution_count": 107,
   "id": "1772359f-95e9-4830-9779-fa6f375595bf",
   "metadata": {},
   "outputs": [
    {
     "data": {
      "text/plain": [
       "'pagal'"
      ]
     },
     "execution_count": 107,
     "metadata": {},
     "output_type": "execute_result"
    }
   ],
   "source": [
    "students[-3]"
   ]
  },
  {
   "cell_type": "code",
   "execution_count": null,
   "id": "8ce06760-53ea-4348-a226-009bc7d7b24e",
   "metadata": {},
   "outputs": [],
   "source": []
  }
 ],
 "metadata": {
  "kernelspec": {
   "display_name": "Python 3 (ipykernel)",
   "language": "python",
   "name": "python3"
  },
  "language_info": {
   "codemirror_mode": {
    "name": "ipython",
    "version": 3
   },
   "file_extension": ".py",
   "mimetype": "text/x-python",
   "name": "python",
   "nbconvert_exporter": "python",
   "pygments_lexer": "ipython3",
   "version": "3.12.7"
  },
  "panel-cell-order": [
   "f94bfd62-583c-4077-907c-d38b2856cba2"
  ]
 },
 "nbformat": 4,
 "nbformat_minor": 5
}
