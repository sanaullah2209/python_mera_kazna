{
 "cells": [
  {
   "cell_type": "markdown",
   "id": "c8b9bfa7-f476-4f79-a99b-37c5ca9d976c",
   "metadata": {},
   "source": [
    "# while loop "
   ]
  },
  {
   "cell_type": "code",
   "execution_count": 4,
   "id": "75203ad1-d8b1-4a5e-be5d-82ccd1737b49",
   "metadata": {},
   "outputs": [
    {
     "data": {
      "text/plain": [
       "[1, 4, 9, 16, 25, 36, 49, 64, 81, 100]"
      ]
     },
     "execution_count": 4,
     "metadata": {},
     "output_type": "execute_result"
    }
   ],
   "source": [
    "squard_alist = []\n",
    "alist = [1,2,3,4,5,6,7,8,9,10]\n",
    "\n",
    "#usinf for loop \n",
    "for i in alist:\n",
    "    squard_alist.append(i**2)\n",
    "squard_alist"
   ]
  },
  {
   "cell_type": "code",
   "execution_count": 5,
   "id": "0af366d8-ddef-49dc-b263-4f9190514d22",
   "metadata": {},
   "outputs": [
    {
     "data": {
      "text/plain": [
       "[1, 4, 9, 16, 25, 36, 49, 64, 81, 100, 121]"
      ]
     },
     "execution_count": 5,
     "metadata": {},
     "output_type": "execute_result"
    }
   ],
   "source": [
    "squard_alist = []\n",
    "alist = [1,2,3,4,5,6,7,8,9,10,11]\n",
    "\n",
    "a = 0\n",
    "#using while \n",
    "while a<len(alist):\n",
    "  squard_alist.append(alist[a]**2)\n",
    "  a+=1\n",
    "\n",
    "squard_alist\n",
    "\n"
   ]
  },
  {
   "cell_type": "code",
   "execution_count": 2,
   "id": "6c763443-df57-4123-9344-ec6661005c44",
   "metadata": {},
   "outputs": [
    {
     "name": "stdin",
     "output_type": "stream",
     "text": [
      "Favrote food: press q to quiet q\n",
      "Favrote food: press q to quiet w\n",
      "Favrote food: press q to quiet e\n",
      "Favrote food: press q to quiet w\n",
      "Favrote food: press q to quiet w\n"
     ]
    },
    {
     "ename": "SyntaxError",
     "evalue": "'break' outside loop (780381251.py, line 5)",
     "output_type": "error",
     "traceback": [
      "\u001b[1;36m  Cell \u001b[1;32mIn[2], line 5\u001b[1;36m\u001b[0m\n\u001b[1;33m    break\u001b[0m\n\u001b[1;37m    ^\u001b[0m\n\u001b[1;31mSyntaxError\u001b[0m\u001b[1;31m:\u001b[0m 'break' outside loop\n"
     ]
    }
   ],
   "source": [
    "favourate_food = []\n",
    "\n",
    "for i in range(5):\n",
    "    ff = input(\"this is my friend here when some one press q then terminate this\")\n",
    "    if ff.lower() == \"q\":\n",
    "     break\n",
    "    else:\n",
    "     favourate_food.append(ff)\n",
    "favourate_food\n",
    "    "
   ]
  },
  {
   "cell_type": "code",
   "execution_count": 9,
   "id": "13bd2604-426e-4902-a5b9-2c006e407100",
   "metadata": {},
   "outputs": [
    {
     "name": "stdin",
     "output_type": "stream",
     "text": [
      "this is my friend here when some one press q then terminate this dd\n",
      "this is my friend here when some one press q then terminate this d\n",
      "this is my friend here when some one press q then terminate this d\n",
      "this is my friend here when some one press q then terminate this d\n",
      "this is my friend here when some one press q then terminate this d\n"
     ]
    },
    {
     "data": {
      "text/plain": [
       "['dd', 'd', 'd', 'd', 'd']"
      ]
     },
     "execution_count": 9,
     "metadata": {},
     "output_type": "execute_result"
    }
   ],
   "source": [
    "favourate_food = []\n",
    "\n",
    "for i in range(5):\n",
    "    ff = input(\"this is my friend here when some one press q then terminatse this\")\n",
    "    if ff.lower() == \"q\":\n",
    "     break\n",
    "    else:\n",
    "     favourate_food.append(ff)\n",
    "favourate_food\n",
    "    "
   ]
  },
  {
   "cell_type": "code",
   "execution_count": 14,
   "id": "254b6962-1856-4f80-897f-a9933d8845ff",
   "metadata": {},
   "outputs": [
    {
     "name": "stdin",
     "output_type": "stream",
     "text": [
      "favorite food  san\n",
      "favorite food  fjdfds\n",
      "favorite food  ee\n",
      "favorite food  dd\n",
      "favorite food  ff\n",
      "favorite food  dd\n",
      "favorite food  d\n",
      "favorite food  d\n",
      "favorite food  \n",
      "favorite food  d\n",
      "favorite food  f\n",
      "favorite food  d\n",
      "favorite food  f\n",
      "favorite food  d\n",
      "favorite food  f\n",
      "favorite food  d\n",
      "favorite food  q\n"
     ]
    },
    {
     "data": {
      "text/plain": [
       "['san',\n",
       " 'fjdfds',\n",
       " 'ee',\n",
       " 'dd',\n",
       " 'ff',\n",
       " 'dd',\n",
       " 'd',\n",
       " 'd',\n",
       " '',\n",
       " 'd',\n",
       " 'f',\n",
       " 'd',\n",
       " 'f',\n",
       " 'd',\n",
       " 'f',\n",
       " 'd']"
      ]
     },
     "execution_count": 14,
     "metadata": {},
     "output_type": "execute_result"
    }
   ],
   "source": [
    "favourite_food = []\n",
    "a = 0\n",
    "flag = True\n",
    "while flag:\n",
    "    ff = input(\"favorite food \")\n",
    "    if ff == \"q\":\n",
    "        flag= False\n",
    "    else:\n",
    "        favourite_food.append(ff)\n",
    "favourite_food"
   ]
  },
  {
   "cell_type": "markdown",
   "id": "be1eebce-1502-447a-abe7-87b8435157e4",
   "metadata": {},
   "source": [
    "# Functions"
   ]
  },
  {
   "cell_type": "markdown",
   "id": "cce3dd13-1c97-471f-8c2e-b11e910e6f69",
   "metadata": {
    "jupyter": {
     "source_hidden": true
    }
   },
   "source": [
    "# muje repateted code na lekna pare is leye muje function use karne chaye"
   ]
  },
  {
   "cell_type": "markdown",
   "id": "760d4a50-fca7-48e3-a3b0-afcdbc1fb82d",
   "metadata": {},
   "source": [
    "# add differnend location they can work"
   ]
  },
  {
   "cell_type": "markdown",
   "id": "dd86c089-fb2f-463e-b0b3-2e98cd163913",
   "metadata": {},
   "source": [
    "# open function \n",
    "           - Open functions >> print ,type input ,len,range,id,\n",
    "           - class functions list ki function diconary ki function set ki function diconary ki funciton ,string ki funciton \n",
    "           - hum abe jo parne user defined function:\n",
    "           -any instence of code ap function ko call kar sakte ha \n",
    "           "
   ]
  },
  {
   "cell_type": "code",
   "execution_count": 22,
   "id": "aedcd13f-61bc-4426-829b-5233757bf456",
   "metadata": {},
   "outputs": [],
   "source": [
    "#def for defeneation \n",
    "\n",
    "#def function_name()\n",
    "def greeteveryone():\n",
    "    print(\"Welcome!\")"
   ]
  },
  {
   "cell_type": "code",
   "execution_count": 24,
   "id": "64075f1b-acad-4206-99d7-727be78a491c",
   "metadata": {},
   "outputs": [
    {
     "name": "stdout",
     "output_type": "stream",
     "text": [
      "Welcome!\n"
     ]
    }
   ],
   "source": [
    "greeteveryone()"
   ]
  },
  {
   "cell_type": "code",
   "execution_count": 25,
   "id": "58593634-a209-41e0-99ae-e5bd219ca73c",
   "metadata": {},
   "outputs": [
    {
     "name": "stdout",
     "output_type": "stream",
     "text": [
      "Welcome!\n"
     ]
    }
   ],
   "source": [
    "greeteveryone()"
   ]
  },
  {
   "cell_type": "code",
   "execution_count": 26,
   "id": "7542ac6b-ef9b-46e4-9fab-186973d6d6a8",
   "metadata": {},
   "outputs": [],
   "source": [
    "def add():\n",
    "    a = 10 \n",
    "    b = 20\n",
    "    print(a+b)"
   ]
  },
  {
   "cell_type": "code",
   "execution_count": 27,
   "id": "8a5af8e7-6e20-4fd0-9494-50f27ab0e8d1",
   "metadata": {},
   "outputs": [
    {
     "name": "stdout",
     "output_type": "stream",
     "text": [
      "30\n"
     ]
    }
   ],
   "source": [
    "add()"
   ]
  },
  {
   "cell_type": "code",
   "execution_count": 40,
   "id": "1ae75f44-dc42-490a-9695-f81c2dea6975",
   "metadata": {},
   "outputs": [],
   "source": [
    "#parameter less function \n",
    "#def add():\n",
    " #   a = 10 \n",
    "   # b = 20\n",
    "   # print(a+b)\n",
    "#--------------------------------------####\n",
    "#parameterised function \n",
    "def happy(name): ##paramter kahate ha ise \n",
    "    print(f\"Welcome Mr.{name}!\")\n"
   ]
  },
  {
   "cell_type": "code",
   "execution_count": 52,
   "id": "ababddf1-f5ab-4063-8a46-ea8ea71c9eb0",
   "metadata": {},
   "outputs": [
    {
     "name": "stdout",
     "output_type": "stream",
     "text": [
      "Welcome Mr.bilal!\n"
     ]
    }
   ],
   "source": [
    "happy('bilal')#ya arguement kalyte jo value hum dete ha use arguement kahte ha "
   ]
  },
  {
   "cell_type": "code",
   "execution_count": 34,
   "id": "db152a87-6e2f-4c3d-a503-1856509b26d2",
   "metadata": {},
   "outputs": [],
   "source": [
    "def add(a,b):\n",
    "    print(a+b)\n",
    "    "
   ]
  },
  {
   "cell_type": "code",
   "execution_count": 35,
   "id": "268381e6-bb0f-40f7-8531-4450b813ebf8",
   "metadata": {},
   "outputs": [
    {
     "name": "stdout",
     "output_type": "stream",
     "text": [
      "6\n"
     ]
    }
   ],
   "source": [
    "add(2,4)"
   ]
  },
  {
   "cell_type": "code",
   "execution_count": 36,
   "id": "708dcde1-a9fd-40d3-811a-63f91ec1dba5",
   "metadata": {},
   "outputs": [
    {
     "name": "stdout",
     "output_type": "stream",
     "text": [
      "sanakhan\n"
     ]
    }
   ],
   "source": [
    "add(\"sana\",\"khan\")"
   ]
  },
  {
   "cell_type": "code",
   "execution_count": 42,
   "id": "f7814944-48cf-45be-a6aa-ad2aa5c33c88",
   "metadata": {},
   "outputs": [
    {
     "ename": "SyntaxError",
     "evalue": "parameter without a default follows parameter with a default (3231295146.py, line 1)",
     "output_type": "error",
     "traceback": [
      "\u001b[1;36m  Cell \u001b[1;32mIn[42], line 1\u001b[1;36m\u001b[0m\n\u001b[1;33m    def add(a,b,c=100,b) #default vlaue  default value last ma hi ayenge darmayne ma nahi askte\u001b[0m\n\u001b[1;37m                      ^\u001b[0m\n\u001b[1;31mSyntaxError\u001b[0m\u001b[1;31m:\u001b[0m parameter without a default follows parameter with a default\n"
     ]
    }
   ],
   "source": [
    "def add(a,b,c=100,b) #default vlaue  default value last ma hi ayenge darmayne ma nahi askte \n"
   ]
  },
  {
   "cell_type": "code",
   "execution_count": 44,
   "id": "957ccee9-f400-4d0d-a432-f13fa1285059",
   "metadata": {},
   "outputs": [],
   "source": [
    "def add(a,b,d,c=100):\n",
    "    print(a+b+c+d)"
   ]
  },
  {
   "cell_type": "code",
   "execution_count": 45,
   "id": "806172cf-eb3b-4ca7-a13a-24c27fe177eb",
   "metadata": {},
   "outputs": [
    {
     "name": "stdout",
     "output_type": "stream",
     "text": [
      "132\n"
     ]
    }
   ],
   "source": [
    "add(22,33,44,33)"
   ]
  },
  {
   "cell_type": "code",
   "execution_count": 46,
   "id": "d7d17788-64fe-42e1-9309-3bdc49f7ea39",
   "metadata": {},
   "outputs": [
    {
     "name": "stdout",
     "output_type": "stream",
     "text": [
      "232\n"
     ]
    }
   ],
   "source": [
    "add(44,55,33)"
   ]
  },
  {
   "cell_type": "code",
   "execution_count": 47,
   "id": "53dd7c2f-0943-4d5c-8c0c-fda0e72b95d4",
   "metadata": {},
   "outputs": [],
   "source": [
    "def add(a=0,b=8,d=0,c=100): #default value \n",
    "    print(a+b+c+d)"
   ]
  },
  {
   "cell_type": "code",
   "execution_count": 48,
   "id": "10229ced-09b9-4b34-a997-7897975e999a",
   "metadata": {},
   "outputs": [
    {
     "name": "stdout",
     "output_type": "stream",
     "text": [
      "109\n"
     ]
    }
   ],
   "source": [
    "add(2,3,4)"
   ]
  },
  {
   "cell_type": "markdown",
   "id": "db710825-fc67-479e-ad85-13aa0e20743e",
   "metadata": {},
   "source": [
    "# keyword argueent"
   ]
  },
  {
   "cell_type": "code",
   "execution_count": 49,
   "id": "90e1b885-7fc2-4640-9450-684a5b117a46",
   "metadata": {},
   "outputs": [],
   "source": [
    "def generate_profile(name,age,qual,prof,geneder):\n",
    "    profile = {'name':name,'age':age,'qualification':qual,'profeession':prof,'gender':geneder}\n",
    "    print(profile)\n",
    " #   profile['name'] = name \n",
    "  #  profile['age'] = age \n",
    "   # profile['qualifictaion'] = qual\n",
    "    #profile\n",
    "    \n",
    "    "
   ]
  },
  {
   "cell_type": "code",
   "execution_count": 50,
   "id": "4115f1d2-31fd-4829-ac1b-5106dc3dd511",
   "metadata": {},
   "outputs": [
    {
     "name": "stdout",
     "output_type": "stream",
     "text": [
      "{'name': 'sabhaa', 'age': '23', 'qualification': 'Mbbs', 'profeession': 'docotor', 'gender': 'male'}\n"
     ]
    }
   ],
   "source": [
    "generate_profile(age='23',prof=\"docotor\",geneder=\"male\",name=\"sabhaa\",qual=\"Mbbs\")"
   ]
  },
  {
   "cell_type": "code",
   "execution_count": 51,
   "id": "0fcad387-c2ed-4f7f-ad12-a77577424af4",
   "metadata": {},
   "outputs": [
    {
     "ename": "TypeError",
     "evalue": "generate_profile() got multiple values for argument 'age'",
     "output_type": "error",
     "traceback": [
      "\u001b[1;31m---------------------------------------------------------------------------\u001b[0m",
      "\u001b[1;31mTypeError\u001b[0m                                 Traceback (most recent call last)",
      "Cell \u001b[1;32mIn[51], line 1\u001b[0m\n\u001b[1;32m----> 1\u001b[0m generate_profile(\u001b[38;5;124m'\u001b[39m\u001b[38;5;124mbilal\u001b[39m\u001b[38;5;124m'\u001b[39m,\u001b[38;5;124m\"\u001b[39m\u001b[38;5;124mMatric\u001b[39m\u001b[38;5;124m\"\u001b[39m,\u001b[38;5;124m'\u001b[39m\u001b[38;5;124mpython developer\u001b[39m\u001b[38;5;124m'\u001b[39m, geneder\u001b[38;5;241m=\u001b[39m\u001b[38;5;124m\"\u001b[39m\u001b[38;5;124mmale\u001b[39m\u001b[38;5;124m\"\u001b[39m,age\u001b[38;5;241m=\u001b[39m\u001b[38;5;241m22\u001b[39m)\n",
      "\u001b[1;31mTypeError\u001b[0m: generate_profile() got multiple values for argument 'age'"
     ]
    }
   ],
   "source": [
    "generate_profile('bilal',\"Matric\",'python developer', geneder=\"male\",age=22) #hemesah ya argement last ma ayenge "
   ]
  },
  {
   "cell_type": "markdown",
   "id": "bc5d1aae-52d4-44bc-ba7b-ca9929b81910",
   "metadata": {},
   "source": [
    "#Arbitray arugement "
   ]
  },
  {
   "cell_type": "code",
   "execution_count": 58,
   "id": "40d82ca4-281c-4e32-93ff-0586be1d1259",
   "metadata": {},
   "outputs": [],
   "source": [
    "def add(a,b=0, *other):\n",
    "    print(a+b+sum(other))\n",
    "    "
   ]
  },
  {
   "cell_type": "code",
   "execution_count": 59,
   "id": "7c38152f-eee8-47ad-bb7a-dca05088d12b",
   "metadata": {},
   "outputs": [
    {
     "name": "stdout",
     "output_type": "stream",
     "text": [
      "1\n"
     ]
    }
   ],
   "source": [
    "add(1)"
   ]
  },
  {
   "cell_type": "code",
   "execution_count": 60,
   "id": "120e8abb-c7b1-498c-b31a-847eecd62d59",
   "metadata": {},
   "outputs": [
    {
     "name": "stdout",
     "output_type": "stream",
     "text": [
      "135\n"
     ]
    }
   ],
   "source": [
    "add(1,3,4,4,5,6,5,65,5,34,3,)"
   ]
  },
  {
   "cell_type": "code",
   "execution_count": 79,
   "id": "b72fe92f-038f-4514-99d0-cf77551b87d3",
   "metadata": {},
   "outputs": [],
   "source": [
    "## ** take who diconaray bana ki save kare agar hum ake star lagyenge to who use tuple ma store kare ga \n",
    "\n",
    "def profile_builder(name,age,gualification,income,**other_info):\n",
    " profile = {}\n",
    " profile['name']= name\n",
    " profile['age']= age\n",
    " profile['gualification']= gualification\n",
    " profile['income']= income\n",
    " profile['city' ] = other_info['city']\n",
    " profile.update(other_info)\n",
    "\n",
    " print(profile)\n"
   ]
  },
  {
   "cell_type": "code",
   "execution_count": 80,
   "id": "6fc6610d-2b76-42ed-b174-a79cacc00a06",
   "metadata": {},
   "outputs": [
    {
     "name": "stdout",
     "output_type": "stream",
     "text": [
      "{'name': 'arish', 'age': 24, 'gualification': 'graduate', 'income': 5000, 'city': 'karachi', 'hegiht': '4.6', 'complexion': 'fair', 'proffession': 'datascienteist'}\n"
     ]
    }
   ],
   "source": [
    "profile_builder('arish',24,'graduate',5000,city='karachi',hegiht='4.6',complexion='fair',proffession='datascienteist')"
   ]
  },
  {
   "cell_type": "code",
   "execution_count": 81,
   "id": "47418c59-61dd-44b1-88e3-f32510eac698",
   "metadata": {},
   "outputs": [
    {
     "name": "stdout",
     "output_type": "stream",
     "text": [
      "{'name': 'arish', 'age': 24, 'gualification': 'graduate', 'income': 5000, 'city': 'karachi', 'hegiht': '4.6', 'complexion': 'fair', 'proffession': 'datascienteist'}\n"
     ]
    }
   ],
   "source": [
    "profile_builder('arish',24,'graduate',5000,city='karachi',hegiht='4.6',complexion='fair',proffession='datascienteist')"
   ]
  },
  {
   "cell_type": "code",
   "execution_count": null,
   "id": "496de818-e812-4d71-8ef1-cb5a67fd7f01",
   "metadata": {},
   "outputs": [],
   "source": []
  }
 ],
 "metadata": {
  "kernelspec": {
   "display_name": "Python 3 (ipykernel)",
   "language": "python",
   "name": "python3"
  },
  "language_info": {
   "codemirror_mode": {
    "name": "ipython",
    "version": 3
   },
   "file_extension": ".py",
   "mimetype": "text/x-python",
   "name": "python",
   "nbconvert_exporter": "python",
   "pygments_lexer": "ipython3",
   "version": "3.12.7"
  },
  "panel-cell-order": [
   "f94bfd62-583c-4077-907c-d38b2856cba2"
  ]
 },
 "nbformat": 4,
 "nbformat_minor": 5
}
