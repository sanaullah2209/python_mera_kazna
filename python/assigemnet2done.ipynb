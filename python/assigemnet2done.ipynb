{
 "cells": [
  {
   "cell_type": "code",
   "execution_count": 1,
   "id": "26a2e5a7-a0d0-47be-84ba-d9a5f3468442",
   "metadata": {},
   "outputs": [
    {
     "name": "stdin",
     "output_type": "stream",
     "text": [
      "enter the length 10\n",
      "enter the width 10\n"
     ]
    },
    {
     "name": "stdout",
     "output_type": "stream",
     "text": [
      "the totel are are 100\n"
     ]
    }
   ],
   "source": [
    "\n",
    "#1) Area of a Rectangle:\n",
    "#Write a Python program to calculate the area of a rectangle. Use the formula:\n",
    "length = int(input(\"enter the length\"))\n",
    "width = int(input(\"enter the width\"))\n",
    "area = length*width\n",
    "print(f\"the totel are are {area}\")"
   ]
  },
  {
   "cell_type": "code",
   "execution_count": 14,
   "id": "05dfbde0-8644-400b-9a50-48954c7b8f2c",
   "metadata": {},
   "outputs": [
    {
     "name": "stdin",
     "output_type": "stream",
     "text": [
      "enter the radius here 2\n"
     ]
    },
    {
     "name": "stdout",
     "output_type": "stream",
     "text": [
      ":circumference 12.56636\n"
     ]
    }
   ],
   "source": [
    "\n",
    "r = int(input(\"enter the radius here\"))\n",
    "π = 3.14159\n",
    "C = 2 * π * r\n",
    "print(f\":circumference {C}\")"
   ]
  },
  {
   "cell_type": "code",
   "execution_count": 1,
   "id": "b56c70a7-04a2-4362-b4f8-fb9e0f906834",
   "metadata": {},
   "outputs": [
    {
     "name": "stdin",
     "output_type": "stream",
     "text": [
      "enter the priciple 22\n",
      "enter the Rate 22\n",
      "enter the time 22\n"
     ]
    },
    {
     "data": {
      "text/plain": [
       "106.48"
      ]
     },
     "execution_count": 1,
     "metadata": {},
     "output_type": "execute_result"
    }
   ],
   "source": [
    "Principal = int(input(\"enter the priciple\"))\n",
    "Rate = int(input(\"enter the Rate\"))\n",
    "Time = int(input(\"enter the time\"))\n",
    "Simple_Interest = (Principal*Rate*Time)/100\n",
    "Simple_Interest"
   ]
  },
  {
   "cell_type": "code",
   "execution_count": 4,
   "id": "7320a3cc-923d-4859-829e-00dd5d442305",
   "metadata": {},
   "outputs": [
    {
     "name": "stdin",
     "output_type": "stream",
     "text": [
      "enter the distance  30\n",
      "enter how many Time you are do 6000\n"
     ]
    },
    {
     "data": {
      "text/plain": [
       "0.005"
      ]
     },
     "execution_count": 4,
     "metadata": {},
     "output_type": "execute_result"
    }
   ],
   "source": [
    "Distance = int(input(\"enter the distance \"))\n",
    "Time = int(input(\"enter how many Time you are do\"))\n",
    "Speed = Distance / Time\n",
    "Speed"
   ]
  },
  {
   "cell_type": "code",
   "execution_count": 8,
   "id": "310926bb-970e-4188-888d-7d4abdae6d36",
   "metadata": {},
   "outputs": [
    {
     "name": "stdin",
     "output_type": "stream",
     "text": [
      "give me the weight 22.2\n",
      "give me the height 30.3\n"
     ]
    },
    {
     "data": {
      "text/plain": [
       "0.024180635885370713"
      ]
     },
     "execution_count": 8,
     "metadata": {},
     "output_type": "execute_result"
    }
   ],
   "source": [
    "weight = float(input(\"give me the weight\"))\n",
    "height = float(input(\"give me the height\"))\n",
    "BMI = weight/(height **2)\n",
    "BMI"
   ]
  },
  {
   "cell_type": "code",
   "execution_count": 13,
   "id": "eced915b-92f1-43b1-8e3b-458fa308d6c3",
   "metadata": {},
   "outputs": [
    {
     "name": "stdin",
     "output_type": "stream",
     "text": [
      "enter the mass of object 22\n",
      "enter the accelration  of object 22\n"
     ]
    },
    {
     "data": {
      "text/plain": [
       "3.734567901234567e-08"
      ]
     },
     "execution_count": 13,
     "metadata": {},
     "output_type": "execute_result"
    }
   ],
   "source": [
    "m = float(input(\"enter the mass of object\"))\n",
    "a = float(input(\"enter the accelration  of object\"))\n",
    "F = (m/1000) * (a/3600**2)\n",
    "F"
   ]
  },
  {
   "cell_type": "code",
   "execution_count": 7,
   "id": "6dccf358-c428-4bc1-94d5-5f6e42b3f45b",
   "metadata": {},
   "outputs": [
    {
     "name": "stdin",
     "output_type": "stream",
     "text": [
      "Time of the years 2\n",
      "the principle amount  of object 2\n",
      "rate of intrest  of object 2\n",
      "number of year  of object 2\n"
     ]
    },
    {
     "name": "stdout",
     "output_type": "stream",
     "text": [
      "The total amount after 2.0 years is: 4.08\n"
     ]
    }
   ],
   "source": [
    "t = float(input(\"Time of the years\"))\n",
    "P = float(input(\"the principle amount  of object\"))\n",
    "r = float(input(\"rate of intrest  of object\"))/100\n",
    "n = float(input(\"number of year  of object\"))\n",
    "totelamount = P*(1+r/n)**n*t\n",
    "\n",
    "print(f\"The total amount after {t} years is: {totelamount:.2f}\")\n"
   ]
  },
  {
   "cell_type": "code",
   "execution_count": 33,
   "id": "bd13fe59-1b8a-48b8-876b-561fa83d12e7",
   "metadata": {},
   "outputs": [
    {
     "name": "stdin",
     "output_type": "stream",
     "text": [
      "enter the values 22 222 222\n"
     ]
    },
    {
     "name": "stdout",
     "output_type": "stream",
     "text": [
      "the 466\n"
     ]
    }
   ],
   "source": [
    "#8) Perimeter of a Triangle:\n",
    "#Write a Python program to calculate the perimeter of a triangle. Use the formula:\n",
    "\n",
    "a , b , c = map(int,input(\"enter the values\").split()) \n",
    "\n",
    "Perimeter  =  a + b + c\n",
    "\n",
    "print(f\"the {Perimeter}\")\n",
    "\n",
    "#Take a, b, and c (lengths of the three sides) as inputs from the user."
   ]
  },
  {
   "cell_type": "code",
   "execution_count": 39,
   "id": "57c5c0d9-a5b9-4429-a4ce-192a37967160",
   "metadata": {},
   "outputs": [
    {
     "name": "stdin",
     "output_type": "stream",
     "text": [
      "Volume of a Sphere 33.33\n"
     ]
    },
    {
     "name": "stdout",
     "output_type": "stream",
     "text": [
      "the 155093.7094935584\n"
     ]
    }
   ],
   "source": [
    "#9) Volume of a Sphere:\n",
    "#Write a Python program to calculate the volume of a sphere. Use the formula:\n",
    "\n",
    "radius = float(input(\"Volume of a Sphere\")) \n",
    "π = 3.14159\n",
    "\n",
    "Volume = (4/3)*π*radius**3\n",
    "\n",
    "print(f\"the {Volume}\")\n",
    "#Take r (radius) as input from the user."
   ]
  },
  {
   "cell_type": "code",
   "execution_count": 47,
   "id": "630c820f-aac8-43f5-bcf6-30f1b8c83097",
   "metadata": {},
   "outputs": [
    {
     "name": "stdin",
     "output_type": "stream",
     "text": [
      "enter the mass of the object 22\n",
      "Enter the Volum of the object 22\n"
     ]
    },
    {
     "name": "stdout",
     "output_type": "stream",
     "text": [
      "the 5324.0\n"
     ]
    }
   ],
   "source": [
    "# 10) Kinetic Energy:\n",
    "# Write a Python program to calculate the kinetic energy of an object. Use the formula:\n",
    "\n",
    "m = float(input(\"enter the mass of the object\")) \n",
    "V = float(input(\"Enter the Volum of the object\"))\n",
    "KE = (1/2)*m*V**2\n",
    "\n",
    "print(f\"the {KE}\")\n",
    "# Take m (mass in kilograms) and v (velocity in meters/second) as inputs from the user."
   ]
  },
  {
   "cell_type": "code",
   "execution_count": 59,
   "id": "0c07cd84-3fc1-4f53-9b99-e460c0858e61",
   "metadata": {},
   "outputs": [
    {
     "name": "stdin",
     "output_type": "stream",
     "text": [
      "enter the a 1\n",
      "enter the b -3\n",
      "enter the c 2\n"
     ]
    },
    {
     "name": "stdout",
     "output_type": "stream",
     "text": [
      "the 2.5, the3.5\n"
     ]
    }
   ],
   "source": [
    "a = int(input(\"enter the a\"))\n",
    "b = int(input(\"enter the b\"))\n",
    "c = int(input(\"enter the c\"))\n",
    "discriminant = b**2 - 4*a*c\n",
    "if discriminant >= 0:\n",
    "    x1 = (-b-(discriminant**0.5)/(2*a))\n",
    "    x2 = (-b+(discriminant**0.5)/(2*a))\n",
    "    print(f\"the {x1}, the{x2}\")\n",
    "else:\n",
    "    print(\"No real solutions exist (discriminant is negative).\")"
   ]
  },
  {
   "cell_type": "code",
   "execution_count": 71,
   "id": "81ede96d-bc4f-4c7f-a9d8-836da7328e6a",
   "metadata": {},
   "outputs": [
    {
     "name": "stdin",
     "output_type": "stream",
     "text": [
      "enter the C 33.3\n"
     ]
    },
    {
     "name": "stdout",
     "output_type": "stream",
     "text": [
      "F:65.3\n"
     ]
    }
   ],
   "source": [
    "C = float(input(\"enter the C\"))\n",
    "F = (9//5)*C+32\n",
    "print(f\"F:{F}\")"
   ]
  },
  {
   "cell_type": "code",
   "execution_count": 81,
   "id": "02670696-97fa-45c8-bdb3-6406a1e2715d",
   "metadata": {},
   "outputs": [
    {
     "name": "stdin",
     "output_type": "stream",
     "text": [
      "enter the m1 44\n",
      "enter the m2 44\n",
      "enter the radius 4\n"
     ]
    },
    {
     "name": "stdout",
     "output_type": "stream",
     "text": [
      "F:1210.0\n"
     ]
    }
   ],
   "source": [
    "m1 = float(input(\"enter the m1\"))\n",
    "m2 = float(input(\"enter the m2\"))\n",
    "r = float(input(\"enter the radius\"))\n",
    "G = 10\n",
    "F = G*m1*m2/r**2\n",
    "print(f\"F:{F}\")"
   ]
  },
  {
   "cell_type": "code",
   "execution_count": 89,
   "id": "87ebfa18-44f2-430a-9d4a-57a4d689058a",
   "metadata": {},
   "outputs": [
    {
     "name": "stdin",
     "output_type": "stream",
     "text": [
      "enter the radius 44\n",
      "enter the height 44\n"
     ]
    },
    {
     "name": "stdout",
     "output_type": "stream",
     "text": [
      "Volume:267613.20256\n"
     ]
    }
   ],
   "source": [
    "# 14) Volume of a Cylinder:\n",
    "# Write a Python program to calculate the volume of a cylinder. Use the formula:\n",
    "π = 3.14159\n",
    "r = float(input(\"enter the radius\"))\n",
    "h = float(input(\"enter the height\"))\n",
    "Volume = π*r**2*h\n",
    "print(f\"Volume:{Volume}\")\n",
    "# Take radius(r) and height(h) as inputs from the user"
   ]
  },
  {
   "cell_type": "code",
   "execution_count": 93,
   "id": "a39e2a5d-aa06-4c84-ad37-fb77cedd0637",
   "metadata": {},
   "outputs": [
    {
     "name": "stdin",
     "output_type": "stream",
     "text": [
      "enter the force 22\n",
      "enter the area 22\n"
     ]
    },
    {
     "name": "stdout",
     "output_type": "stream",
     "text": [
      "Pressure:1.0\n"
     ]
    }
   ],
   "source": [
    "# 15) Pressure:\n",
    "# Write a Python program to calculate the pressure exerted by a force on a surface. Use\n",
    "# the formula:\n",
    "\n",
    "F = float(input(\"enter the force\"))\n",
    "A =float(input(\"enter the area\"))\n",
    "P = F/A\n",
    "print(f\"Pressure:{P}\")\n",
    "\n",
    "# P = pressure\n",
    "# F = force\n",
    "# A = area\n",
    "# Take F(force) and A(area) as inputs from the user."
   ]
  },
  {
   "cell_type": "code",
   "execution_count": 97,
   "id": "ce63f006-2f70-4be2-a82a-fcc0f51f5b48",
   "metadata": {},
   "outputs": [
    {
     "name": "stdin",
     "output_type": "stream",
     "text": [
      "enter the voltage 66\n",
      "enter the current 66\n"
     ]
    },
    {
     "name": "stdout",
     "output_type": "stream",
     "text": [
      "4356.0\n"
     ]
    }
   ],
   "source": [
    "# 16) Electric Power:\n",
    "# Write a Python program to calculate the electric power consumed. Use the formula:\n",
    "\n",
    "# where:\n",
    "\n",
    "V = float(input(\"enter the voltage\"))\n",
    "I = float(input(\"enter the current\"))\n",
    "P = V*I\n",
    "print(P)\n",
    "\n",
    "# Take V(voltage) and I(current) as inputs from the user."
   ]
  },
  {
   "cell_type": "code",
   "execution_count": 101,
   "id": "355f1579-1804-446b-b464-48a553196d6c",
   "metadata": {},
   "outputs": [
    {
     "name": "stdin",
     "output_type": "stream",
     "text": [
      "enter the radius 22\n"
     ]
    },
    {
     "name": "stdout",
     "output_type": "stream",
     "text": [
      "138.22996\n"
     ]
    }
   ],
   "source": [
    "# 17) Perimeter of a Circle (Circumference):\n",
    "# Write a Python program to calculate the perimeter (circumference) of a circle. Use the\n",
    "# formula:\n",
    "\n",
    "r = float(input(\"enter the radius\"))\n",
    "π = 3.14159\n",
    "P = 2*π*r\n",
    "print(P)\n",
    "\n",
    "# Take r (radius) as input from the user."
   ]
  },
  {
   "cell_type": "code",
   "execution_count": 105,
   "id": "c6e4bc87-00cd-4c9f-a377-60bc57cef155",
   "metadata": {},
   "outputs": [
    {
     "name": "stdin",
     "output_type": "stream",
     "text": [
      "enter the pv 33\n",
      "enter the radius 333\n",
      "enter the t 44\n"
     ]
    },
    {
     "name": "stdout",
     "output_type": "stream",
     "text": [
      "3.6589668901190044e+112\n"
     ]
    }
   ],
   "source": [
    "# 18) Future Value in Savings:\n",
    "# Write a Python program to calculate the future value of an investment. Use the formula:\n",
    "\n",
    "\n",
    "PV = float(input(\"enter the pv\"))\n",
    "r = float(input(\"enter the radius\"))\n",
    "t = float(input(\"enter the t\"))\n",
    "FV = PV*(1+r)**t\n",
    "print(FV)\n",
    "# where:\n",
    "# o FV= future value\n",
    "# o PV= present value\n",
    "# o r= annual interest rate (as a decimal)\n",
    "# o t= time in years\n",
    "# Take PV, r, and t as inputs from the user."
   ]
  },
  {
   "cell_type": "code",
   "execution_count": 113,
   "id": "d8087647-94bf-4940-ac46-456d42a8d1ee",
   "metadata": {},
   "outputs": [
    {
     "name": "stdin",
     "output_type": "stream",
     "text": [
      "Enter the force applied (in newtons):  22\n",
      "Enter the displacement (in meters):  2\n",
      "Enter the angle between the force and displacement (in degrees):  2\n"
     ]
    },
    {
     "name": "stdout",
     "output_type": "stream",
     "text": [
      "The work done by the force is: 44.00 joules\n"
     ]
    }
   ],
   "source": [
    "# Take the force, displacement, and angle as inputs from the user\n",
    "F = float(input(\"Enter the force applied (in newtons): \"))\n",
    "d = float(input(\"Enter the displacement (in meters): \"))\n",
    "theta = float(input(\"Enter the angle between the force and displacement (in degrees): \"))\n",
    "\n",
    "# If the angle is 0 degrees, the force and displacement are in the same direction\n",
    "# In this case, we use the formula: W = F * d\n",
    "if theta == 0:\n",
    "    W = F * d\n",
    "else:\n",
    "   \n",
    "    W = F * d  # Can add a correction for the angle if needed\n",
    "\n",
    "# Display the result\n",
    "print(f\"The work done by the force is: {W:.2f} joules\")\n"
   ]
  },
  {
   "cell_type": "code",
   "execution_count": 125,
   "id": "8f20ff99-32b0-4ebd-a627-edbb9fe4e04b",
   "metadata": {},
   "outputs": [
    {
     "name": "stdin",
     "output_type": "stream",
     "text": [
      "Enter the mass (in kilograms):  22\n",
      "Enter the specific heat capacity (in joules/kg°C):  55\n",
      "Enter the temperature change (in °C):  55\n"
     ]
    },
    {
     "name": "stdout",
     "output_type": "stream",
     "text": [
      "The amount of heat transferred is: 66550.00 joules\n"
     ]
    }
   ],
   "source": [
    "# Take mass, specific heat capacity, and temperature change as inputs from the user\n",
    "m = float(input(\"Enter the mass (in kilograms): \"))\n",
    "c = float(input(\"Enter the specific heat capacity (in joules/kg°C): \"))\n",
    "delta_T = float(input(\"Enter the temperature change (in °C): \"))\n",
    "\n",
    "\n",
    "Q = m * c * delta_T\n",
    "\n",
    "# Display the result\n",
    "print(f\"The amount of heat transferred is: {Q:.2f} joules\")\n"
   ]
  },
  {
   "cell_type": "code",
   "execution_count": null,
   "id": "4590af77-f764-4e1d-ae26-2c8107d5f88a",
   "metadata": {},
   "outputs": [],
   "source": []
  }
 ],
 "metadata": {
  "kernelspec": {
   "display_name": "Python [conda env:base] *",
   "language": "python",
   "name": "conda-base-py"
  },
  "language_info": {
   "codemirror_mode": {
    "name": "ipython",
    "version": 3
   },
   "file_extension": ".py",
   "mimetype": "text/x-python",
   "name": "python",
   "nbconvert_exporter": "python",
   "pygments_lexer": "ipython3",
   "version": "3.12.7"
  },
  "panel-cell-order": [
   "f94bfd62-583c-4077-907c-d38b2856cba2"
  ]
 },
 "nbformat": 4,
 "nbformat_minor": 5
}
