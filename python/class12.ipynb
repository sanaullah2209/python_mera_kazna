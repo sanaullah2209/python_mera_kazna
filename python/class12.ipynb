{
 "cells": [
  {
   "cell_type": "code",
   "execution_count": 3,
   "id": "7026d142-c9cb-4f30-9838-d6f8b27bffa0",
   "metadata": {},
   "outputs": [
    {
     "name": "stdin",
     "output_type": "stream",
     "text": [
      "Base:  33\n",
      "Exponent:  3\n"
     ]
    },
    {
     "name": "stdout",
     "output_type": "stream",
     "text": [
      "33.0^3 = 35937.0\n"
     ]
    }
   ],
   "source": [
    "def calculate_expoenet(num,exp):\n",
    "    s = 1\n",
    "  for i in     "
   ]
  },
  {
   "cell_type": "markdown",
   "id": "80ca3dc1-c3f7-4964-9196-c4e75a1799a0",
   "metadata": {},
   "source": [
    "# File :Reading and writing text file i/o stream"
   ]
  },
  {
   "cell_type": "code",
   "execution_count": 20,
   "id": "0b041eac-8555-4f96-87cd-a8366a4bbb06",
   "metadata": {},
   "outputs": [
    {
     "name": "stdout",
     "output_type": "stream",
     "text": [
      "this is me bro sample file name are not define in the q\n",
      "this is me bro sample file name are not define in the q\n",
      "this is me bro sample file name are not define in the q\n"
     ]
    }
   ],
   "source": [
    "try:\n",
    "    f = open(\"sample.txt\",'r')\n",
    "    cont = f.read()\n",
    "    print(cont)\n",
    "except FileNotFoundError:\n",
    "    print(\"file was not created\")\n",
    "finally:\n",
    "    f.close()"
   ]
  },
  {
   "cell_type": "code",
   "execution_count": 18,
   "id": "25f234a7-18f5-4cea-b4b8-8f279a7bd1c5",
   "metadata": {},
   "outputs": [
    {
     "name": "stdout",
     "output_type": "stream",
     "text": [
      "55\n"
     ]
    }
   ],
   "source": [
    "try:\n",
    "    f = open(\"sample.txt\",'w')\n",
    "    cont = f.write(\"this is me bro sample file name are not define in the q\\n\")\n",
    "    cont = f.write(\"this is me bro sample file name are not define in the q\\n\")\n",
    "    cont = f.write(\"this is me bro sample file name are not define in the q\")\n",
    "    print(cont)\n",
    "except FileNotFoundError:\n",
    "    print(\"file was not created\")\n",
    "finally:\n",
    "    f.close()"
   ]
  },
  {
   "cell_type": "code",
   "execution_count": 24,
   "id": "7bf040b0-bf44-45ea-b266-05ef0d1beb09",
   "metadata": {},
   "outputs": [],
   "source": [
    "# Context manager\n",
    "with open(\"samplefile3.txt\",\"w\") as f:\n",
    "    f.write(\"Hello\\n\")\n",
    "    f.write(\"Hello\\n\")\n",
    "    f.write(\"Hello\\n\")"
   ]
  },
  {
   "cell_type": "code",
   "execution_count": 30,
   "id": "91050031-2e0b-4321-8d91-213d256193cc",
   "metadata": {},
   "outputs": [
    {
     "name": "stdout",
     "output_type": "stream",
     "text": [
      "Hello\n",
      "Hello\n",
      "Hello\n",
      "this hello\n"
     ]
    }
   ],
   "source": [
    "with open(\"samplefile3.txt\",\"r\") as f:\n",
    "    print(f.read())"
   ]
  },
  {
   "cell_type": "code",
   "execution_count": 28,
   "id": "14ce6543-482b-495c-b290-416fcdc2696f",
   "metadata": {},
   "outputs": [],
   "source": [
    "with open(\"samplefile3.txt\",\"a\") as f:\n",
    "    f.write(\"this hello\")"
   ]
  },
  {
   "cell_type": "code",
   "execution_count": 32,
   "id": "64f4e51c-c7e4-4100-9655-e74a98cc21fd",
   "metadata": {},
   "outputs": [
    {
     "name": "stdout",
     "output_type": "stream",
     "text": [
      "Hello\n",
      "\n"
     ]
    }
   ],
   "source": [
    "with open(\"samplefile3.txt\",\"r\") as f:\n",
    "    print(f.readline())"
   ]
  },
  {
   "cell_type": "code",
   "execution_count": 34,
   "id": "95d91f40-039a-49dd-85e5-616b9ae0aed9",
   "metadata": {},
   "outputs": [
    {
     "name": "stdout",
     "output_type": "stream",
     "text": [
      "['Hello\\n', 'Hello\\n', 'Hello\\n', 'this hello']\n"
     ]
    }
   ],
   "source": [
    "with open(\"samplefile3.txt\",\"r\") as f:\n",
    "    print(f.readlines())"
   ]
  },
  {
   "cell_type": "code",
   "execution_count": 38,
   "id": "39d8841b-484b-4985-8c51-01794b2c08f1",
   "metadata": {},
   "outputs": [
    {
     "name": "stdout",
     "output_type": "stream",
     "text": [
      "Hello\n",
      "Hello\n",
      "Hello\n",
      "this hello"
     ]
    }
   ],
   "source": [
    "with open(\"samplefile3.txt\",\"r\") as f:\n",
    "    for line in f:\n",
    "        print(line,end=\"\")"
   ]
  },
  {
   "cell_type": "code",
   "execution_count": 41,
   "id": "8fb3281c-1e33-4943-a91d-5b8c63c9fba9",
   "metadata": {},
   "outputs": [
    {
     "ename": "IndentationError",
     "evalue": "unindent does not match any outer indentation level (<string>, line 5)",
     "output_type": "error",
     "traceback": [
      "\u001b[1;36m  File \u001b[1;32m<string>:5\u001b[1;36m\u001b[0m\n\u001b[1;33m    print(line,end=\"\")\u001b[0m\n\u001b[1;37m                      ^\u001b[0m\n\u001b[1;31mIndentationError\u001b[0m\u001b[1;31m:\u001b[0m unindent does not match any outer indentation level\n"
     ]
    }
   ],
   "source": [
    "with open(\"samplefile3.txt\",\"r\") as f:\n",
    "    for line in f:\n",
    "       if \"this\" in line:\n",
    "           continue\n",
    "        print(line,end=\"\")\n",
    "    else:\n",
    "        "
   ]
  },
  {
   "cell_type": "code",
   "execution_count": 53,
   "id": "e4b05df7-93b2-4b6d-a0b4-3fb0ffe6a666",
   "metadata": {},
   "outputs": [],
   "source": [
    "with open(\"samplefile3.txt\",\"a\") as f:\n",
    "      f.writelines([\"hellobhai1\\n\",\"hellobhai2\",\"hellobhai3\"])"
   ]
  },
  {
   "cell_type": "code",
   "execution_count": 55,
   "id": "d241c322-1be3-4dc2-9a39-a23a8e8d813e",
   "metadata": {},
   "outputs": [
    {
     "name": "stdout",
     "output_type": "stream",
     "text": [
      "Hello\n",
      "Hello\n",
      "Hello\n",
      "this hellohellobhai1hellobhai2hellobhai3hellobhai1hellobhai2hellobhai3hellobhai1\n",
      "hellobhai2hellobhai3\n"
     ]
    }
   ],
   "source": [
    "with open(\"samplefile3.txt\",\"r\") as f:\n",
    "    print(f.read())"
   ]
  },
  {
   "cell_type": "code",
   "execution_count": 64,
   "id": "60ebea01-ec21-4519-9bb6-08c123f96468",
   "metadata": {},
   "outputs": [
    {
     "name": "stdout",
     "output_type": "stream",
     "text": [
      "this is me bro sample file name are not define in the q\n",
      "this is me bro sample file name are not define in the q\n",
      "this is me bro sample file name are not define in the q\n",
      " this is line2\n",
      " this is line2\n",
      " this is line2\n",
      " this is line2\n",
      " this is line2\n",
      "\n",
      "\n",
      "\n"
     ]
    }
   ],
   "source": [
    "with open(\"sample.txt\",\"r+\") as f:\n",
    "    print(f.read())\n",
    "    f.write(\"\\n this is line2\")\n",
    "    print(f.read())\n",
    "    f.write(\"\\n this is line2\")\n",
    "    print(f.read())\n",
    "    f.write(\"\\n this is line2\")\n",
    "    print(f.read())"
   ]
  },
  {
   "cell_type": "code",
   "execution_count": 66,
   "id": "a14c2f5f-db48-4da1-8a2b-4fc83f9c56cf",
   "metadata": {},
   "outputs": [
    {
     "name": "stdout",
     "output_type": "stream",
     "text": [
      "this is new sample line1\n"
     ]
    }
   ],
   "source": [
    "with open(\"newsample.txt\",\"w+\") as f:\n",
    "    f.write(\"this is new sample line1\")\n",
    "    f.seek(0)\n",
    "    print(f.read())"
   ]
  },
  {
   "cell_type": "code",
   "execution_count": 74,
   "id": "886d11ec-8b19-45d0-8418-54ef737917dd",
   "metadata": {},
   "outputs": [
    {
     "name": "stdout",
     "output_type": "stream",
     "text": [
      "1Ali\n",
      "2imran\n",
      "3Asim\n",
      "4bhutto\n",
      "5Asif\n",
      "\n"
     ]
    }
   ],
   "source": [
    "# You are a hotel manager:\n",
    "#     guest check in \n",
    "#     guest check out\n",
    "# enumerate show the value that the loop is on that index \n",
    "guest = [\"Ali\",\"imran\",\"Asim\",\"bhutto\",\"Asif\"]\n",
    "\n",
    "with open(\"guest.txt\",'w+') as f:\n",
    "    for i,guest in enumerate(guest):\n",
    "        f.write(f\"{i+1}{guest}\\n\")\n",
    "    f.seek(0)\n",
    "    print(f.read())\n",
    "    "
   ]
  },
  {
   "cell_type": "code",
   "execution_count": 72,
   "id": "eaa9e894-1692-4440-95b3-e3e99612f8c6",
   "metadata": {},
   "outputs": [],
   "source": [
    "guest_check = [\"bhutto\",\"Asif\"]\n"
   ]
  },
  {
   "cell_type": "code",
   "execution_count": 84,
   "id": "cfc9271b-cd2e-4062-b637-b5af7f0fbc34",
   "metadata": {},
   "outputs": [
    {
     "name": "stdout",
     "output_type": "stream",
     "text": [
      "\n"
     ]
    }
   ],
   "source": [
    "temp_guest = []\n",
    "with open(\"guest.txt\",'w+')as f:\n",
    "    for line in f:\n",
    "        temp_guest.append(line)\n",
    "    for guest in temp_guest:\n",
    "        if guest  not in guest_check:\n",
    "            f.write(f\"{guest}\\n\")\n",
    "    f.seek(1)\n",
    "    print(f.read())"
   ]
  },
  {
   "cell_type": "code",
   "execution_count": 86,
   "id": "1b835e84-47b4-4d61-8e6b-89e594f9414f",
   "metadata": {},
   "outputs": [
    {
     "name": "stdout",
     "output_type": "stream",
     "text": [
      "\n"
     ]
    }
   ],
   "source": [
    "with open(\"guest.txt\",\"r\") as f:\n",
    "    print(f.read())"
   ]
  },
  {
   "cell_type": "code",
   "execution_count": null,
   "id": "5f86151e-e551-4edb-bebd-6be0ed995ed3",
   "metadata": {},
   "outputs": [],
   "source": []
  }
 ],
 "metadata": {
  "kernelspec": {
   "display_name": "Python [conda env:base] *",
   "language": "python",
   "name": "conda-base-py"
  },
  "language_info": {
   "codemirror_mode": {
    "name": "ipython",
    "version": 3
   },
   "file_extension": ".py",
   "mimetype": "text/x-python",
   "name": "python",
   "nbconvert_exporter": "python",
   "pygments_lexer": "ipython3",
   "version": "3.12.7"
  }
 },
 "nbformat": 4,
 "nbformat_minor": 5
}
