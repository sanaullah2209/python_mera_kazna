{
 "cells": [
  {
   "cell_type": "markdown",
   "id": "785e5ec7-181c-4b54-a298-152087651488",
   "metadata": {},
   "source": [
    "# modules \n",
    "    "
   ]
  },
  {
   "cell_type": "code",
   "execution_count": 1,
   "id": "9f8e86a7-91a7-499c-b5d7-dbe8e9653ce9",
   "metadata": {},
   "outputs": [],
   "source": [
    "import math"
   ]
  },
  {
   "cell_type": "code",
   "execution_count": 2,
   "id": "96c8f91d-993f-4804-a946-206cbbd44d1d",
   "metadata": {},
   "outputs": [],
   "source": [
    "import datetime"
   ]
  },
  {
   "cell_type": "code",
   "execution_count": 3,
   "id": "5440a656-6a99-40b2-8aba-e15b368612ae",
   "metadata": {},
   "outputs": [],
   "source": [
    "import os"
   ]
  },
  {
   "cell_type": "code",
   "execution_count": 4,
   "id": "40f9a08b-40ce-4c8b-a706-15b459f8af9b",
   "metadata": {},
   "outputs": [
    {
     "data": {
      "text/plain": [
       "datetime.datetime(2024, 12, 9, 17, 25, 29, 913469)"
      ]
     },
     "execution_count": 4,
     "metadata": {},
     "output_type": "execute_result"
    }
   ],
   "source": [
    "datetime.datetime.now()"
   ]
  },
  {
   "cell_type": "code",
   "execution_count": 5,
   "id": "240c9646-45cf-4b04-a1ea-b3edb25f37aa",
   "metadata": {},
   "outputs": [],
   "source": [
    "import abc"
   ]
  },
  {
   "cell_type": "code",
   "execution_count": 10,
   "id": "01dd1cfa-ab53-49c3-8c21-c466df3ff29b",
   "metadata": {},
   "outputs": [
    {
     "data": {
      "text/plain": [
       "<function __main__.abc()>"
      ]
     },
     "execution_count": 10,
     "metadata": {},
     "output_type": "execute_result"
    }
   ],
   "source": [
    " abc"
   ]
  },
  {
   "cell_type": "code",
   "execution_count": 13,
   "id": "fb8f7a28-5439-40d5-9283-2e3a0dc00f25",
   "metadata": {},
   "outputs": [
    {
     "name": "stdout",
     "output_type": "stream",
     "text": [
      "55\n"
     ]
    }
   ],
   "source": [
    "import abc\n",
    "add(22,33)"
   ]
  },
  {
   "cell_type": "code",
   "execution_count": 15,
   "id": "408f5cfb-8b79-4fec-aa47-f68a172a2a05",
   "metadata": {},
   "outputs": [
    {
     "data": {
      "text/plain": [
       "<module 'abc' (frozen)>"
      ]
     },
     "execution_count": 15,
     "metadata": {},
     "output_type": "execute_result"
    }
   ],
   "source": [
    "abc\n"
   ]
  },
  {
   "cell_type": "code",
   "execution_count": 16,
   "id": "d3267fe6-89dc-40a5-920d-78736cee4d41",
   "metadata": {},
   "outputs": [
    {
     "name": "stdout",
     "output_type": "stream",
     "text": [
      "-22\n"
     ]
    }
   ],
   "source": [
    "subtract(22,44)"
   ]
  },
  {
   "cell_type": "code",
   "execution_count": 19,
   "id": "e09624e1-9a1f-42e2-b77d-c99dc77918f9",
   "metadata": {},
   "outputs": [
    {
     "ename": "AttributeError",
     "evalue": "module 'abc' has no attribute 'master'",
     "output_type": "error",
     "traceback": [
      "\u001b[1;31m---------------------------------------------------------------------------\u001b[0m",
      "\u001b[1;31mAttributeError\u001b[0m                            Traceback (most recent call last)",
      "Cell \u001b[1;32mIn[19], line 1\u001b[0m\n\u001b[1;32m----> 1\u001b[0m abc\u001b[38;5;241m.\u001b[39mmaster()\n",
      "\u001b[1;31mAttributeError\u001b[0m: module 'abc' has no attribute 'master'"
     ]
    }
   ],
   "source": [
    "abc.master()"
   ]
  },
  {
   "cell_type": "markdown",
   "id": "037a7688-bff8-40f8-8ce5-defbad412af2",
   "metadata": {},
   "source": [
    "# Exception handling "
   ]
  },
  {
   "cell_type": "code",
   "execution_count": 1,
   "id": "5af73de0-f28d-4850-9229-bf928c178342",
   "metadata": {},
   "outputs": [
    {
     "name": "stdin",
     "output_type": "stream",
     "text": [
      "enter the number 12\n",
      "enter the number 0\n"
     ]
    },
    {
     "ename": "ZeroDivisionError",
     "evalue": "division by zero",
     "output_type": "error",
     "traceback": [
      "\u001b[1;31m---------------------------------------------------------------------------\u001b[0m",
      "\u001b[1;31mZeroDivisionError\u001b[0m                         Traceback (most recent call last)",
      "Cell \u001b[1;32mIn[1], line 4\u001b[0m\n\u001b[0;32m      1\u001b[0m num \u001b[38;5;241m=\u001b[39m \u001b[38;5;28mint\u001b[39m(\u001b[38;5;28minput\u001b[39m(\u001b[38;5;124m\"\u001b[39m\u001b[38;5;124menter the number\u001b[39m\u001b[38;5;124m\"\u001b[39m))\n\u001b[0;32m      2\u001b[0m num1 \u001b[38;5;241m=\u001b[39m \u001b[38;5;28mint\u001b[39m(\u001b[38;5;28minput\u001b[39m(\u001b[38;5;124m\"\u001b[39m\u001b[38;5;124menter the number\u001b[39m\u001b[38;5;124m\"\u001b[39m))\n\u001b[1;32m----> 4\u001b[0m \u001b[38;5;28mprint\u001b[39m(num\u001b[38;5;241m/\u001b[39mnum1)\n",
      "\u001b[1;31mZeroDivisionError\u001b[0m: division by zero"
     ]
    }
   ],
   "source": [
    "num = int(input(\"enter the number\"))\n",
    "num1 = int(input(\"enter the number\"))\n",
    "\n",
    "print(num/num1)"
   ]
  },
  {
   "cell_type": "code",
   "execution_count": 3,
   "id": "187f1f5d-01f2-4086-a2ad-257162e91de5",
   "metadata": {},
   "outputs": [
    {
     "name": "stdin",
     "output_type": "stream",
     "text": [
      "enter the number ten\n"
     ]
    },
    {
     "name": "stdout",
     "output_type": "stream",
     "text": [
      "bhai sudar jao\n"
     ]
    }
   ],
   "source": [
    "#try expext clause \n",
    "try:\n",
    "    num = int(input(\"enter the number\"))\n",
    "    num1 = int(input(\"enter the number\"))\n",
    "    print(num/num1)\n",
    "except ZeroDivisionError:\n",
    "    print(\"you can not divide buy zero\")\n",
    "except ValueError:\n",
    "    print(\"bhai sudar jao\")"
   ]
  },
  {
   "cell_type": "code",
   "execution_count": 5,
   "id": "75cd3a91-1707-4fc3-9a96-301f367d9e25",
   "metadata": {},
   "outputs": [
    {
     "name": "stdin",
     "output_type": "stream",
     "text": [
      "enter the number 12\n",
      "enter the number 0\n"
     ]
    },
    {
     "name": "stdout",
     "output_type": "stream",
     "text": [
      "division by zero\n"
     ]
    }
   ],
   "source": [
    "#try expext clause \n",
    "try:\n",
    "    num = int(input(\"enter the number\"))\n",
    "    num1 = int(input(\"enter the number\"))\n",
    "    print(num/num1)\n",
    "except Exception as e:\n",
    "    print(e)"
   ]
  },
  {
   "cell_type": "code",
   "execution_count": 8,
   "id": "3122dff8-0ae0-4573-916c-989daf341f81",
   "metadata": {},
   "outputs": [
    {
     "ename": "SyntaxError",
     "evalue": "expected 'except' or 'finally' block (817064257.py, line 11)",
     "output_type": "error",
     "traceback": [
      "\u001b[1;36m  Cell \u001b[1;32mIn[8], line 11\u001b[1;36m\u001b[0m\n\u001b[1;33m    users.append(user_name)\u001b[0m\n\u001b[1;37m    ^\u001b[0m\n\u001b[1;31mSyntaxError\u001b[0m\u001b[1;31m:\u001b[0m expected 'except' or 'finally' block\n"
     ]
    }
   ],
   "source": [
    "users = []\n",
    "\n",
    "while True:\n",
    "    user_name = input(\"enter a username\")\n",
    "    if user_name == \"q\":\n",
    "        break\n",
    "    try:\n",
    "        \n",
    "        if user_name in users:\n",
    "          raise Exception(\"Users name already exist \")\n",
    "    users.append(user_name)\n",
    "    except Exception as e:\n",
    "     print(e)\n",
    "    \n",
    " \n"
   ]
  },
  {
   "cell_type": "code",
   "execution_count": 20,
   "id": "eb72a762-9a7f-422c-970b-a0d09a86ad51",
   "metadata": {},
   "outputs": [
    {
     "ename": "IndentationError",
     "evalue": "unindent does not match any outer indentation level (<string>, line 4)",
     "output_type": "error",
     "traceback": [
      "\u001b[1;36m  File \u001b[1;32m<string>:4\u001b[1;36m\u001b[0m\n\u001b[1;33m    if age < 18:\u001b[0m\n\u001b[1;37m                ^\u001b[0m\n\u001b[1;31mIndentationError\u001b[0m\u001b[1;31m:\u001b[0m unindent does not match any outer indentation level\n"
     ]
    }
   ],
   "source": [
    "try:\n",
    "   name = input(\"enter your Name \")\n",
    "   age = int(input(\"enter your age \"))\n",
    " if age < 18:\n",
    "         raise Exception(\"you are not old enoght\")\n",
    " elif age >= 100:\n",
    "         raise Exception(\"You are too old \")\n",
    "except Exception as e: \n",
    "  print(\"age ka masla ha\",{e})\n"
   ]
  },
  {
   "cell_type": "code",
   "execution_count": 25,
   "id": "be0cbc1f-0932-4e49-84a9-91a3d558ca6e",
   "metadata": {},
   "outputs": [
    {
     "name": "stdin",
     "output_type": "stream",
     "text": [
      "enter the number 12\n",
      "enter the number 0\n"
     ]
    },
    {
     "name": "stdout",
     "output_type": "stream",
     "text": [
      "0.0\n"
     ]
    }
   ],
   "source": [
    "try:\n",
    "    num = int(input(\"enter the number\"))\n",
    "    num1 = int(input(\"enter the number\"))\n",
    "    result = num1/num\n",
    "    print(result)\n",
    "except Exception as e:\n",
    "    print(e)\n"
   ]
  },
  {
   "cell_type": "code",
   "execution_count": null,
   "id": "d066ed7b-34ff-43ca-957f-c6c711b5e72a",
   "metadata": {},
   "outputs": [],
   "source": []
  }
 ],
 "metadata": {
  "kernelspec": {
   "display_name": "Python [conda env:base] *",
   "language": "python",
   "name": "conda-base-py"
  },
  "language_info": {
   "codemirror_mode": {
    "name": "ipython",
    "version": 3
   },
   "file_extension": ".py",
   "mimetype": "text/x-python",
   "name": "python",
   "nbconvert_exporter": "python",
   "pygments_lexer": "ipython3",
   "version": "3.12.7"
  }
 },
 "nbformat": 4,
 "nbformat_minor": 5
}
