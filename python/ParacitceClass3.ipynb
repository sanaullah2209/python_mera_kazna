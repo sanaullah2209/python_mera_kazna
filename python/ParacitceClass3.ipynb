{
 "cells": [
  {
   "cell_type": "code",
   "execution_count": 1,
   "id": "c0e5da1f-7faa-4414-9315-5afe3bf8381d",
   "metadata": {},
   "outputs": [],
   "source": [
    "course = \"tum emer dfads\""
   ]
  },
  {
   "cell_type": "code",
   "execution_count": 2,
   "id": "4903d960-6258-468c-9e0f-572356a2e497",
   "metadata": {},
   "outputs": [
    {
     "name": "stdout",
     "output_type": "stream",
     "text": [
      "<class 'str'>\n"
     ]
    }
   ],
   "source": [
    "print(type(course))"
   ]
  },
  {
   "cell_type": "code",
   "execution_count": 3,
   "id": "6af870d7-39f7-4bab-bdff-a9c5ec8d5169",
   "metadata": {},
   "outputs": [
    {
     "data": {
      "text/plain": [
       "'MASTER THE ART PROGRAM'"
      ]
     },
     "execution_count": 3,
     "metadata": {},
     "output_type": "execute_result"
    }
   ],
   "source": [
    "course.upper()"
   ]
  },
  {
   "cell_type": "code",
   "execution_count": 4,
   "id": "a5431a37-62d6-4053-87f8-66acd52d0dee",
   "metadata": {},
   "outputs": [
    {
     "data": {
      "text/plain": [
       "'Master The Art Program'"
      ]
     },
     "execution_count": 4,
     "metadata": {},
     "output_type": "execute_result"
    }
   ],
   "source": [
    "course.title()"
   ]
  },
  {
   "cell_type": "code",
   "execution_count": 5,
   "id": "1762ce70-7f38-44dd-9414-71bb0527e0b4",
   "metadata": {},
   "outputs": [
    {
     "data": {
      "text/plain": [
       "'Master the art program'"
      ]
     },
     "execution_count": 5,
     "metadata": {},
     "output_type": "execute_result"
    }
   ],
   "source": [
    "course.capitalize()"
   ]
  },
  {
   "cell_type": "code",
   "execution_count": 18,
   "id": "0b5278c2-8878-42bc-83ed-3dd52931d314",
   "metadata": {},
   "outputs": [
    {
     "data": {
      "text/plain": [
       "'master the art program'"
      ]
     },
     "execution_count": 18,
     "metadata": {},
     "output_type": "execute_result"
    }
   ],
   "source": [
    "course.translate(course)"
   ]
  },
  {
   "cell_type": "code",
   "execution_count": null,
   "id": "75dfd888-cefa-4477-a49c-9b97fc7aa8fa",
   "metadata": {},
   "outputs": [],
   "source": []
  },
  {
   "cell_type": "code",
   "execution_count": null,
   "id": "22a6008f-9675-48ca-b425-376fd722d09d",
   "metadata": {},
   "outputs": [],
   "source": []
  }
 ],
 "metadata": {
  "kernelspec": {
   "display_name": "Python 3 (ipykernel)",
   "language": "python",
   "name": "python3"
  },
  "language_info": {
   "codemirror_mode": {
    "name": "ipython",
    "version": 3
   },
   "file_extension": ".py",
   "mimetype": "text/x-python",
   "name": "python",
   "nbconvert_exporter": "python",
   "pygments_lexer": "ipython3",
   "version": "3.12.7"
  },
  "panel-cell-order": [
   "f94bfd62-583c-4077-907c-d38b2856cba2"
  ]
 },
 "nbformat": 4,
 "nbformat_minor": 5
}
