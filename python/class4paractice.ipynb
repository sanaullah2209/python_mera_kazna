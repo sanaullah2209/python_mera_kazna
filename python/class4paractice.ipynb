{
 "cells": [
  {
   "cell_type": "code",
   "execution_count": 1,
   "id": "21200311-9a10-4b0b-a2de-194cb497e161",
   "metadata": {},
   "outputs": [],
   "source": [
    "students = [ 'sanaullah','master ','imran khan','kameem','baber','khan']"
   ]
  },
  {
   "cell_type": "code",
   "execution_count": 2,
   "id": "31817b1e-2535-431c-a48a-4338ae37abe9",
   "metadata": {},
   "outputs": [
    {
     "data": {
      "text/plain": [
       "['sanaullah', 'master ', 'imran khan', 'kameem', 'baber', 'khan']"
      ]
     },
     "execution_count": 2,
     "metadata": {},
     "output_type": "execute_result"
    }
   ],
   "source": [
    "students"
   ]
  },
  {
   "cell_type": "code",
   "execution_count": 3,
   "id": "74d1eef5-982f-4fe9-bf94-010b272d8780",
   "metadata": {},
   "outputs": [],
   "source": [
    "students.append(\"abbu ji\")"
   ]
  },
  {
   "cell_type": "code",
   "execution_count": 4,
   "id": "61da06e0-ba1c-48c3-9202-b8b7b550779b",
   "metadata": {},
   "outputs": [
    {
     "data": {
      "text/plain": [
       "['sanaullah', 'master ', 'imran khan', 'kameem', 'baber', 'khan', 'abbu ji']"
      ]
     },
     "execution_count": 4,
     "metadata": {},
     "output_type": "execute_result"
    }
   ],
   "source": [
    "students"
   ]
  },
  {
   "cell_type": "code",
   "execution_count": 5,
   "id": "a5c2d499-0c5e-4836-8044-7332ba6946eb",
   "metadata": {},
   "outputs": [],
   "source": [
    "students.insert(0,'nawab bhai')"
   ]
  },
  {
   "cell_type": "code",
   "execution_count": 6,
   "id": "a102ce25-85e9-4efe-88f4-0501a9e2cf7c",
   "metadata": {},
   "outputs": [
    {
     "data": {
      "text/plain": [
       "['nawab bhai',\n",
       " 'sanaullah',\n",
       " 'master ',\n",
       " 'imran khan',\n",
       " 'kameem',\n",
       " 'baber',\n",
       " 'khan',\n",
       " 'abbu ji']"
      ]
     },
     "execution_count": 6,
     "metadata": {},
     "output_type": "execute_result"
    }
   ],
   "source": [
    "students"
   ]
  },
  {
   "cell_type": "code",
   "execution_count": 7,
   "id": "b87ec9b6-5c1a-4782-9c72-485eca11a2cb",
   "metadata": {},
   "outputs": [],
   "source": [
    "students.reverse()"
   ]
  },
  {
   "cell_type": "code",
   "execution_count": 8,
   "id": "5acb7781-6af8-4542-87a3-5c4e46b32d83",
   "metadata": {},
   "outputs": [
    {
     "data": {
      "text/plain": [
       "['abbu ji',\n",
       " 'khan',\n",
       " 'baber',\n",
       " 'kameem',\n",
       " 'imran khan',\n",
       " 'master ',\n",
       " 'sanaullah',\n",
       " 'nawab bhai']"
      ]
     },
     "execution_count": 8,
     "metadata": {},
     "output_type": "execute_result"
    }
   ],
   "source": [
    "students"
   ]
  },
  {
   "cell_type": "code",
   "execution_count": 9,
   "id": "f73d03e0-34c2-41d4-ba93-d51d76fabf69",
   "metadata": {},
   "outputs": [],
   "source": [
    "students.sort()"
   ]
  },
  {
   "cell_type": "code",
   "execution_count": 10,
   "id": "785c7721-00a9-45e4-a037-080fd6eea452",
   "metadata": {},
   "outputs": [
    {
     "data": {
      "text/plain": [
       "['abbu ji',\n",
       " 'baber',\n",
       " 'imran khan',\n",
       " 'kameem',\n",
       " 'khan',\n",
       " 'master ',\n",
       " 'nawab bhai',\n",
       " 'sanaullah']"
      ]
     },
     "execution_count": 10,
     "metadata": {},
     "output_type": "execute_result"
    }
   ],
   "source": [
    "students"
   ]
  },
  {
   "cell_type": "code",
   "execution_count": 11,
   "id": "1f69fa8a-01c4-4805-9849-f3efb2dfde73",
   "metadata": {},
   "outputs": [],
   "source": [
    "students.extend(\"master the art\")"
   ]
  },
  {
   "cell_type": "code",
   "execution_count": 12,
   "id": "495e83c6-da12-4469-b458-106b1b41247a",
   "metadata": {
    "scrolled": true
   },
   "outputs": [
    {
     "data": {
      "text/plain": [
       "['abbu ji',\n",
       " 'baber',\n",
       " 'imran khan',\n",
       " 'kameem',\n",
       " 'khan',\n",
       " 'master ',\n",
       " 'nawab bhai',\n",
       " 'sanaullah',\n",
       " 'm',\n",
       " 'a',\n",
       " 's',\n",
       " 't',\n",
       " 'e',\n",
       " 'r',\n",
       " ' ',\n",
       " 't',\n",
       " 'h',\n",
       " 'e',\n",
       " ' ',\n",
       " 'a',\n",
       " 'r',\n",
       " 't']"
      ]
     },
     "execution_count": 12,
     "metadata": {},
     "output_type": "execute_result"
    }
   ],
   "source": [
    "students"
   ]
  },
  {
   "cell_type": "code",
   "execution_count": 13,
   "id": "6f6c7193-50e9-4f31-bae7-82d459e37bfe",
   "metadata": {},
   "outputs": [],
   "source": [
    "name = \"sanaullah\"\n",
    "del name"
   ]
  },
  {
   "cell_type": "code",
   "execution_count": 15,
   "id": "ae311da8-4c25-492d-9d0f-5da7cebf1a68",
   "metadata": {},
   "outputs": [],
   "source": [
    "del students[0]"
   ]
  },
  {
   "cell_type": "code",
   "execution_count": 16,
   "id": "54730c06-17e0-4e18-bc9c-c476d4f97366",
   "metadata": {},
   "outputs": [
    {
     "data": {
      "text/plain": [
       "['baber',\n",
       " 'imran khan',\n",
       " 'kameem',\n",
       " 'khan',\n",
       " 'master ',\n",
       " 'nawab bhai',\n",
       " 'sanaullah',\n",
       " 'm',\n",
       " 'a',\n",
       " 's',\n",
       " 't',\n",
       " 'e',\n",
       " 'r',\n",
       " ' ',\n",
       " 't',\n",
       " 'h',\n",
       " 'e',\n",
       " ' ',\n",
       " 'a',\n",
       " 'r',\n",
       " 't']"
      ]
     },
     "execution_count": 16,
     "metadata": {},
     "output_type": "execute_result"
    }
   ],
   "source": [
    "students"
   ]
  },
  {
   "cell_type": "code",
   "execution_count": 18,
   "id": "ff5d3aff-0240-4ca5-a866-0fb276533ed5",
   "metadata": {},
   "outputs": [],
   "source": [
    "students.remove(\"khan\")"
   ]
  },
  {
   "cell_type": "code",
   "execution_count": 19,
   "id": "667b467e-e1f7-482e-b694-0a7d8cbc0ef1",
   "metadata": {},
   "outputs": [
    {
     "data": {
      "text/plain": [
       "['baber',\n",
       " 'imran khan',\n",
       " 'kameem',\n",
       " 'master ',\n",
       " 'nawab bhai',\n",
       " 'sanaullah',\n",
       " 'm',\n",
       " 'a',\n",
       " 's',\n",
       " 't',\n",
       " 'e',\n",
       " 'r',\n",
       " ' ',\n",
       " 't',\n",
       " 'h',\n",
       " 'e',\n",
       " ' ',\n",
       " 'a',\n",
       " 'r',\n",
       " 't']"
      ]
     },
     "execution_count": 19,
     "metadata": {},
     "output_type": "execute_result"
    }
   ],
   "source": [
    "students"
   ]
  },
  {
   "cell_type": "code",
   "execution_count": 20,
   "id": "3dbb7787-b785-4773-8c47-645f0814f68b",
   "metadata": {},
   "outputs": [
    {
     "data": {
      "text/plain": [
       "'t'"
      ]
     },
     "execution_count": 20,
     "metadata": {},
     "output_type": "execute_result"
    }
   ],
   "source": [
    "students.pop()"
   ]
  },
  {
   "cell_type": "code",
   "execution_count": 21,
   "id": "78171cb8-0525-4d47-8541-cb447ec7cdb9",
   "metadata": {},
   "outputs": [
    {
     "data": {
      "text/plain": [
       "['baber',\n",
       " 'imran khan',\n",
       " 'kameem',\n",
       " 'master ',\n",
       " 'nawab bhai',\n",
       " 'sanaullah',\n",
       " 'm',\n",
       " 'a',\n",
       " 's',\n",
       " 't',\n",
       " 'e',\n",
       " 'r',\n",
       " ' ',\n",
       " 't',\n",
       " 'h',\n",
       " 'e',\n",
       " ' ',\n",
       " 'a',\n",
       " 'r']"
      ]
     },
     "execution_count": 21,
     "metadata": {},
     "output_type": "execute_result"
    }
   ],
   "source": [
    "students"
   ]
  },
  {
   "cell_type": "code",
   "execution_count": 24,
   "id": "26d989f1-fb14-4010-b680-e8f09aba5ce3",
   "metadata": {},
   "outputs": [
    {
     "data": {
      "text/plain": [
       "111"
      ]
     },
     "execution_count": 24,
     "metadata": {},
     "output_type": "execute_result"
    }
   ],
   "source": [
    "ord(\"o\")"
   ]
  },
  {
   "cell_type": "code",
   "execution_count": 25,
   "id": "4ca79745-02ca-40bd-adf5-19425d4a0cf0",
   "metadata": {},
   "outputs": [
    {
     "data": {
      "text/plain": [
       "1818342136960"
      ]
     },
     "execution_count": 25,
     "metadata": {},
     "output_type": "execute_result"
    }
   ],
   "source": [
    "id(students)"
   ]
  },
  {
   "cell_type": "code",
   "execution_count": null,
   "id": "cb4cb9bc-ece3-4f60-a89c-43305ba14a9f",
   "metadata": {},
   "outputs": [],
   "source": []
  }
 ],
 "metadata": {
  "kernelspec": {
   "display_name": "Python 3 (ipykernel)",
   "language": "python",
   "name": "python3"
  },
  "language_info": {
   "codemirror_mode": {
    "name": "ipython",
    "version": 3
   },
   "file_extension": ".py",
   "mimetype": "text/x-python",
   "name": "python",
   "nbconvert_exporter": "python",
   "pygments_lexer": "ipython3",
   "version": "3.12.7"
  },
  "panel-cell-order": [
   "f94bfd62-583c-4077-907c-d38b2856cba2"
  ]
 },
 "nbformat": 4,
 "nbformat_minor": 5
}
